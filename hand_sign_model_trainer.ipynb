{
 "cells": [
  {
   "cell_type": "markdown",
   "source": [
    "# <font color=orange>ASL-Netz Training</font>\n",
    "***\n",
    "***"
   ],
   "metadata": {
    "collapsed": false
   }
  },
  {
   "cell_type": "code",
   "execution_count": 1,
   "metadata": {
    "ExecuteTime": {
     "end_time": "2024-06-25T19:36:33.423487Z",
     "start_time": "2024-06-25T19:36:25.594859Z"
    }
   },
   "outputs": [],
   "source": [
    "import csv\n",
    "\n",
    "import numpy as np\n",
    "import tensorflow as tf\n",
    "from sklearn.model_selection import train_test_split\n",
    "from sklearn.preprocessing import LabelEncoder\n",
    "from tensorflow.keras.callbacks import LearningRateScheduler\n",
    "\n",
    "RANDOM_SEED = 42"
   ]
  },
  {
   "cell_type": "markdown",
   "metadata": {},
   "source": [
    "***\n",
    "## Modellauswahl\n",
    "### 4a, 4b, 5a, 5b, 6a, 6b, ctrl"
   ]
  },
  {
   "cell_type": "code",
   "execution_count": 2,
   "metadata": {
    "collapsed": false,
    "ExecuteTime": {
     "end_time": "2024-06-25T19:36:33.439192Z",
     "start_time": "2024-06-25T19:36:33.425464Z"
    }
   },
   "outputs": [
    {
     "name": "stdout",
     "output_type": "stream",
     "text": [
      "Model:\tctrl\n"
     ]
    }
   ],
   "source": [
    "model_version = \"ctrl\"\n",
    "epochs = 300\n",
    "print(\"Model:\\t\" + model_version)"
   ]
  },
  {
   "cell_type": "markdown",
   "source": [
    "***\n",
    "## <br>Pfadmanagement"
   ],
   "metadata": {
    "collapsed": false
   }
  },
  {
   "cell_type": "code",
   "outputs": [],
   "source": [
    "if model_version == \"ctrl\":\n",
    "    model_folder_file = \"controlModel\\\\control_classifier\"\n",
    "    eval_subfolder = \"Control\\\\\"\n",
    "    NUM_CLASSES = 2\n",
    "else:\n",
    "    model_folder_file = \"modelB\\\\ASLclassifier\"\n",
    "    eval_subfolder = \"ASL\\\\\"\n",
    "    NUM_CLASSES = 28\n",
    "\n",
    "model_save_path = \"model\\\\customModel\\\\\" + model_folder_file + model_version + \".hdf5\"\n",
    "tflite_save_path = \"model\\\\customModel\\\\\" + model_folder_file + model_version + \".tflite\"\n",
    "\n",
    "evaluation_folder = \"evaluation\\\\\" + eval_subfolder\n",
    "confmat_path = evaluation_folder + \"confusionMatrix\" + model_version + \".png\"\n",
    "classrep_path = evaluation_folder + \"classificationReport\" + model_version + \".csv\"\n",
    "architecture_path = evaluation_folder + \"architecture\" + model_version + \".png\"\n",
    "traingraph_path = evaluation_folder + \"trainingHistory\" + model_version + \".png\""
   ],
   "metadata": {
    "ExecuteTime": {
     "end_time": "2024-06-25T19:36:33.454240Z",
     "start_time": "2024-06-25T19:36:33.441713Z"
    }
   },
   "execution_count": 3
  },
  {
   "cell_type": "markdown",
   "metadata": {},
   "source": [
    "## Modellkonfiguration"
   ]
  },
  {
   "cell_type": "code",
   "outputs": [],
   "source": [
    "match model_version:\n",
    "    case \"4a\" | \"4b\":\n",
    "        model = tf.keras.models.Sequential([\n",
    "            tf.keras.layers.Input((61, )),\n",
    "            tf.keras.layers.Dropout(0.15),\n",
    "            tf.keras.layers.Dense(80, activation='relu'),\n",
    "            tf.keras.layers.Dropout(0.15),\n",
    "            tf.keras.layers.Dense(50, activation='relu'),\n",
    "            tf.keras.layers.Dense(NUM_CLASSES, activation='softmax')\n",
    "        ])\n",
    "        col_lst = [1] + list(range(5, 65))\n",
    "        if model_version == \"4a\":\n",
    "            csv_file = \"keypoints\\\\keypointB_3D_full.csv\"\n",
    "        else:\n",
    "            csv_file = \"keypoints\\\\keypointB_3D_augmented.csv\"\n",
    "        \n",
    "    case \"5a\":\n",
    "        model = tf.keras.models.Sequential([\n",
    "            tf.keras.layers.Input((14, )),\n",
    "            tf.keras.layers.Dropout(0.15),\n",
    "            tf.keras.layers.Dense(22, activation='relu'),\n",
    "            tf.keras.layers.Dense(NUM_CLASSES, activation='softmax')\n",
    "        ])\n",
    "        col_lst = list([1, 2, 3, 4, 5, 6, 8, 9, 11, 12, 14, 15, 17, 18])\n",
    "        csv_file = \"keypoints\\\\keypointB_angles_3D.csv\"\n",
    "        \n",
    "    case \"5b\":\n",
    "        model = tf.keras.models.Sequential([\n",
    "            tf.keras.layers.Input((19, )),\n",
    "            tf.keras.layers.Dropout(0.15),\n",
    "            tf.keras.layers.Dense(24, activation='relu'),\n",
    "            tf.keras.layers.Dense(NUM_CLASSES, activation='softmax')\n",
    "        ])\n",
    "        col_lst = list(range(1, 20))\n",
    "        csv_file = \"keypoints\\\\keypointB_angles_3D.csv\"\n",
    "        \n",
    "    case \"6a\":\n",
    "        model = tf.keras.models.Sequential([\n",
    "            tf.keras.layers.Input((7, )),\n",
    "            tf.keras.layers.Dropout(0.15),\n",
    "            tf.keras.layers.Dense(22, activation='relu'),\n",
    "            tf.keras.layers.Dense(NUM_CLASSES, activation='softmax')\n",
    "        ])\n",
    "        col_lst = list([1, 2, 4, 6, 8, 10, 12])\n",
    "        csv_file = \"keypoints\\\\keypointB_angles_2D.csv\"\n",
    "        \n",
    "    case \"6b\":\n",
    "        model = tf.keras.models.Sequential([\n",
    "            tf.keras.layers.Input((13, )),\n",
    "            tf.keras.layers.Dropout(0.15),\n",
    "            tf.keras.layers.Dense(21, activation='relu'),\n",
    "            tf.keras.layers.Dense(NUM_CLASSES, activation='softmax')\n",
    "        ])\n",
    "        col_lst = list(range(1, 14))\n",
    "        csv_file = \"keypoints\\\\keypointB_angles_2D.csv\"\n",
    "        \n",
    "    case \"ctrl\":\n",
    "        model = tf.keras.models.Sequential([\n",
    "            tf.keras.layers.Input((61, )),\n",
    "            tf.keras.layers.Dropout(0.15),\n",
    "            tf.keras.layers.Dense(40, activation='relu'),\n",
    "            # tf.keras.layers.Dropout(0.15),\n",
    "            # tf.keras.layers.Dense(20, activation='relu'),\n",
    "            tf.keras.layers.Dense(NUM_CLASSES, activation='softmax')\n",
    "        ])\n",
    "        col_lst = [1] + list(range(5, 65))\n",
    "        csv_file = \"keypoints\\\\keypointControl_1.csv\"\n",
    "        \n",
    "    case _:\n",
    "        model, col_lst, csv_file = [], [], []\n",
    "        raise ValueError(f\"Invalid model version {model_version}\")"
   ],
   "metadata": {
    "collapsed": false,
    "ExecuteTime": {
     "end_time": "2024-06-25T19:36:34.854543Z",
     "start_time": "2024-06-25T19:36:33.456242Z"
    }
   },
   "execution_count": 4
  },
  {
   "cell_type": "markdown",
   "source": [
    "## Trainingsdaten-Konfiguration"
   ],
   "metadata": {
    "collapsed": false
   }
  },
  {
   "cell_type": "code",
   "execution_count": 5,
   "metadata": {
    "ExecuteTime": {
     "end_time": "2024-06-25T19:36:35.166857Z",
     "start_time": "2024-06-25T19:36:34.856553Z"
    }
   },
   "outputs": [],
   "source": [
    "X_dataset = np.loadtxt(csv_file, delimiter=',', dtype='float32', usecols=col_lst)"
   ]
  },
  {
   "cell_type": "code",
   "execution_count": 6,
   "metadata": {
    "ExecuteTime": {
     "end_time": "2024-06-25T19:36:35.213576Z",
     "start_time": "2024-06-25T19:36:35.170381Z"
    }
   },
   "outputs": [],
   "source": [
    "y_dataset = np.loadtxt(csv_file, delimiter=',', dtype='<U8', usecols=0)"
   ]
  },
  {
   "cell_type": "code",
   "execution_count": 7,
   "metadata": {
    "ExecuteTime": {
     "end_time": "2024-06-25T19:36:35.290699Z",
     "start_time": "2024-06-25T19:36:35.215576Z"
    }
   },
   "outputs": [],
   "source": [
    "X_train, X_test, y_train, y_test = train_test_split(X_dataset, y_dataset, train_size=0.8, random_state=RANDOM_SEED)"
   ]
  },
  {
   "cell_type": "code",
   "execution_count": 8,
   "outputs": [],
   "source": [
    "# Initialize LabelEncoder\n",
    "label_encoder = LabelEncoder()\n",
    "\n",
    "# Fit and transform the target data to integers\n",
    "y_train_encoded = label_encoder.fit_transform(y_train)\n",
    "y_test_encoded = label_encoder.transform(y_test)"
   ],
   "metadata": {
    "collapsed": false,
    "ExecuteTime": {
     "end_time": "2024-06-25T19:36:35.306224Z",
     "start_time": "2024-06-25T19:36:35.294701Z"
    }
   }
  },
  {
   "cell_type": "markdown",
   "metadata": {},
   "source": [
    "## Modellübersicht"
   ]
  },
  {
   "cell_type": "code",
   "execution_count": 9,
   "metadata": {
    "ExecuteTime": {
     "end_time": "2024-06-25T19:36:35.338308Z",
     "start_time": "2024-06-25T19:36:35.309225Z"
    }
   },
   "outputs": [
    {
     "name": "stdout",
     "output_type": "stream",
     "text": [
      "Model: \"sequential\"\n",
      "_________________________________________________________________\n",
      " Layer (type)                Output Shape              Param #   \n",
      "=================================================================\n",
      " dropout (Dropout)           (None, 61)                0         \n",
      "                                                                 \n",
      " dense (Dense)               (None, 40)                2480      \n",
      "                                                                 \n",
      " dense_1 (Dense)             (None, 2)                 82        \n",
      "                                                                 \n",
      "=================================================================\n",
      "Total params: 2,562\n",
      "Trainable params: 2,562\n",
      "Non-trainable params: 0\n",
      "_________________________________________________________________\n"
     ]
    }
   ],
   "source": [
    "model.summary()"
   ]
  },
  {
   "cell_type": "code",
   "outputs": [
    {
     "data": {
      "image/png": "[encoded data removed]",
      "text/plain": "<IPython.core.display.Image object>"
     },
     "execution_count": 10,
     "metadata": {},
     "output_type": "execute_result"
    }
   ],
   "source": [
    "tf.keras.utils.plot_model(model, show_shapes=True)"
   ],
   "metadata": {
    "collapsed": false,
    "ExecuteTime": {
     "end_time": "2024-06-25T19:36:36.557935Z",
     "start_time": "2024-06-25T19:36:35.339815Z"
    }
   },
   "execution_count": 10
  },
  {
   "cell_type": "markdown",
   "source": [
    "## Konfiguration des Trainingsablaufs"
   ],
   "metadata": {
    "collapsed": false
   }
  },
  {
   "cell_type": "code",
   "execution_count": 11,
   "metadata": {
    "ExecuteTime": {
     "end_time": "2024-06-25T19:36:36.572981Z",
     "start_time": "2024-06-25T19:36:36.559442Z"
    }
   },
   "outputs": [],
   "source": [
    "# cp_callback = tf.keras.callbacks.ModelCheckpoint(model_save_path, verbose=1, save_weights_only=False)\n",
    "es_callback = tf.keras.callbacks.EarlyStopping(patience=10, verbose=1)"
   ]
  },
  {
   "cell_type": "code",
   "execution_count": 12,
   "outputs": [],
   "source": [
    "lr_schedule = LearningRateScheduler(lambda epoch: 0.0001 + 0.001 ** (1 + epoch/50))"
   ],
   "metadata": {
    "collapsed": false,
    "ExecuteTime": {
     "end_time": "2024-06-25T19:36:36.589003Z",
     "start_time": "2024-06-25T19:36:36.573982Z"
    }
   }
  },
  {
   "cell_type": "code",
   "execution_count": 13,
   "metadata": {
    "ExecuteTime": {
     "end_time": "2024-06-25T19:36:36.620566Z",
     "start_time": "2024-06-25T19:36:36.592020Z"
    }
   },
   "outputs": [],
   "source": [
    "model.compile(\n",
    "    optimizer='adam',\n",
    "    loss='sparse_categorical_crossentropy',\n",
    "    metrics=['accuracy']    # , 'Precision', 'Recall'\n",
    ")"
   ]
  },
  {
   "cell_type": "markdown",
   "metadata": {},
   "source": [
    "## <font color=orange>Training</font>"
   ]
  },
  {
   "cell_type": "code",
   "execution_count": 14,
   "metadata": {
    "scrolled": true,
    "ExecuteTime": {
     "end_time": "2024-06-25T19:36:54.624895Z",
     "start_time": "2024-06-25T19:36:36.622573Z"
    }
   },
   "outputs": [
    {
     "name": "stdout",
     "output_type": "stream",
     "text": [
      "Epoch 1/300\n",
      "8/8 [==============================] - 2s 40ms/step - loss: 0.6911 - accuracy: 0.5727 - val_loss: 0.4316 - val_accuracy: 0.8720 - lr: 0.0011\n",
      "Epoch 2/300\n",
      "8/8 [==============================] - 0s 6ms/step - loss: 0.3772 - accuracy: 0.8806 - val_loss: 0.2843 - val_accuracy: 0.9240 - lr: 9.7096e-04\n",
      "Epoch 3/300\n",
      "8/8 [==============================] - 0s 6ms/step - loss: 0.2971 - accuracy: 0.9087 - val_loss: 0.2418 - val_accuracy: 0.9320 - lr: 8.5858e-04\n",
      "Epoch 4/300\n",
      "8/8 [==============================] - 0s 6ms/step - loss: 0.2747 - accuracy: 0.9127 - val_loss: 0.2219 - val_accuracy: 0.9320 - lr: 7.6069e-04\n",
      "Epoch 5/300\n",
      "8/8 [==============================] - 0s 6ms/step - loss: 0.2587 - accuracy: 0.9157 - val_loss: 0.2072 - val_accuracy: 0.9320 - lr: 6.7544e-04\n",
      "Epoch 6/300\n",
      "8/8 [==============================] - 0s 6ms/step - loss: 0.2475 - accuracy: 0.9147 - val_loss: 0.1940 - val_accuracy: 0.9320 - lr: 6.0119e-04\n",
      "Epoch 7/300\n",
      "8/8 [==============================] - 0s 6ms/step - loss: 0.2311 - accuracy: 0.9137 - val_loss: 0.1820 - val_accuracy: 0.9320 - lr: 5.3652e-04\n",
      "Epoch 8/300\n",
      "8/8 [==============================] - 0s 6ms/step - loss: 0.2209 - accuracy: 0.9157 - val_loss: 0.1719 - val_accuracy: 0.9320 - lr: 4.8019e-04\n",
      "Epoch 9/300\n",
      "8/8 [==============================] - 0s 6ms/step - loss: 0.2125 - accuracy: 0.9157 - val_loss: 0.1631 - val_accuracy: 0.9320 - lr: 4.3113e-04\n",
      "Epoch 10/300\n",
      "8/8 [==============================] - 0s 6ms/step - loss: 0.2071 - accuracy: 0.9157 - val_loss: 0.1551 - val_accuracy: 0.9320 - lr: 3.8840e-04\n",
      "Epoch 11/300\n",
      "8/8 [==============================] - 0s 6ms/step - loss: 0.2029 - accuracy: 0.9137 - val_loss: 0.1484 - val_accuracy: 0.9320 - lr: 3.5119e-04\n",
      "Epoch 12/300\n",
      "8/8 [==============================] - 0s 7ms/step - loss: 0.1935 - accuracy: 0.9168 - val_loss: 0.1427 - val_accuracy: 0.9320 - lr: 3.1878e-04\n",
      "Epoch 13/300\n",
      "8/8 [==============================] - 0s 6ms/step - loss: 0.1917 - accuracy: 0.9168 - val_loss: 0.1375 - val_accuracy: 0.9320 - lr: 2.9055e-04\n",
      "Epoch 14/300\n",
      "8/8 [==============================] - 0s 6ms/step - loss: 0.1868 - accuracy: 0.9188 - val_loss: 0.1331 - val_accuracy: 0.9360 - lr: 2.6596e-04\n",
      "Epoch 15/300\n",
      "8/8 [==============================] - 0s 9ms/step - loss: 0.1764 - accuracy: 0.9157 - val_loss: 0.1291 - val_accuracy: 0.9360 - lr: 2.4454e-04\n",
      "Epoch 16/300\n",
      "8/8 [==============================] - 0s 6ms/step - loss: 0.1755 - accuracy: 0.9208 - val_loss: 0.1258 - val_accuracy: 0.9360 - lr: 2.2589e-04\n",
      "Epoch 17/300\n",
      "8/8 [==============================] - 0s 6ms/step - loss: 0.1676 - accuracy: 0.9278 - val_loss: 0.1228 - val_accuracy: 0.9360 - lr: 2.0965e-04\n",
      "Epoch 18/300\n",
      "8/8 [==============================] - 0s 6ms/step - loss: 0.1726 - accuracy: 0.9228 - val_loss: 0.1200 - val_accuracy: 0.9360 - lr: 1.9550e-04\n",
      "Epoch 19/300\n",
      "8/8 [==============================] - 0s 7ms/step - loss: 0.1614 - accuracy: 0.9278 - val_loss: 0.1176 - val_accuracy: 0.9360 - lr: 1.8318e-04\n",
      "Epoch 20/300\n",
      "8/8 [==============================] - 0s 7ms/step - loss: 0.1614 - accuracy: 0.9278 - val_loss: 0.1154 - val_accuracy: 0.9360 - lr: 1.7244e-04\n",
      "Epoch 21/300\n",
      "8/8 [==============================] - 0s 6ms/step - loss: 0.1599 - accuracy: 0.9258 - val_loss: 0.1132 - val_accuracy: 0.9400 - lr: 1.6310e-04\n",
      "Epoch 22/300\n",
      "8/8 [==============================] - 0s 6ms/step - loss: 0.1542 - accuracy: 0.9258 - val_loss: 0.1113 - val_accuracy: 0.9480 - lr: 1.5495e-04\n",
      "Epoch 23/300\n",
      "8/8 [==============================] - 0s 6ms/step - loss: 0.1560 - accuracy: 0.9308 - val_loss: 0.1096 - val_accuracy: 0.9520 - lr: 1.4786e-04\n",
      "Epoch 24/300\n",
      "8/8 [==============================] - 0s 6ms/step - loss: 0.1501 - accuracy: 0.9368 - val_loss: 0.1080 - val_accuracy: 0.9560 - lr: 1.4169e-04\n",
      "Epoch 25/300\n",
      "8/8 [==============================] - 0s 6ms/step - loss: 0.1499 - accuracy: 0.9328 - val_loss: 0.1064 - val_accuracy: 0.9600 - lr: 1.3631e-04\n",
      "Epoch 26/300\n",
      "8/8 [==============================] - 0s 6ms/step - loss: 0.1433 - accuracy: 0.9418 - val_loss: 0.1049 - val_accuracy: 0.9600 - lr: 1.3162e-04\n",
      "Epoch 27/300\n",
      "8/8 [==============================] - 0s 6ms/step - loss: 0.1472 - accuracy: 0.9358 - val_loss: 0.1034 - val_accuracy: 0.9600 - lr: 1.2754e-04\n",
      "Epoch 28/300\n",
      "8/8 [==============================] - 0s 6ms/step - loss: 0.1433 - accuracy: 0.9378 - val_loss: 0.1020 - val_accuracy: 0.9640 - lr: 1.2399e-04\n",
      "Epoch 29/300\n",
      "8/8 [==============================] - 0s 6ms/step - loss: 0.1473 - accuracy: 0.9348 - val_loss: 0.1008 - val_accuracy: 0.9640 - lr: 1.2089e-04\n",
      "Epoch 30/300\n",
      "8/8 [==============================] - 0s 6ms/step - loss: 0.1450 - accuracy: 0.9328 - val_loss: 0.0996 - val_accuracy: 0.9640 - lr: 1.1820e-04\n",
      "Epoch 31/300\n",
      "8/8 [==============================] - 0s 6ms/step - loss: 0.1431 - accuracy: 0.9388 - val_loss: 0.0985 - val_accuracy: 0.9640 - lr: 1.1585e-04\n",
      "Epoch 32/300\n",
      "8/8 [==============================] - 0s 6ms/step - loss: 0.1420 - accuracy: 0.9438 - val_loss: 0.0974 - val_accuracy: 0.9640 - lr: 1.1380e-04\n",
      "Epoch 33/300\n",
      "8/8 [==============================] - 0s 8ms/step - loss: 0.1440 - accuracy: 0.9398 - val_loss: 0.0963 - val_accuracy: 0.9680 - lr: 1.1202e-04\n",
      "Epoch 34/300\n",
      "8/8 [==============================] - 0s 6ms/step - loss: 0.1380 - accuracy: 0.9428 - val_loss: 0.0953 - val_accuracy: 0.9680 - lr: 1.1047e-04\n",
      "Epoch 35/300\n",
      "8/8 [==============================] - 0s 8ms/step - loss: 0.1362 - accuracy: 0.9388 - val_loss: 0.0943 - val_accuracy: 0.9720 - lr: 1.0912e-04\n",
      "Epoch 36/300\n",
      "8/8 [==============================] - 0s 6ms/step - loss: 0.1404 - accuracy: 0.9398 - val_loss: 0.0934 - val_accuracy: 0.9720 - lr: 1.0794e-04\n",
      "Epoch 37/300\n",
      "8/8 [==============================] - 0s 8ms/step - loss: 0.1375 - accuracy: 0.9398 - val_loss: 0.0924 - val_accuracy: 0.9720 - lr: 1.0692e-04\n",
      "Epoch 38/300\n",
      "8/8 [==============================] - 0s 8ms/step - loss: 0.1408 - accuracy: 0.9398 - val_loss: 0.0915 - val_accuracy: 0.9720 - lr: 1.0603e-04\n",
      "Epoch 39/300\n",
      "8/8 [==============================] - 0s 11ms/step - loss: 0.1328 - accuracy: 0.9438 - val_loss: 0.0905 - val_accuracy: 0.9720 - lr: 1.0525e-04\n",
      "Epoch 40/300\n",
      "8/8 [==============================] - 0s 6ms/step - loss: 0.1291 - accuracy: 0.9488 - val_loss: 0.0896 - val_accuracy: 0.9720 - lr: 1.0457e-04\n",
      "Epoch 41/300\n",
      "8/8 [==============================] - 0s 9ms/step - loss: 0.1270 - accuracy: 0.9448 - val_loss: 0.0886 - val_accuracy: 0.9720 - lr: 1.0398e-04\n",
      "Epoch 42/300\n",
      "8/8 [==============================] - 0s 9ms/step - loss: 0.1326 - accuracy: 0.9448 - val_loss: 0.0878 - val_accuracy: 0.9720 - lr: 1.0347e-04\n",
      "Epoch 43/300\n",
      "8/8 [==============================] - 0s 6ms/step - loss: 0.1265 - accuracy: 0.9498 - val_loss: 0.0870 - val_accuracy: 0.9760 - lr: 1.0302e-04\n",
      "Epoch 44/300\n",
      "8/8 [==============================] - 0s 6ms/step - loss: 0.1249 - accuracy: 0.9478 - val_loss: 0.0861 - val_accuracy: 0.9760 - lr: 1.0263e-04\n",
      "Epoch 45/300\n",
      "8/8 [==============================] - 0s 6ms/step - loss: 0.1232 - accuracy: 0.9509 - val_loss: 0.0853 - val_accuracy: 0.9760 - lr: 1.0229e-04\n",
      "Epoch 46/300\n",
      "8/8 [==============================] - 0s 6ms/step - loss: 0.1258 - accuracy: 0.9509 - val_loss: 0.0844 - val_accuracy: 0.9800 - lr: 1.0200e-04\n",
      "Epoch 47/300\n",
      "8/8 [==============================] - 0s 6ms/step - loss: 0.1289 - accuracy: 0.9509 - val_loss: 0.0836 - val_accuracy: 0.9800 - lr: 1.0174e-04\n",
      "Epoch 48/300\n",
      "8/8 [==============================] - 0s 6ms/step - loss: 0.1199 - accuracy: 0.9559 - val_loss: 0.0829 - val_accuracy: 0.9800 - lr: 1.0151e-04\n",
      "Epoch 49/300\n",
      "8/8 [==============================] - 0s 6ms/step - loss: 0.1204 - accuracy: 0.9599 - val_loss: 0.0821 - val_accuracy: 0.9800 - lr: 1.0132e-04\n",
      "Epoch 50/300\n",
      "8/8 [==============================] - 0s 6ms/step - loss: 0.1198 - accuracy: 0.9559 - val_loss: 0.0814 - val_accuracy: 0.9840 - lr: 1.0115e-04\n",
      "Epoch 51/300\n",
      "8/8 [==============================] - 0s 6ms/step - loss: 0.1178 - accuracy: 0.9579 - val_loss: 0.0807 - val_accuracy: 0.9840 - lr: 1.0100e-04\n",
      "Epoch 52/300\n",
      "8/8 [==============================] - 0s 6ms/step - loss: 0.1181 - accuracy: 0.9509 - val_loss: 0.0800 - val_accuracy: 0.9840 - lr: 1.0087e-04\n",
      "Epoch 53/300\n",
      "8/8 [==============================] - 0s 6ms/step - loss: 0.1236 - accuracy: 0.9488 - val_loss: 0.0793 - val_accuracy: 0.9840 - lr: 1.0076e-04\n",
      "Epoch 54/300\n",
      "8/8 [==============================] - 0s 6ms/step - loss: 0.1182 - accuracy: 0.9539 - val_loss: 0.0786 - val_accuracy: 0.9840 - lr: 1.0066e-04\n",
      "Epoch 55/300\n",
      "8/8 [==============================] - 0s 6ms/step - loss: 0.1196 - accuracy: 0.9579 - val_loss: 0.0780 - val_accuracy: 0.9840 - lr: 1.0058e-04\n",
      "Epoch 56/300\n",
      "8/8 [==============================] - 0s 6ms/step - loss: 0.1163 - accuracy: 0.9549 - val_loss: 0.0774 - val_accuracy: 0.9840 - lr: 1.0050e-04\n",
      "Epoch 57/300\n",
      "8/8 [==============================] - 0s 5ms/step - loss: 0.1131 - accuracy: 0.9579 - val_loss: 0.0767 - val_accuracy: 0.9840 - lr: 1.0044e-04\n",
      "Epoch 58/300\n",
      "8/8 [==============================] - 0s 6ms/step - loss: 0.1089 - accuracy: 0.9579 - val_loss: 0.0761 - val_accuracy: 0.9840 - lr: 1.0038e-04\n",
      "Epoch 59/300\n",
      "8/8 [==============================] - 0s 6ms/step - loss: 0.1180 - accuracy: 0.9559 - val_loss: 0.0755 - val_accuracy: 0.9840 - lr: 1.0033e-04\n",
      "Epoch 60/300\n",
      "8/8 [==============================] - 0s 6ms/step - loss: 0.1206 - accuracy: 0.9509 - val_loss: 0.0749 - val_accuracy: 0.9840 - lr: 1.0029e-04\n",
      "Epoch 61/300\n",
      "8/8 [==============================] - 0s 6ms/step - loss: 0.1178 - accuracy: 0.9529 - val_loss: 0.0744 - val_accuracy: 0.9840 - lr: 1.0025e-04\n",
      "Epoch 62/300\n",
      "8/8 [==============================] - 0s 6ms/step - loss: 0.1085 - accuracy: 0.9679 - val_loss: 0.0739 - val_accuracy: 0.9880 - lr: 1.0022e-04\n",
      "Epoch 63/300\n",
      "8/8 [==============================] - 0s 6ms/step - loss: 0.1149 - accuracy: 0.9579 - val_loss: 0.0733 - val_accuracy: 0.9880 - lr: 1.0019e-04\n",
      "Epoch 64/300\n",
      "8/8 [==============================] - 0s 6ms/step - loss: 0.1096 - accuracy: 0.9619 - val_loss: 0.0728 - val_accuracy: 0.9880 - lr: 1.0017e-04\n",
      "Epoch 65/300\n",
      "8/8 [==============================] - 0s 6ms/step - loss: 0.1075 - accuracy: 0.9629 - val_loss: 0.0722 - val_accuracy: 0.9880 - lr: 1.0014e-04\n",
      "Epoch 66/300\n",
      "8/8 [==============================] - 0s 6ms/step - loss: 0.1119 - accuracy: 0.9639 - val_loss: 0.0716 - val_accuracy: 0.9880 - lr: 1.0013e-04\n",
      "Epoch 67/300\n",
      "8/8 [==============================] - 0s 6ms/step - loss: 0.1078 - accuracy: 0.9579 - val_loss: 0.0710 - val_accuracy: 0.9880 - lr: 1.0011e-04\n",
      "Epoch 68/300\n",
      "8/8 [==============================] - 0s 6ms/step - loss: 0.1039 - accuracy: 0.9649 - val_loss: 0.0705 - val_accuracy: 0.9880 - lr: 1.0010e-04\n",
      "Epoch 69/300\n",
      "8/8 [==============================] - 0s 6ms/step - loss: 0.1044 - accuracy: 0.9649 - val_loss: 0.0700 - val_accuracy: 0.9880 - lr: 1.0008e-04\n",
      "Epoch 70/300\n",
      "8/8 [==============================] - 0s 6ms/step - loss: 0.1065 - accuracy: 0.9719 - val_loss: 0.0695 - val_accuracy: 0.9880 - lr: 1.0007e-04\n",
      "Epoch 71/300\n",
      "8/8 [==============================] - 0s 13ms/step - loss: 0.0999 - accuracy: 0.9639 - val_loss: 0.0690 - val_accuracy: 0.9880 - lr: 1.0006e-04\n",
      "Epoch 72/300\n",
      "8/8 [==============================] - 0s 7ms/step - loss: 0.1067 - accuracy: 0.9599 - val_loss: 0.0685 - val_accuracy: 0.9880 - lr: 1.0005e-04\n",
      "Epoch 73/300\n",
      "8/8 [==============================] - 0s 6ms/step - loss: 0.1022 - accuracy: 0.9689 - val_loss: 0.0680 - val_accuracy: 0.9880 - lr: 1.0005e-04\n",
      "Epoch 74/300\n",
      "8/8 [==============================] - 0s 6ms/step - loss: 0.1079 - accuracy: 0.9609 - val_loss: 0.0675 - val_accuracy: 0.9880 - lr: 1.0004e-04\n",
      "Epoch 75/300\n",
      "8/8 [==============================] - 0s 6ms/step - loss: 0.1036 - accuracy: 0.9689 - val_loss: 0.0670 - val_accuracy: 0.9880 - lr: 1.0004e-04\n",
      "Epoch 76/300\n",
      "8/8 [==============================] - 0s 6ms/step - loss: 0.1012 - accuracy: 0.9619 - val_loss: 0.0665 - val_accuracy: 0.9880 - lr: 1.0003e-04\n",
      "Epoch 77/300\n",
      "8/8 [==============================] - 0s 7ms/step - loss: 0.1049 - accuracy: 0.9639 - val_loss: 0.0660 - val_accuracy: 0.9880 - lr: 1.0003e-04\n",
      "Epoch 78/300\n",
      "8/8 [==============================] - 0s 6ms/step - loss: 0.1039 - accuracy: 0.9599 - val_loss: 0.0656 - val_accuracy: 0.9920 - lr: 1.0002e-04\n",
      "Epoch 79/300\n",
      "8/8 [==============================] - 0s 6ms/step - loss: 0.1007 - accuracy: 0.9679 - val_loss: 0.0652 - val_accuracy: 0.9920 - lr: 1.0002e-04\n",
      "Epoch 80/300\n",
      "8/8 [==============================] - 0s 6ms/step - loss: 0.1007 - accuracy: 0.9729 - val_loss: 0.0648 - val_accuracy: 0.9920 - lr: 1.0002e-04\n",
      "Epoch 81/300\n",
      "8/8 [==============================] - 0s 6ms/step - loss: 0.0958 - accuracy: 0.9729 - val_loss: 0.0643 - val_accuracy: 0.9920 - lr: 1.0002e-04\n",
      "Epoch 82/300\n",
      "8/8 [==============================] - 0s 6ms/step - loss: 0.1057 - accuracy: 0.9619 - val_loss: 0.0638 - val_accuracy: 0.9920 - lr: 1.0001e-04\n",
      "Epoch 83/300\n",
      "8/8 [==============================] - 0s 6ms/step - loss: 0.1003 - accuracy: 0.9689 - val_loss: 0.0634 - val_accuracy: 0.9920 - lr: 1.0001e-04\n",
      "Epoch 84/300\n",
      "8/8 [==============================] - 0s 6ms/step - loss: 0.0998 - accuracy: 0.9659 - val_loss: 0.0630 - val_accuracy: 0.9920 - lr: 1.0001e-04\n",
      "Epoch 85/300\n",
      "8/8 [==============================] - 0s 6ms/step - loss: 0.0932 - accuracy: 0.9729 - val_loss: 0.0625 - val_accuracy: 0.9920 - lr: 1.0001e-04\n",
      "Epoch 86/300\n",
      "8/8 [==============================] - 0s 6ms/step - loss: 0.0965 - accuracy: 0.9689 - val_loss: 0.0621 - val_accuracy: 0.9920 - lr: 1.0001e-04\n",
      "Epoch 87/300\n",
      "8/8 [==============================] - 0s 7ms/step - loss: 0.0966 - accuracy: 0.9699 - val_loss: 0.0617 - val_accuracy: 0.9920 - lr: 1.0001e-04\n",
      "Epoch 88/300\n",
      "8/8 [==============================] - 0s 6ms/step - loss: 0.0982 - accuracy: 0.9659 - val_loss: 0.0613 - val_accuracy: 0.9920 - lr: 1.0001e-04\n",
      "Epoch 89/300\n",
      "8/8 [==============================] - 0s 6ms/step - loss: 0.0981 - accuracy: 0.9649 - val_loss: 0.0609 - val_accuracy: 0.9920 - lr: 1.0001e-04\n",
      "Epoch 90/300\n",
      "8/8 [==============================] - 0s 6ms/step - loss: 0.1003 - accuracy: 0.9659 - val_loss: 0.0605 - val_accuracy: 0.9920 - lr: 1.0000e-04\n",
      "Epoch 91/300\n",
      "8/8 [==============================] - 0s 7ms/step - loss: 0.0988 - accuracy: 0.9689 - val_loss: 0.0602 - val_accuracy: 0.9920 - lr: 1.0000e-04\n",
      "Epoch 92/300\n",
      "8/8 [==============================] - 0s 6ms/step - loss: 0.0966 - accuracy: 0.9629 - val_loss: 0.0598 - val_accuracy: 0.9920 - lr: 1.0000e-04\n",
      "Epoch 93/300\n",
      "8/8 [==============================] - 0s 6ms/step - loss: 0.0979 - accuracy: 0.9689 - val_loss: 0.0595 - val_accuracy: 0.9920 - lr: 1.0000e-04\n",
      "Epoch 94/300\n",
      "8/8 [==============================] - 0s 6ms/step - loss: 0.0955 - accuracy: 0.9659 - val_loss: 0.0591 - val_accuracy: 0.9920 - lr: 1.0000e-04\n",
      "Epoch 95/300\n",
      "8/8 [==============================] - 0s 6ms/step - loss: 0.0945 - accuracy: 0.9649 - val_loss: 0.0587 - val_accuracy: 0.9920 - lr: 1.0000e-04\n",
      "Epoch 96/300\n",
      "8/8 [==============================] - 0s 6ms/step - loss: 0.0914 - accuracy: 0.9689 - val_loss: 0.0583 - val_accuracy: 0.9920 - lr: 1.0000e-04\n",
      "Epoch 97/300\n",
      "8/8 [==============================] - 0s 7ms/step - loss: 0.0922 - accuracy: 0.9699 - val_loss: 0.0579 - val_accuracy: 0.9920 - lr: 1.0000e-04\n",
      "Epoch 98/300\n",
      "8/8 [==============================] - 0s 6ms/step - loss: 0.0921 - accuracy: 0.9679 - val_loss: 0.0576 - val_accuracy: 0.9920 - lr: 1.0000e-04\n",
      "Epoch 99/300\n",
      "8/8 [==============================] - 0s 6ms/step - loss: 0.0953 - accuracy: 0.9649 - val_loss: 0.0572 - val_accuracy: 0.9920 - lr: 1.0000e-04\n",
      "Epoch 100/300\n",
      "8/8 [==============================] - 0s 6ms/step - loss: 0.0962 - accuracy: 0.9689 - val_loss: 0.0569 - val_accuracy: 0.9920 - lr: 1.0000e-04\n",
      "Epoch 101/300\n",
      "8/8 [==============================] - 0s 6ms/step - loss: 0.0948 - accuracy: 0.9669 - val_loss: 0.0565 - val_accuracy: 0.9920 - lr: 1.0000e-04\n",
      "Epoch 102/300\n",
      "8/8 [==============================] - 0s 6ms/step - loss: 0.0900 - accuracy: 0.9719 - val_loss: 0.0562 - val_accuracy: 0.9920 - lr: 1.0000e-04\n",
      "Epoch 103/300\n",
      "8/8 [==============================] - 0s 6ms/step - loss: 0.0890 - accuracy: 0.9689 - val_loss: 0.0558 - val_accuracy: 0.9920 - lr: 1.0000e-04\n",
      "Epoch 104/300\n",
      "8/8 [==============================] - 0s 6ms/step - loss: 0.0909 - accuracy: 0.9729 - val_loss: 0.0555 - val_accuracy: 0.9920 - lr: 1.0000e-04\n",
      "Epoch 105/300\n",
      "8/8 [==============================] - 0s 6ms/step - loss: 0.0906 - accuracy: 0.9769 - val_loss: 0.0552 - val_accuracy: 0.9920 - lr: 1.0000e-04\n",
      "Epoch 106/300\n",
      "8/8 [==============================] - 0s 6ms/step - loss: 0.0908 - accuracy: 0.9699 - val_loss: 0.0548 - val_accuracy: 0.9920 - lr: 1.0000e-04\n",
      "Epoch 107/300\n",
      "8/8 [==============================] - 0s 6ms/step - loss: 0.0886 - accuracy: 0.9749 - val_loss: 0.0544 - val_accuracy: 0.9920 - lr: 1.0000e-04\n",
      "Epoch 108/300\n",
      "8/8 [==============================] - 0s 6ms/step - loss: 0.0893 - accuracy: 0.9729 - val_loss: 0.0541 - val_accuracy: 0.9920 - lr: 1.0000e-04\n",
      "Epoch 109/300\n",
      "8/8 [==============================] - 0s 6ms/step - loss: 0.0884 - accuracy: 0.9719 - val_loss: 0.0538 - val_accuracy: 0.9920 - lr: 1.0000e-04\n",
      "Epoch 110/300\n",
      "8/8 [==============================] - 0s 7ms/step - loss: 0.0893 - accuracy: 0.9719 - val_loss: 0.0535 - val_accuracy: 0.9920 - lr: 1.0000e-04\n",
      "Epoch 111/300\n",
      "8/8 [==============================] - 0s 6ms/step - loss: 0.0856 - accuracy: 0.9759 - val_loss: 0.0531 - val_accuracy: 0.9920 - lr: 1.0000e-04\n",
      "Epoch 112/300\n",
      "8/8 [==============================] - 0s 9ms/step - loss: 0.0897 - accuracy: 0.9719 - val_loss: 0.0528 - val_accuracy: 0.9920 - lr: 1.0000e-04\n",
      "Epoch 113/300\n",
      "8/8 [==============================] - 0s 6ms/step - loss: 0.0870 - accuracy: 0.9629 - val_loss: 0.0525 - val_accuracy: 0.9920 - lr: 1.0000e-04\n",
      "Epoch 114/300\n",
      "8/8 [==============================] - 0s 7ms/step - loss: 0.0914 - accuracy: 0.9659 - val_loss: 0.0522 - val_accuracy: 0.9920 - lr: 1.0000e-04\n",
      "Epoch 115/300\n",
      "8/8 [==============================] - 0s 6ms/step - loss: 0.0832 - accuracy: 0.9749 - val_loss: 0.0518 - val_accuracy: 0.9920 - lr: 1.0000e-04\n",
      "Epoch 116/300\n",
      "8/8 [==============================] - 0s 6ms/step - loss: 0.0860 - accuracy: 0.9709 - val_loss: 0.0515 - val_accuracy: 0.9920 - lr: 1.0000e-04\n",
      "Epoch 117/300\n",
      "8/8 [==============================] - 0s 6ms/step - loss: 0.0820 - accuracy: 0.9739 - val_loss: 0.0512 - val_accuracy: 0.9920 - lr: 1.0000e-04\n",
      "Epoch 118/300\n",
      "8/8 [==============================] - 0s 6ms/step - loss: 0.0827 - accuracy: 0.9759 - val_loss: 0.0510 - val_accuracy: 0.9920 - lr: 1.0000e-04\n",
      "Epoch 119/300\n",
      "8/8 [==============================] - 0s 6ms/step - loss: 0.0879 - accuracy: 0.9729 - val_loss: 0.0506 - val_accuracy: 0.9920 - lr: 1.0000e-04\n",
      "Epoch 120/300\n",
      "8/8 [==============================] - 0s 6ms/step - loss: 0.0875 - accuracy: 0.9729 - val_loss: 0.0504 - val_accuracy: 0.9920 - lr: 1.0000e-04\n",
      "Epoch 121/300\n",
      "8/8 [==============================] - 0s 6ms/step - loss: 0.0890 - accuracy: 0.9699 - val_loss: 0.0501 - val_accuracy: 0.9920 - lr: 1.0000e-04\n",
      "Epoch 122/300\n",
      "8/8 [==============================] - 0s 6ms/step - loss: 0.0813 - accuracy: 0.9719 - val_loss: 0.0499 - val_accuracy: 0.9920 - lr: 1.0000e-04\n",
      "Epoch 123/300\n",
      "8/8 [==============================] - 0s 6ms/step - loss: 0.0837 - accuracy: 0.9749 - val_loss: 0.0496 - val_accuracy: 0.9920 - lr: 1.0000e-04\n",
      "Epoch 124/300\n",
      "8/8 [==============================] - 0s 5ms/step - loss: 0.0807 - accuracy: 0.9739 - val_loss: 0.0493 - val_accuracy: 0.9920 - lr: 1.0000e-04\n",
      "Epoch 125/300\n",
      "8/8 [==============================] - 0s 6ms/step - loss: 0.0837 - accuracy: 0.9749 - val_loss: 0.0491 - val_accuracy: 0.9920 - lr: 1.0000e-04\n",
      "Epoch 126/300\n",
      "8/8 [==============================] - 0s 6ms/step - loss: 0.0825 - accuracy: 0.9719 - val_loss: 0.0488 - val_accuracy: 0.9920 - lr: 1.0000e-04\n",
      "Epoch 127/300\n",
      "8/8 [==============================] - 0s 6ms/step - loss: 0.0898 - accuracy: 0.9659 - val_loss: 0.0485 - val_accuracy: 0.9920 - lr: 1.0000e-04\n",
      "Epoch 128/300\n",
      "8/8 [==============================] - 0s 6ms/step - loss: 0.0742 - accuracy: 0.9789 - val_loss: 0.0483 - val_accuracy: 0.9920 - lr: 1.0000e-04\n",
      "Epoch 129/300\n",
      "8/8 [==============================] - 0s 6ms/step - loss: 0.0792 - accuracy: 0.9729 - val_loss: 0.0480 - val_accuracy: 0.9920 - lr: 1.0000e-04\n",
      "Epoch 130/300\n",
      "8/8 [==============================] - 0s 6ms/step - loss: 0.0793 - accuracy: 0.9779 - val_loss: 0.0477 - val_accuracy: 0.9920 - lr: 1.0000e-04\n",
      "Epoch 131/300\n",
      "8/8 [==============================] - 0s 6ms/step - loss: 0.0847 - accuracy: 0.9729 - val_loss: 0.0475 - val_accuracy: 0.9920 - lr: 1.0000e-04\n",
      "Epoch 132/300\n",
      "8/8 [==============================] - 0s 6ms/step - loss: 0.0832 - accuracy: 0.9709 - val_loss: 0.0473 - val_accuracy: 0.9920 - lr: 1.0000e-04\n",
      "Epoch 133/300\n",
      "8/8 [==============================] - 0s 6ms/step - loss: 0.0825 - accuracy: 0.9709 - val_loss: 0.0470 - val_accuracy: 0.9920 - lr: 1.0000e-04\n",
      "Epoch 134/300\n",
      "8/8 [==============================] - 0s 7ms/step - loss: 0.0801 - accuracy: 0.9729 - val_loss: 0.0468 - val_accuracy: 0.9920 - lr: 1.0000e-04\n",
      "Epoch 135/300\n",
      "8/8 [==============================] - 0s 6ms/step - loss: 0.0786 - accuracy: 0.9789 - val_loss: 0.0466 - val_accuracy: 0.9920 - lr: 1.0000e-04\n",
      "Epoch 136/300\n",
      "8/8 [==============================] - 0s 5ms/step - loss: 0.0777 - accuracy: 0.9759 - val_loss: 0.0464 - val_accuracy: 0.9920 - lr: 1.0000e-04\n",
      "Epoch 137/300\n",
      "8/8 [==============================] - 0s 6ms/step - loss: 0.0789 - accuracy: 0.9769 - val_loss: 0.0461 - val_accuracy: 0.9920 - lr: 1.0000e-04\n",
      "Epoch 138/300\n",
      "8/8 [==============================] - 0s 6ms/step - loss: 0.0793 - accuracy: 0.9809 - val_loss: 0.0457 - val_accuracy: 0.9920 - lr: 1.0000e-04\n",
      "Epoch 139/300\n",
      "8/8 [==============================] - 0s 6ms/step - loss: 0.0766 - accuracy: 0.9739 - val_loss: 0.0455 - val_accuracy: 0.9920 - lr: 1.0000e-04\n",
      "Epoch 140/300\n",
      "8/8 [==============================] - 0s 7ms/step - loss: 0.0766 - accuracy: 0.9709 - val_loss: 0.0452 - val_accuracy: 0.9920 - lr: 1.0000e-04\n",
      "Epoch 141/300\n",
      "8/8 [==============================] - 0s 7ms/step - loss: 0.0729 - accuracy: 0.9789 - val_loss: 0.0450 - val_accuracy: 0.9920 - lr: 1.0000e-04\n",
      "Epoch 142/300\n",
      "8/8 [==============================] - 0s 6ms/step - loss: 0.0777 - accuracy: 0.9759 - val_loss: 0.0448 - val_accuracy: 0.9920 - lr: 1.0000e-04\n",
      "Epoch 143/300\n",
      "8/8 [==============================] - 0s 7ms/step - loss: 0.0790 - accuracy: 0.9759 - val_loss: 0.0446 - val_accuracy: 0.9920 - lr: 1.0000e-04\n",
      "Epoch 144/300\n",
      "8/8 [==============================] - 0s 6ms/step - loss: 0.0816 - accuracy: 0.9709 - val_loss: 0.0445 - val_accuracy: 0.9920 - lr: 1.0000e-04\n",
      "Epoch 145/300\n",
      "8/8 [==============================] - 0s 6ms/step - loss: 0.0741 - accuracy: 0.9759 - val_loss: 0.0442 - val_accuracy: 0.9920 - lr: 1.0000e-04\n",
      "Epoch 146/300\n",
      "8/8 [==============================] - 0s 6ms/step - loss: 0.0747 - accuracy: 0.9799 - val_loss: 0.0440 - val_accuracy: 0.9920 - lr: 1.0000e-04\n",
      "Epoch 147/300\n",
      "8/8 [==============================] - 0s 5ms/step - loss: 0.0738 - accuracy: 0.9779 - val_loss: 0.0437 - val_accuracy: 0.9920 - lr: 1.0000e-04\n",
      "Epoch 148/300\n",
      "8/8 [==============================] - 0s 6ms/step - loss: 0.0696 - accuracy: 0.9819 - val_loss: 0.0435 - val_accuracy: 0.9920 - lr: 1.0000e-04\n",
      "Epoch 149/300\n",
      "8/8 [==============================] - 0s 6ms/step - loss: 0.0732 - accuracy: 0.9779 - val_loss: 0.0433 - val_accuracy: 0.9920 - lr: 1.0000e-04\n",
      "Epoch 150/300\n",
      "8/8 [==============================] - 0s 6ms/step - loss: 0.0754 - accuracy: 0.9729 - val_loss: 0.0431 - val_accuracy: 0.9920 - lr: 1.0000e-04\n",
      "Epoch 151/300\n",
      "8/8 [==============================] - 0s 5ms/step - loss: 0.0718 - accuracy: 0.9809 - val_loss: 0.0429 - val_accuracy: 0.9920 - lr: 1.0000e-04\n",
      "Epoch 152/300\n",
      "8/8 [==============================] - 0s 6ms/step - loss: 0.0768 - accuracy: 0.9739 - val_loss: 0.0426 - val_accuracy: 0.9920 - lr: 1.0000e-04\n",
      "Epoch 153/300\n",
      "8/8 [==============================] - 0s 9ms/step - loss: 0.0732 - accuracy: 0.9749 - val_loss: 0.0424 - val_accuracy: 0.9920 - lr: 1.0000e-04\n",
      "Epoch 154/300\n",
      "8/8 [==============================] - 0s 5ms/step - loss: 0.0731 - accuracy: 0.9789 - val_loss: 0.0422 - val_accuracy: 0.9920 - lr: 1.0000e-04\n",
      "Epoch 155/300\n",
      "8/8 [==============================] - 0s 5ms/step - loss: 0.0709 - accuracy: 0.9759 - val_loss: 0.0420 - val_accuracy: 0.9920 - lr: 1.0000e-04\n",
      "Epoch 156/300\n",
      "8/8 [==============================] - 0s 6ms/step - loss: 0.0720 - accuracy: 0.9749 - val_loss: 0.0418 - val_accuracy: 0.9920 - lr: 1.0000e-04\n",
      "Epoch 157/300\n",
      "8/8 [==============================] - 0s 6ms/step - loss: 0.0709 - accuracy: 0.9729 - val_loss: 0.0416 - val_accuracy: 0.9920 - lr: 1.0000e-04\n",
      "Epoch 158/300\n",
      "8/8 [==============================] - 0s 6ms/step - loss: 0.0769 - accuracy: 0.9789 - val_loss: 0.0414 - val_accuracy: 0.9920 - lr: 1.0000e-04\n",
      "Epoch 159/300\n",
      "8/8 [==============================] - 0s 6ms/step - loss: 0.0731 - accuracy: 0.9799 - val_loss: 0.0412 - val_accuracy: 0.9920 - lr: 1.0000e-04\n",
      "Epoch 160/300\n",
      "8/8 [==============================] - 0s 7ms/step - loss: 0.0695 - accuracy: 0.9799 - val_loss: 0.0410 - val_accuracy: 0.9920 - lr: 1.0000e-04\n",
      "Epoch 161/300\n",
      "8/8 [==============================] - 0s 6ms/step - loss: 0.0732 - accuracy: 0.9779 - val_loss: 0.0408 - val_accuracy: 0.9920 - lr: 1.0000e-04\n",
      "Epoch 162/300\n",
      "8/8 [==============================] - 0s 6ms/step - loss: 0.0729 - accuracy: 0.9759 - val_loss: 0.0406 - val_accuracy: 0.9920 - lr: 1.0000e-04\n",
      "Epoch 163/300\n",
      "8/8 [==============================] - 0s 6ms/step - loss: 0.0754 - accuracy: 0.9739 - val_loss: 0.0405 - val_accuracy: 0.9920 - lr: 1.0000e-04\n",
      "Epoch 164/300\n",
      "8/8 [==============================] - 0s 6ms/step - loss: 0.0674 - accuracy: 0.9809 - val_loss: 0.0403 - val_accuracy: 0.9920 - lr: 1.0000e-04\n",
      "Epoch 165/300\n",
      "8/8 [==============================] - 0s 5ms/step - loss: 0.0712 - accuracy: 0.9789 - val_loss: 0.0401 - val_accuracy: 0.9920 - lr: 1.0000e-04\n",
      "Epoch 166/300\n",
      "8/8 [==============================] - 0s 6ms/step - loss: 0.0758 - accuracy: 0.9719 - val_loss: 0.0400 - val_accuracy: 0.9920 - lr: 1.0000e-04\n",
      "Epoch 167/300\n",
      "8/8 [==============================] - 0s 5ms/step - loss: 0.0684 - accuracy: 0.9840 - val_loss: 0.0398 - val_accuracy: 0.9920 - lr: 1.0000e-04\n",
      "Epoch 168/300\n",
      "8/8 [==============================] - 0s 6ms/step - loss: 0.0740 - accuracy: 0.9719 - val_loss: 0.0397 - val_accuracy: 0.9920 - lr: 1.0000e-04\n",
      "Epoch 169/300\n",
      "8/8 [==============================] - 0s 6ms/step - loss: 0.0714 - accuracy: 0.9759 - val_loss: 0.0396 - val_accuracy: 0.9920 - lr: 1.0000e-04\n",
      "Epoch 170/300\n",
      "8/8 [==============================] - 0s 6ms/step - loss: 0.0703 - accuracy: 0.9729 - val_loss: 0.0394 - val_accuracy: 0.9920 - lr: 1.0000e-04\n",
      "Epoch 171/300\n",
      "8/8 [==============================] - 0s 6ms/step - loss: 0.0685 - accuracy: 0.9799 - val_loss: 0.0393 - val_accuracy: 0.9920 - lr: 1.0000e-04\n",
      "Epoch 172/300\n",
      "8/8 [==============================] - 0s 6ms/step - loss: 0.0621 - accuracy: 0.9840 - val_loss: 0.0391 - val_accuracy: 0.9920 - lr: 1.0000e-04\n",
      "Epoch 173/300\n",
      "8/8 [==============================] - 0s 6ms/step - loss: 0.0725 - accuracy: 0.9759 - val_loss: 0.0389 - val_accuracy: 0.9920 - lr: 1.0000e-04\n",
      "Epoch 174/300\n",
      "8/8 [==============================] - 0s 6ms/step - loss: 0.0702 - accuracy: 0.9779 - val_loss: 0.0387 - val_accuracy: 0.9920 - lr: 1.0000e-04\n",
      "Epoch 175/300\n",
      "8/8 [==============================] - 0s 6ms/step - loss: 0.0748 - accuracy: 0.9709 - val_loss: 0.0386 - val_accuracy: 0.9920 - lr: 1.0000e-04\n",
      "Epoch 176/300\n",
      "8/8 [==============================] - 0s 6ms/step - loss: 0.0680 - accuracy: 0.9779 - val_loss: 0.0384 - val_accuracy: 0.9920 - lr: 1.0000e-04\n",
      "Epoch 177/300\n",
      "8/8 [==============================] - 0s 5ms/step - loss: 0.0728 - accuracy: 0.9759 - val_loss: 0.0383 - val_accuracy: 0.9920 - lr: 1.0000e-04\n",
      "Epoch 178/300\n",
      "8/8 [==============================] - 0s 6ms/step - loss: 0.0666 - accuracy: 0.9809 - val_loss: 0.0381 - val_accuracy: 0.9920 - lr: 1.0000e-04\n",
      "Epoch 179/300\n",
      "8/8 [==============================] - 0s 6ms/step - loss: 0.0717 - accuracy: 0.9769 - val_loss: 0.0379 - val_accuracy: 0.9920 - lr: 1.0000e-04\n",
      "Epoch 180/300\n",
      "8/8 [==============================] - 0s 6ms/step - loss: 0.0680 - accuracy: 0.9769 - val_loss: 0.0378 - val_accuracy: 0.9920 - lr: 1.0000e-04\n",
      "Epoch 181/300\n",
      "8/8 [==============================] - 0s 6ms/step - loss: 0.0735 - accuracy: 0.9719 - val_loss: 0.0376 - val_accuracy: 0.9960 - lr: 1.0000e-04\n",
      "Epoch 182/300\n",
      "8/8 [==============================] - 0s 6ms/step - loss: 0.0633 - accuracy: 0.9829 - val_loss: 0.0374 - val_accuracy: 0.9960 - lr: 1.0000e-04\n",
      "Epoch 183/300\n",
      "8/8 [==============================] - 0s 6ms/step - loss: 0.0696 - accuracy: 0.9779 - val_loss: 0.0373 - val_accuracy: 0.9960 - lr: 1.0000e-04\n",
      "Epoch 184/300\n",
      "8/8 [==============================] - 0s 6ms/step - loss: 0.0630 - accuracy: 0.9840 - val_loss: 0.0371 - val_accuracy: 0.9960 - lr: 1.0000e-04\n",
      "Epoch 185/300\n",
      "8/8 [==============================] - 0s 7ms/step - loss: 0.0699 - accuracy: 0.9789 - val_loss: 0.0369 - val_accuracy: 0.9960 - lr: 1.0000e-04\n",
      "Epoch 186/300\n",
      "8/8 [==============================] - 0s 7ms/step - loss: 0.0684 - accuracy: 0.9769 - val_loss: 0.0367 - val_accuracy: 0.9960 - lr: 1.0000e-04\n",
      "Epoch 187/300\n",
      "8/8 [==============================] - 0s 6ms/step - loss: 0.0673 - accuracy: 0.9789 - val_loss: 0.0366 - val_accuracy: 0.9960 - lr: 1.0000e-04\n",
      "Epoch 188/300\n",
      "8/8 [==============================] - 0s 6ms/step - loss: 0.0631 - accuracy: 0.9850 - val_loss: 0.0364 - val_accuracy: 0.9960 - lr: 1.0000e-04\n",
      "Epoch 189/300\n",
      "8/8 [==============================] - 0s 6ms/step - loss: 0.0650 - accuracy: 0.9799 - val_loss: 0.0363 - val_accuracy: 0.9960 - lr: 1.0000e-04\n",
      "Epoch 190/300\n",
      "8/8 [==============================] - 0s 6ms/step - loss: 0.0671 - accuracy: 0.9819 - val_loss: 0.0362 - val_accuracy: 0.9960 - lr: 1.0000e-04\n",
      "Epoch 191/300\n",
      "8/8 [==============================] - 0s 6ms/step - loss: 0.0642 - accuracy: 0.9809 - val_loss: 0.0360 - val_accuracy: 0.9960 - lr: 1.0000e-04\n",
      "Epoch 192/300\n",
      "8/8 [==============================] - 0s 6ms/step - loss: 0.0692 - accuracy: 0.9799 - val_loss: 0.0358 - val_accuracy: 0.9960 - lr: 1.0000e-04\n",
      "Epoch 193/300\n",
      "8/8 [==============================] - 0s 6ms/step - loss: 0.0677 - accuracy: 0.9779 - val_loss: 0.0356 - val_accuracy: 0.9960 - lr: 1.0000e-04\n",
      "Epoch 194/300\n",
      "8/8 [==============================] - 0s 6ms/step - loss: 0.0648 - accuracy: 0.9809 - val_loss: 0.0355 - val_accuracy: 0.9960 - lr: 1.0000e-04\n",
      "Epoch 195/300\n",
      "8/8 [==============================] - 0s 6ms/step - loss: 0.0693 - accuracy: 0.9799 - val_loss: 0.0353 - val_accuracy: 0.9960 - lr: 1.0000e-04\n",
      "Epoch 196/300\n",
      "8/8 [==============================] - 0s 8ms/step - loss: 0.0596 - accuracy: 0.9890 - val_loss: 0.0352 - val_accuracy: 0.9960 - lr: 1.0000e-04\n",
      "Epoch 197/300\n",
      "8/8 [==============================] - 0s 6ms/step - loss: 0.0640 - accuracy: 0.9779 - val_loss: 0.0350 - val_accuracy: 0.9960 - lr: 1.0000e-04\n",
      "Epoch 198/300\n",
      "8/8 [==============================] - 0s 6ms/step - loss: 0.0621 - accuracy: 0.9819 - val_loss: 0.0348 - val_accuracy: 0.9960 - lr: 1.0000e-04\n",
      "Epoch 199/300\n",
      "8/8 [==============================] - 0s 6ms/step - loss: 0.0701 - accuracy: 0.9729 - val_loss: 0.0346 - val_accuracy: 0.9960 - lr: 1.0000e-04\n",
      "Epoch 200/300\n",
      "8/8 [==============================] - 0s 6ms/step - loss: 0.0649 - accuracy: 0.9829 - val_loss: 0.0345 - val_accuracy: 0.9960 - lr: 1.0000e-04\n",
      "Epoch 201/300\n",
      "8/8 [==============================] - 0s 6ms/step - loss: 0.0629 - accuracy: 0.9799 - val_loss: 0.0343 - val_accuracy: 0.9960 - lr: 1.0000e-04\n",
      "Epoch 202/300\n",
      "8/8 [==============================] - 0s 7ms/step - loss: 0.0622 - accuracy: 0.9809 - val_loss: 0.0342 - val_accuracy: 0.9960 - lr: 1.0000e-04\n",
      "Epoch 203/300\n",
      "8/8 [==============================] - 0s 6ms/step - loss: 0.0633 - accuracy: 0.9799 - val_loss: 0.0341 - val_accuracy: 0.9960 - lr: 1.0000e-04\n",
      "Epoch 204/300\n",
      "8/8 [==============================] - 0s 6ms/step - loss: 0.0683 - accuracy: 0.9769 - val_loss: 0.0340 - val_accuracy: 0.9960 - lr: 1.0000e-04\n",
      "Epoch 205/300\n",
      "8/8 [==============================] - 0s 6ms/step - loss: 0.0597 - accuracy: 0.9829 - val_loss: 0.0338 - val_accuracy: 0.9960 - lr: 1.0000e-04\n",
      "Epoch 206/300\n",
      "8/8 [==============================] - 0s 5ms/step - loss: 0.0652 - accuracy: 0.9739 - val_loss: 0.0337 - val_accuracy: 0.9960 - lr: 1.0000e-04\n",
      "Epoch 207/300\n",
      "8/8 [==============================] - 0s 6ms/step - loss: 0.0614 - accuracy: 0.9819 - val_loss: 0.0335 - val_accuracy: 0.9960 - lr: 1.0000e-04\n",
      "Epoch 208/300\n",
      "8/8 [==============================] - 0s 5ms/step - loss: 0.0609 - accuracy: 0.9779 - val_loss: 0.0334 - val_accuracy: 0.9960 - lr: 1.0000e-04\n",
      "Epoch 209/300\n",
      "8/8 [==============================] - 0s 6ms/step - loss: 0.0535 - accuracy: 0.9880 - val_loss: 0.0333 - val_accuracy: 0.9960 - lr: 1.0000e-04\n",
      "Epoch 210/300\n",
      "8/8 [==============================] - 0s 6ms/step - loss: 0.0704 - accuracy: 0.9789 - val_loss: 0.0332 - val_accuracy: 0.9960 - lr: 1.0000e-04\n",
      "Epoch 211/300\n",
      "8/8 [==============================] - 0s 6ms/step - loss: 0.0670 - accuracy: 0.9799 - val_loss: 0.0331 - val_accuracy: 0.9960 - lr: 1.0000e-04\n",
      "Epoch 212/300\n",
      "8/8 [==============================] - 0s 5ms/step - loss: 0.0643 - accuracy: 0.9799 - val_loss: 0.0329 - val_accuracy: 0.9960 - lr: 1.0000e-04\n",
      "Epoch 213/300\n",
      "8/8 [==============================] - 0s 6ms/step - loss: 0.0665 - accuracy: 0.9809 - val_loss: 0.0329 - val_accuracy: 0.9960 - lr: 1.0000e-04\n",
      "Epoch 214/300\n",
      "8/8 [==============================] - 0s 5ms/step - loss: 0.0581 - accuracy: 0.9779 - val_loss: 0.0328 - val_accuracy: 0.9960 - lr: 1.0000e-04\n",
      "Epoch 215/300\n",
      "8/8 [==============================] - 0s 5ms/step - loss: 0.0651 - accuracy: 0.9749 - val_loss: 0.0327 - val_accuracy: 0.9960 - lr: 1.0000e-04\n",
      "Epoch 216/300\n",
      "8/8 [==============================] - 0s 6ms/step - loss: 0.0581 - accuracy: 0.9829 - val_loss: 0.0325 - val_accuracy: 0.9960 - lr: 1.0000e-04\n",
      "Epoch 217/300\n",
      "8/8 [==============================] - 0s 6ms/step - loss: 0.0599 - accuracy: 0.9819 - val_loss: 0.0324 - val_accuracy: 0.9960 - lr: 1.0000e-04\n",
      "Epoch 218/300\n",
      "8/8 [==============================] - 0s 6ms/step - loss: 0.0552 - accuracy: 0.9809 - val_loss: 0.0322 - val_accuracy: 0.9960 - lr: 1.0000e-04\n",
      "Epoch 219/300\n",
      "8/8 [==============================] - 0s 6ms/step - loss: 0.0675 - accuracy: 0.9779 - val_loss: 0.0320 - val_accuracy: 0.9960 - lr: 1.0000e-04\n",
      "Epoch 220/300\n",
      "8/8 [==============================] - 0s 6ms/step - loss: 0.0618 - accuracy: 0.9819 - val_loss: 0.0319 - val_accuracy: 0.9960 - lr: 1.0000e-04\n",
      "Epoch 221/300\n",
      "8/8 [==============================] - 0s 6ms/step - loss: 0.0732 - accuracy: 0.9749 - val_loss: 0.0318 - val_accuracy: 0.9960 - lr: 1.0000e-04\n",
      "Epoch 222/300\n",
      "8/8 [==============================] - 0s 6ms/step - loss: 0.0619 - accuracy: 0.9779 - val_loss: 0.0316 - val_accuracy: 0.9960 - lr: 1.0000e-04\n",
      "Epoch 223/300\n",
      "8/8 [==============================] - 0s 6ms/step - loss: 0.0625 - accuracy: 0.9809 - val_loss: 0.0315 - val_accuracy: 0.9960 - lr: 1.0000e-04\n",
      "Epoch 224/300\n",
      "8/8 [==============================] - 0s 6ms/step - loss: 0.0569 - accuracy: 0.9809 - val_loss: 0.0314 - val_accuracy: 0.9960 - lr: 1.0000e-04\n",
      "Epoch 225/300\n",
      "8/8 [==============================] - 0s 5ms/step - loss: 0.0613 - accuracy: 0.9819 - val_loss: 0.0312 - val_accuracy: 0.9960 - lr: 1.0000e-04\n",
      "Epoch 226/300\n",
      "8/8 [==============================] - 0s 5ms/step - loss: 0.0581 - accuracy: 0.9789 - val_loss: 0.0311 - val_accuracy: 0.9960 - lr: 1.0000e-04\n",
      "Epoch 227/300\n",
      "8/8 [==============================] - 0s 6ms/step - loss: 0.0613 - accuracy: 0.9829 - val_loss: 0.0310 - val_accuracy: 0.9960 - lr: 1.0000e-04\n",
      "Epoch 228/300\n",
      "8/8 [==============================] - 0s 5ms/step - loss: 0.0646 - accuracy: 0.9789 - val_loss: 0.0309 - val_accuracy: 0.9960 - lr: 1.0000e-04\n",
      "Epoch 229/300\n",
      "8/8 [==============================] - 0s 5ms/step - loss: 0.0577 - accuracy: 0.9819 - val_loss: 0.0308 - val_accuracy: 0.9960 - lr: 1.0000e-04\n",
      "Epoch 230/300\n",
      "8/8 [==============================] - 0s 6ms/step - loss: 0.0572 - accuracy: 0.9789 - val_loss: 0.0307 - val_accuracy: 0.9960 - lr: 1.0000e-04\n",
      "Epoch 231/300\n",
      "8/8 [==============================] - 0s 6ms/step - loss: 0.0596 - accuracy: 0.9799 - val_loss: 0.0306 - val_accuracy: 0.9960 - lr: 1.0000e-04\n",
      "Epoch 232/300\n",
      "8/8 [==============================] - 0s 6ms/step - loss: 0.0590 - accuracy: 0.9860 - val_loss: 0.0305 - val_accuracy: 0.9960 - lr: 1.0000e-04\n",
      "Epoch 233/300\n",
      "8/8 [==============================] - 0s 6ms/step - loss: 0.0603 - accuracy: 0.9819 - val_loss: 0.0304 - val_accuracy: 0.9960 - lr: 1.0000e-04\n",
      "Epoch 234/300\n",
      "8/8 [==============================] - 0s 6ms/step - loss: 0.0543 - accuracy: 0.9850 - val_loss: 0.0303 - val_accuracy: 0.9960 - lr: 1.0000e-04\n",
      "Epoch 235/300\n",
      "8/8 [==============================] - 0s 6ms/step - loss: 0.0642 - accuracy: 0.9789 - val_loss: 0.0303 - val_accuracy: 0.9960 - lr: 1.0000e-04\n",
      "Epoch 236/300\n",
      "8/8 [==============================] - 0s 6ms/step - loss: 0.0517 - accuracy: 0.9840 - val_loss: 0.0302 - val_accuracy: 0.9960 - lr: 1.0000e-04\n",
      "Epoch 237/300\n",
      "8/8 [==============================] - 0s 6ms/step - loss: 0.0562 - accuracy: 0.9840 - val_loss: 0.0301 - val_accuracy: 0.9960 - lr: 1.0000e-04\n",
      "Epoch 238/300\n",
      "8/8 [==============================] - 0s 6ms/step - loss: 0.0539 - accuracy: 0.9880 - val_loss: 0.0300 - val_accuracy: 0.9960 - lr: 1.0000e-04\n",
      "Epoch 239/300\n",
      "8/8 [==============================] - 0s 7ms/step - loss: 0.0560 - accuracy: 0.9799 - val_loss: 0.0299 - val_accuracy: 0.9960 - lr: 1.0000e-04\n",
      "Epoch 240/300\n",
      "8/8 [==============================] - 0s 5ms/step - loss: 0.0602 - accuracy: 0.9840 - val_loss: 0.0298 - val_accuracy: 0.9960 - lr: 1.0000e-04\n",
      "Epoch 241/300\n",
      "8/8 [==============================] - 0s 6ms/step - loss: 0.0570 - accuracy: 0.9819 - val_loss: 0.0296 - val_accuracy: 0.9960 - lr: 1.0000e-04\n",
      "Epoch 242/300\n",
      "8/8 [==============================] - 0s 6ms/step - loss: 0.0576 - accuracy: 0.9779 - val_loss: 0.0294 - val_accuracy: 0.9960 - lr: 1.0000e-04\n",
      "Epoch 243/300\n",
      "8/8 [==============================] - 0s 6ms/step - loss: 0.0509 - accuracy: 0.9829 - val_loss: 0.0293 - val_accuracy: 0.9960 - lr: 1.0000e-04\n",
      "Epoch 244/300\n",
      "8/8 [==============================] - 0s 6ms/step - loss: 0.0554 - accuracy: 0.9809 - val_loss: 0.0291 - val_accuracy: 0.9960 - lr: 1.0000e-04\n",
      "Epoch 245/300\n",
      "8/8 [==============================] - 0s 6ms/step - loss: 0.0593 - accuracy: 0.9799 - val_loss: 0.0290 - val_accuracy: 0.9960 - lr: 1.0000e-04\n",
      "Epoch 246/300\n",
      "8/8 [==============================] - 0s 11ms/step - loss: 0.0515 - accuracy: 0.9880 - val_loss: 0.0290 - val_accuracy: 0.9960 - lr: 1.0000e-04\n",
      "Epoch 247/300\n",
      "8/8 [==============================] - 0s 6ms/step - loss: 0.0597 - accuracy: 0.9819 - val_loss: 0.0290 - val_accuracy: 0.9960 - lr: 1.0000e-04\n",
      "Epoch 248/300\n",
      "8/8 [==============================] - 0s 6ms/step - loss: 0.0531 - accuracy: 0.9850 - val_loss: 0.0289 - val_accuracy: 0.9960 - lr: 1.0000e-04\n",
      "Epoch 249/300\n",
      "8/8 [==============================] - 0s 6ms/step - loss: 0.0555 - accuracy: 0.9819 - val_loss: 0.0288 - val_accuracy: 0.9960 - lr: 1.0000e-04\n",
      "Epoch 250/300\n",
      "8/8 [==============================] - 0s 6ms/step - loss: 0.0559 - accuracy: 0.9840 - val_loss: 0.0286 - val_accuracy: 0.9960 - lr: 1.0000e-04\n",
      "Epoch 251/300\n",
      "8/8 [==============================] - 0s 6ms/step - loss: 0.0580 - accuracy: 0.9819 - val_loss: 0.0285 - val_accuracy: 0.9960 - lr: 1.0000e-04\n",
      "Epoch 252/300\n",
      "8/8 [==============================] - 0s 6ms/step - loss: 0.0581 - accuracy: 0.9799 - val_loss: 0.0285 - val_accuracy: 0.9960 - lr: 1.0000e-04\n",
      "Epoch 253/300\n",
      "8/8 [==============================] - 0s 6ms/step - loss: 0.0542 - accuracy: 0.9850 - val_loss: 0.0284 - val_accuracy: 0.9960 - lr: 1.0000e-04\n",
      "Epoch 254/300\n",
      "8/8 [==============================] - 0s 6ms/step - loss: 0.0535 - accuracy: 0.9819 - val_loss: 0.0284 - val_accuracy: 0.9960 - lr: 1.0000e-04\n",
      "Epoch 255/300\n",
      "8/8 [==============================] - 0s 6ms/step - loss: 0.0527 - accuracy: 0.9829 - val_loss: 0.0283 - val_accuracy: 0.9960 - lr: 1.0000e-04\n",
      "Epoch 256/300\n",
      "8/8 [==============================] - 0s 6ms/step - loss: 0.0588 - accuracy: 0.9819 - val_loss: 0.0282 - val_accuracy: 0.9960 - lr: 1.0000e-04\n",
      "Epoch 257/300\n",
      "8/8 [==============================] - 0s 6ms/step - loss: 0.0593 - accuracy: 0.9809 - val_loss: 0.0281 - val_accuracy: 0.9960 - lr: 1.0000e-04\n",
      "Epoch 258/300\n",
      "8/8 [==============================] - 0s 6ms/step - loss: 0.0534 - accuracy: 0.9850 - val_loss: 0.0280 - val_accuracy: 0.9960 - lr: 1.0000e-04\n",
      "Epoch 259/300\n",
      "8/8 [==============================] - 0s 6ms/step - loss: 0.0535 - accuracy: 0.9819 - val_loss: 0.0278 - val_accuracy: 0.9960 - lr: 1.0000e-04\n",
      "Epoch 260/300\n",
      "8/8 [==============================] - 0s 6ms/step - loss: 0.0511 - accuracy: 0.9850 - val_loss: 0.0277 - val_accuracy: 0.9960 - lr: 1.0000e-04\n",
      "Epoch 261/300\n",
      "8/8 [==============================] - 0s 6ms/step - loss: 0.0542 - accuracy: 0.9819 - val_loss: 0.0276 - val_accuracy: 0.9960 - lr: 1.0000e-04\n",
      "Epoch 262/300\n",
      "8/8 [==============================] - 0s 7ms/step - loss: 0.0605 - accuracy: 0.9819 - val_loss: 0.0275 - val_accuracy: 0.9960 - lr: 1.0000e-04\n",
      "Epoch 263/300\n",
      "8/8 [==============================] - 0s 6ms/step - loss: 0.0512 - accuracy: 0.9850 - val_loss: 0.0274 - val_accuracy: 0.9960 - lr: 1.0000e-04\n",
      "Epoch 264/300\n",
      "8/8 [==============================] - 0s 6ms/step - loss: 0.0573 - accuracy: 0.9809 - val_loss: 0.0273 - val_accuracy: 0.9960 - lr: 1.0000e-04\n",
      "Epoch 265/300\n",
      "8/8 [==============================] - 0s 7ms/step - loss: 0.0519 - accuracy: 0.9860 - val_loss: 0.0272 - val_accuracy: 0.9960 - lr: 1.0000e-04\n",
      "Epoch 266/300\n",
      "8/8 [==============================] - 0s 6ms/step - loss: 0.0584 - accuracy: 0.9779 - val_loss: 0.0271 - val_accuracy: 0.9960 - lr: 1.0000e-04\n",
      "Epoch 267/300\n",
      "8/8 [==============================] - 0s 6ms/step - loss: 0.0562 - accuracy: 0.9819 - val_loss: 0.0270 - val_accuracy: 0.9960 - lr: 1.0000e-04\n",
      "Epoch 268/300\n",
      "8/8 [==============================] - 0s 6ms/step - loss: 0.0535 - accuracy: 0.9850 - val_loss: 0.0269 - val_accuracy: 0.9960 - lr: 1.0000e-04\n",
      "Epoch 269/300\n",
      "8/8 [==============================] - 0s 6ms/step - loss: 0.0575 - accuracy: 0.9840 - val_loss: 0.0268 - val_accuracy: 0.9960 - lr: 1.0000e-04\n",
      "Epoch 270/300\n",
      "8/8 [==============================] - 0s 6ms/step - loss: 0.0521 - accuracy: 0.9809 - val_loss: 0.0269 - val_accuracy: 0.9960 - lr: 1.0000e-04\n",
      "Epoch 271/300\n",
      "8/8 [==============================] - 0s 6ms/step - loss: 0.0494 - accuracy: 0.9840 - val_loss: 0.0269 - val_accuracy: 0.9960 - lr: 1.0000e-04\n",
      "Epoch 272/300\n",
      "8/8 [==============================] - 0s 7ms/step - loss: 0.0570 - accuracy: 0.9819 - val_loss: 0.0268 - val_accuracy: 0.9960 - lr: 1.0000e-04\n",
      "Epoch 273/300\n",
      "8/8 [==============================] - 0s 6ms/step - loss: 0.0494 - accuracy: 0.9829 - val_loss: 0.0267 - val_accuracy: 0.9960 - lr: 1.0000e-04\n",
      "Epoch 274/300\n",
      "8/8 [==============================] - 0s 7ms/step - loss: 0.0470 - accuracy: 0.9870 - val_loss: 0.0265 - val_accuracy: 0.9960 - lr: 1.0000e-04\n",
      "Epoch 275/300\n",
      "8/8 [==============================] - 0s 6ms/step - loss: 0.0568 - accuracy: 0.9809 - val_loss: 0.0265 - val_accuracy: 0.9960 - lr: 1.0000e-04\n",
      "Epoch 276/300\n",
      "8/8 [==============================] - 0s 6ms/step - loss: 0.0529 - accuracy: 0.9829 - val_loss: 0.0265 - val_accuracy: 0.9960 - lr: 1.0000e-04\n",
      "Epoch 277/300\n",
      "8/8 [==============================] - 0s 6ms/step - loss: 0.0567 - accuracy: 0.9809 - val_loss: 0.0265 - val_accuracy: 0.9960 - lr: 1.0000e-04\n",
      "Epoch 278/300\n",
      "8/8 [==============================] - 0s 6ms/step - loss: 0.0614 - accuracy: 0.9809 - val_loss: 0.0264 - val_accuracy: 0.9960 - lr: 1.0000e-04\n",
      "Epoch 279/300\n",
      "8/8 [==============================] - 0s 6ms/step - loss: 0.0522 - accuracy: 0.9860 - val_loss: 0.0261 - val_accuracy: 0.9960 - lr: 1.0000e-04\n",
      "Epoch 280/300\n",
      "8/8 [==============================] - 0s 7ms/step - loss: 0.0509 - accuracy: 0.9819 - val_loss: 0.0259 - val_accuracy: 0.9960 - lr: 1.0000e-04\n",
      "Epoch 281/300\n",
      "8/8 [==============================] - 0s 6ms/step - loss: 0.0522 - accuracy: 0.9809 - val_loss: 0.0258 - val_accuracy: 0.9960 - lr: 1.0000e-04\n",
      "Epoch 282/300\n",
      "8/8 [==============================] - 0s 7ms/step - loss: 0.0550 - accuracy: 0.9829 - val_loss: 0.0258 - val_accuracy: 0.9960 - lr: 1.0000e-04\n",
      "Epoch 283/300\n",
      "8/8 [==============================] - 0s 8ms/step - loss: 0.0487 - accuracy: 0.9850 - val_loss: 0.0257 - val_accuracy: 0.9960 - lr: 1.0000e-04\n",
      "Epoch 284/300\n",
      "8/8 [==============================] - 0s 6ms/step - loss: 0.0481 - accuracy: 0.9870 - val_loss: 0.0256 - val_accuracy: 0.9960 - lr: 1.0000e-04\n",
      "Epoch 285/300\n",
      "8/8 [==============================] - 0s 6ms/step - loss: 0.0540 - accuracy: 0.9809 - val_loss: 0.0256 - val_accuracy: 0.9960 - lr: 1.0000e-04\n",
      "Epoch 286/300\n",
      "8/8 [==============================] - 0s 7ms/step - loss: 0.0584 - accuracy: 0.9799 - val_loss: 0.0254 - val_accuracy: 0.9960 - lr: 1.0000e-04\n",
      "Epoch 287/300\n",
      "8/8 [==============================] - 0s 5ms/step - loss: 0.0523 - accuracy: 0.9809 - val_loss: 0.0253 - val_accuracy: 0.9960 - lr: 1.0000e-04\n",
      "Epoch 288/300\n",
      "8/8 [==============================] - 0s 6ms/step - loss: 0.0512 - accuracy: 0.9809 - val_loss: 0.0252 - val_accuracy: 0.9960 - lr: 1.0000e-04\n",
      "Epoch 289/300\n",
      "8/8 [==============================] - 0s 6ms/step - loss: 0.0451 - accuracy: 0.9900 - val_loss: 0.0251 - val_accuracy: 0.9960 - lr: 1.0000e-04\n",
      "Epoch 290/300\n",
      "8/8 [==============================] - 0s 6ms/step - loss: 0.0505 - accuracy: 0.9819 - val_loss: 0.0251 - val_accuracy: 0.9960 - lr: 1.0000e-04\n",
      "Epoch 291/300\n",
      "8/8 [==============================] - 0s 6ms/step - loss: 0.0577 - accuracy: 0.9819 - val_loss: 0.0250 - val_accuracy: 0.9960 - lr: 1.0000e-04\n",
      "Epoch 292/300\n",
      "8/8 [==============================] - 0s 6ms/step - loss: 0.0606 - accuracy: 0.9749 - val_loss: 0.0249 - val_accuracy: 0.9960 - lr: 1.0000e-04\n",
      "Epoch 293/300\n",
      "8/8 [==============================] - 0s 6ms/step - loss: 0.0478 - accuracy: 0.9829 - val_loss: 0.0248 - val_accuracy: 0.9960 - lr: 1.0000e-04\n",
      "Epoch 294/300\n",
      "8/8 [==============================] - 0s 6ms/step - loss: 0.0458 - accuracy: 0.9850 - val_loss: 0.0248 - val_accuracy: 0.9960 - lr: 1.0000e-04\n",
      "Epoch 295/300\n",
      "8/8 [==============================] - 0s 6ms/step - loss: 0.0518 - accuracy: 0.9850 - val_loss: 0.0247 - val_accuracy: 0.9960 - lr: 1.0000e-04\n",
      "Epoch 296/300\n",
      "8/8 [==============================] - 0s 6ms/step - loss: 0.0482 - accuracy: 0.9850 - val_loss: 0.0246 - val_accuracy: 0.9960 - lr: 1.0000e-04\n",
      "Epoch 297/300\n",
      "8/8 [==============================] - 0s 6ms/step - loss: 0.0514 - accuracy: 0.9809 - val_loss: 0.0246 - val_accuracy: 0.9960 - lr: 1.0000e-04\n",
      "Epoch 298/300\n",
      "8/8 [==============================] - 0s 6ms/step - loss: 0.0499 - accuracy: 0.9840 - val_loss: 0.0246 - val_accuracy: 0.9960 - lr: 1.0000e-04\n",
      "Epoch 299/300\n",
      "8/8 [==============================] - 0s 6ms/step - loss: 0.0506 - accuracy: 0.9829 - val_loss: 0.0244 - val_accuracy: 0.9960 - lr: 1.0000e-04\n",
      "Epoch 300/300\n",
      "8/8 [==============================] - 0s 6ms/step - loss: 0.0496 - accuracy: 0.9840 - val_loss: 0.0243 - val_accuracy: 0.9960 - lr: 1.0000e-04\n"
     ]
    }
   ],
   "source": [
    "history = model.fit(\n",
    "    X_train,\n",
    "    y_train_encoded,\n",
    "    epochs=epochs,\n",
    "    batch_size=128,\n",
    "    validation_data=(X_test, y_test_encoded),\n",
    "    # callbacks=[es_callback]    # callbacks=[cp_callback, es_callback]\n",
    "    callbacks=[lr_schedule]\n",
    ")"
   ]
  },
  {
   "cell_type": "markdown",
   "source": [
    "## Evaluation"
   ],
   "metadata": {
    "collapsed": false
   }
  },
  {
   "cell_type": "code",
   "outputs": [
    {
     "data": {
      "text/plain": "<Figure size 1200x600 with 2 Axes>",
      "image/png": "[encoded data removed]"
     },
     "metadata": {},
     "output_type": "display_data"
    }
   ],
   "source": [
    "import matplotlib.pyplot as plt\n",
    "\n",
    "plt.figure(figsize=(12, 6))\n",
    "plt.subplot(1, 2, 1)\n",
    "plt.plot(history.history['accuracy'])\n",
    "plt.plot(history.history['val_accuracy'])\n",
    "plt.title('Model accuracy')\n",
    "plt.ylabel('Accuracy')\n",
    "plt.xlabel('Epoch')\n",
    "plt.legend(['Train', 'Validation'], loc='upper left')\n",
    "\n",
    "plt.subplot(1, 2, 2)\n",
    "plt.plot(history.history['loss'])\n",
    "plt.plot(history.history['val_loss'])\n",
    "plt.title('Model loss')\n",
    "plt.ylabel('Loss')\n",
    "plt.xlabel('Epoch')\n",
    "plt.legend(['Train', 'Validation'], loc='upper left')\n",
    "\n",
    "if 0:\n",
    "    plt.savefig(traingraph_path)\n",
    "\n",
    "plt.show()"
   ],
   "metadata": {
    "collapsed": false,
    "ExecuteTime": {
     "end_time": "2024-06-25T19:36:55.221236Z",
     "start_time": "2024-06-25T19:36:54.626894Z"
    }
   },
   "execution_count": 15
  },
  {
   "cell_type": "code",
   "execution_count": 16,
   "metadata": {
    "ExecuteTime": {
     "end_time": "2024-06-25T19:36:55.345043Z",
     "start_time": "2024-06-25T19:36:55.223236Z"
    }
   },
   "outputs": [
    {
     "name": "stdout",
     "output_type": "stream",
     "text": [
      "2/2 [==============================] - 0s 5ms/step - loss: 0.0243 - accuracy: 0.9960\n"
     ]
    }
   ],
   "source": [
    "val_loss, val_acc = model.evaluate(X_test, y_test_encoded, batch_size=128)"
   ]
  },
  {
   "cell_type": "code",
   "execution_count": 17,
   "metadata": {
    "ExecuteTime": {
     "end_time": "2024-06-25T19:36:55.392651Z",
     "start_time": "2024-06-25T19:36:55.351570Z"
    }
   },
   "outputs": [],
   "source": [
    "# model = tf.keras.models.load_model(model_save_path)"
   ]
  },
  {
   "cell_type": "code",
   "execution_count": 18,
   "metadata": {
    "ExecuteTime": {
     "end_time": "2024-06-25T19:36:55.631177Z",
     "start_time": "2024-06-25T19:36:55.397653Z"
    }
   },
   "outputs": [
    {
     "name": "stdout",
     "output_type": "stream",
     "text": [
      "1/1 [==============================] - 0s 138ms/step\n",
      "[2.6907386e-05 9.9997306e-01]\n",
      "1\n"
     ]
    }
   ],
   "source": [
    "predict_result = model.predict(np.array([X_test[0]]))\n",
    "print(np.squeeze(predict_result))\n",
    "print(np.argmax(np.squeeze(predict_result)))"
   ]
  },
  {
   "cell_type": "markdown",
   "metadata": {},
   "source": []
  },
  {
   "cell_type": "code",
   "execution_count": 19,
   "metadata": {
    "ExecuteTime": {
     "end_time": "2024-06-25T19:36:56.081205Z",
     "start_time": "2024-06-25T19:36:55.635186Z"
    }
   },
   "outputs": [
    {
     "name": "stdout",
     "output_type": "stream",
     "text": [
      "8/8 [==============================] - 0s 1ms/step\n"
     ]
    },
    {
     "data": {
      "text/plain": "<Figure size 1000x800 with 2 Axes>",
      "image/png": "[encoded data removed]"
     },
     "metadata": {},
     "output_type": "display_data"
    },
    {
     "name": "stdout",
     "output_type": "stream",
     "text": [
      "Classification Report\n",
      "              precision    recall  f1-score   support\n",
      "\n",
      "       Enter       1.00      0.94      0.97        17\n",
      "         ___       1.00      1.00      1.00       233\n",
      "\n",
      "    accuracy                           1.00       250\n",
      "   macro avg       1.00      0.97      0.98       250\n",
      "weighted avg       1.00      1.00      1.00       250\n"
     ]
    }
   ],
   "source": [
    "import pandas as pd\n",
    "import seaborn as sns\n",
    "from sklearn.metrics import confusion_matrix, classification_report\n",
    "from tensorflow.keras.utils import plot_model\n",
    "\n",
    "def print_confusion_matrix(y_true, y_pred, report=True):\n",
    "    labels = sorted(list(set(y_true)))\n",
    "    cmx_data = confusion_matrix(y_true, y_pred, labels=labels)\n",
    "    \n",
    "    df_cmx = pd.DataFrame(cmx_data, index=labels, columns=labels)\n",
    " \n",
    "    fig, ax = plt.subplots(figsize=(10, 8))  # (7, 6)\n",
    "    sns.heatmap(df_cmx, annot=True, fmt='g' ,square=False)\n",
    "    ax.set_ylim(len(set(y_true)), 0)\n",
    "    plt.savefig(confmat_path)\n",
    "    plt.show()\n",
    "    \n",
    "    if report:\n",
    "        print('Classification Report')\n",
    "        print(classification_report(y_test, y_pred))\n",
    "\n",
    "Y_pred = model.predict(X_test)\n",
    "y_pred = np.argmax(Y_pred, axis=1)\n",
    "\n",
    "label_encoder.fit(y_train)\n",
    "y_test_decoded = label_encoder.inverse_transform(y_test_encoded)\n",
    "y_pred_decoded = label_encoder.inverse_transform(y_pred)\n",
    "\n",
    "\n",
    "print_confusion_matrix(y_test_decoded, y_pred_decoded)\n",
    "classrep_dict = classification_report(y_test_decoded, y_pred_decoded, output_dict=True)"
   ]
  },
  {
   "cell_type": "code",
   "outputs": [
    {
     "data": {
      "image/png": "[encoded data removed]",
      "text/plain": "<IPython.core.display.Image object>"
     },
     "execution_count": 20,
     "metadata": {},
     "output_type": "execute_result"
    }
   ],
   "source": [
    "with open(classrep_path, 'w', newline='') as f:\n",
    "    writer = csv.writer(f)\n",
    "    # Write the headers\n",
    "    writer.writerow([\"Class\", \"Precision\", \"Recall\", \"F1-Score\", \"Support\"])\n",
    "    \n",
    "    # Write the rows\n",
    "    for key, value in classrep_dict.items():\n",
    "        if isinstance(value, dict):\n",
    "            writer.writerow([key, value['precision'], value['recall'], value['f1-score'], value['support']])\n",
    "        else:\n",
    "            writer.writerow([key, value])\n",
    "        \n",
    "plot_model(model, to_file=architecture_path, show_shapes=True, show_layer_names=True)"
   ],
   "metadata": {
    "collapsed": false,
    "ExecuteTime": {
     "end_time": "2024-06-25T19:36:56.237126Z",
     "start_time": "2024-06-25T19:36:56.083212Z"
    }
   },
   "execution_count": 20
  },
  {
   "cell_type": "markdown",
   "metadata": {},
   "source": [
    "# Tensorflow-Lite"
   ]
  },
  {
   "cell_type": "code",
   "execution_count": 21,
   "metadata": {
    "ExecuteTime": {
     "end_time": "2024-06-25T19:36:56.486488Z",
     "start_time": "2024-06-25T19:36:56.238122Z"
    }
   },
   "outputs": [],
   "source": [
    "model.save(model_save_path, include_optimizer=False)"
   ]
  },
  {
   "cell_type": "code",
   "execution_count": 22,
   "metadata": {
    "ExecuteTime": {
     "end_time": "2024-06-25T19:36:59.072111Z",
     "start_time": "2024-06-25T19:36:56.487489Z"
    }
   },
   "outputs": [
    {
     "name": "stderr",
     "output_type": "stream",
     "text": [
      "WARNING:absl:Found untraced functions such as _update_step_xla while saving (showing 1 of 1). These functions will not be directly callable after loading.\n"
     ]
    },
    {
     "name": "stdout",
     "output_type": "stream",
     "text": [
      "INFO:tensorflow:Assets written to: C:\\Users\\ivono\\AppData\\Local\\Temp\\tmp2czg11zp\\assets\n"
     ]
    },
    {
     "name": "stderr",
     "output_type": "stream",
     "text": [
      "INFO:tensorflow:Assets written to: C:\\Users\\ivono\\AppData\\Local\\Temp\\tmp2czg11zp\\assets\n"
     ]
    },
    {
     "data": {
      "text/plain": "4704"
     },
     "execution_count": 22,
     "metadata": {},
     "output_type": "execute_result"
    }
   ],
   "source": [
    "converter = tf.lite.TFLiteConverter.from_keras_model(model)\n",
    "converter.optimizations = [tf.lite.Optimize.DEFAULT]\n",
    "tflite_quantized_model = converter.convert()\n",
    "\n",
    "open(tflite_save_path, 'wb').write(tflite_quantized_model)"
   ]
  },
  {
   "cell_type": "code",
   "execution_count": 23,
   "metadata": {
    "ExecuteTime": {
     "end_time": "2024-06-25T19:36:59.087635Z",
     "start_time": "2024-06-25T19:36:59.074074Z"
    }
   },
   "outputs": [],
   "source": [
    "interpreter = tf.lite.Interpreter(model_path=tflite_save_path)\n",
    "interpreter.allocate_tensors()"
   ]
  },
  {
   "cell_type": "code",
   "execution_count": 24,
   "metadata": {
    "ExecuteTime": {
     "end_time": "2024-06-25T19:36:59.103704Z",
     "start_time": "2024-06-25T19:36:59.089195Z"
    }
   },
   "outputs": [],
   "source": [
    "input_details = interpreter.get_input_details()\n",
    "output_details = interpreter.get_output_details()"
   ]
  },
  {
   "cell_type": "code",
   "execution_count": 25,
   "metadata": {
    "ExecuteTime": {
     "end_time": "2024-06-25T19:36:59.119186Z",
     "start_time": "2024-06-25T19:36:59.105669Z"
    }
   },
   "outputs": [],
   "source": [
    "interpreter.set_tensor(input_details[0]['index'], np.array([X_test[0]]))"
   ]
  },
  {
   "cell_type": "code",
   "execution_count": 26,
   "metadata": {
    "scrolled": true,
    "ExecuteTime": {
     "end_time": "2024-06-25T19:36:59.135074Z",
     "start_time": "2024-06-25T19:36:59.123555Z"
    }
   },
   "outputs": [
    {
     "name": "stdout",
     "output_type": "stream",
     "text": [
      "CPU times: total: 0 ns\n",
      "Wall time: 0 ns\n"
     ]
    }
   ],
   "source": [
    "%%time\n",
    "interpreter.invoke()\n",
    "tflite_results = interpreter.get_tensor(output_details[0]['index'])"
   ]
  },
  {
   "cell_type": "code",
   "execution_count": 27,
   "metadata": {
    "ExecuteTime": {
     "end_time": "2024-06-25T19:36:59.151110Z",
     "start_time": "2024-06-25T19:36:59.137075Z"
    }
   },
   "outputs": [
    {
     "name": "stdout",
     "output_type": "stream",
     "text": [
      "[2.7240187e-05 9.9997270e-01]\n",
      "1\n"
     ]
    }
   ],
   "source": [
    "print(np.squeeze(tflite_results))\n",
    "print(np.argmax(np.squeeze(tflite_results)))"
   ]
  }
 ],
 "metadata": {
  "kernelspec": {
   "display_name": "Python 3",
   "language": "python",
   "name": "python3"
  },
  "language_info": {
   "codemirror_mode": {
    "name": "ipython",
    "version": 3
   },
   "file_extension": ".py",
   "mimetype": "text/x-python",
   "name": "python",
   "nbconvert_exporter": "python",
   "pygments_lexer": "ipython3",
   "version": "3.8.5"
  }
 },
 "nbformat": 4,
 "nbformat_minor": 4
}
