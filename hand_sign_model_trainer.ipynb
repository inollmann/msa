{
 "cells": [
  {
   "cell_type": "code",
   "execution_count": 26,
   "metadata": {
    "ExecuteTime": {
     "end_time": "2024-04-21T19:43:02.229250Z",
     "start_time": "2024-04-21T19:43:02.222172Z"
    }
   },
   "outputs": [],
   "source": [
    "import csv\n",
    "\n",
    "import numpy as np\n",
    "import tensorflow as tf\n",
    "from sklearn.model_selection import train_test_split\n",
    "from sklearn.preprocessing import LabelEncoder\n",
    "from tensorflow.keras.callbacks import LearningRateScheduler\n",
    "\n",
    "RANDOM_SEED = 42"
   ]
  },
  {
   "cell_type": "markdown",
   "metadata": {},
   "source": []
  },
  {
   "cell_type": "code",
   "execution_count": 27,
   "metadata": {
    "ExecuteTime": {
     "end_time": "2024-04-21T19:43:02.337998Z",
     "start_time": "2024-04-21T19:43:02.319452Z"
    }
   },
   "outputs": [],
   "source": [
    "csv_file = 'keypoints\\\\keypointB_3D_augmented.csv'\n",
    "model_save_path = 'model\\\\customModel\\\\modelB\\\\ASLclassifier4b.hdf5'\n",
    "tflite_save_path = 'model\\\\customModel\\\\modelB\\\\ASLclassifier4b.tflite'"
   ]
  },
  {
   "cell_type": "markdown",
   "metadata": {},
   "source": []
  },
  {
   "cell_type": "code",
   "execution_count": 28,
   "metadata": {
    "ExecuteTime": {
     "end_time": "2024-04-21T19:43:02.353506Z",
     "start_time": "2024-04-21T19:43:02.340004Z"
    }
   },
   "outputs": [],
   "source": [
    "NUM_CLASSES = 28\n",
    "num_identifier_columns = 1\n",
    "coord_dimensions = 3"
   ]
  },
  {
   "cell_type": "markdown",
   "metadata": {},
   "source": []
  },
  {
   "cell_type": "code",
   "execution_count": 29,
   "metadata": {
    "ExecuteTime": {
     "end_time": "2024-04-21T19:43:05.834141Z",
     "start_time": "2024-04-21T19:43:02.354505Z"
    }
   },
   "outputs": [],
   "source": [
    "# lst = [1] + list(range(num_identifier_columns, (21 * 2) + num_identifier_columns))\n",
    "lst = list(range(num_identifier_columns, 21 * coord_dimensions + num_identifier_columns + 1))\n",
    "X_dataset = np.loadtxt(csv_file, delimiter=',', dtype='float32', usecols=lst)"
   ]
  },
  {
   "cell_type": "code",
   "execution_count": 30,
   "metadata": {
    "ExecuteTime": {
     "end_time": "2024-04-21T19:43:06.754249Z",
     "start_time": "2024-04-21T19:43:05.835719Z"
    }
   },
   "outputs": [],
   "source": [
    "y_dataset = np.loadtxt(csv_file, delimiter=',', dtype='<U8', usecols=0)"
   ]
  },
  {
   "cell_type": "code",
   "execution_count": 31,
   "metadata": {
    "ExecuteTime": {
     "end_time": "2024-04-21T19:43:06.784817Z",
     "start_time": "2024-04-21T19:43:06.756759Z"
    }
   },
   "outputs": [],
   "source": [
    "X_train, X_test, y_train, y_test = train_test_split(X_dataset, y_dataset, train_size=0.8, random_state=RANDOM_SEED)"
   ]
  },
  {
   "cell_type": "code",
   "execution_count": 32,
   "outputs": [],
   "source": [
    "# Initialize LabelEncoder\n",
    "label_encoder = LabelEncoder()\n",
    "\n",
    "# Fit and transform the target data to integers\n",
    "y_train_encoded = label_encoder.fit_transform(y_train)\n",
    "y_test_encoded = label_encoder.transform(y_test)"
   ],
   "metadata": {
    "collapsed": false,
    "ExecuteTime": {
     "end_time": "2024-04-21T19:43:06.816881Z",
     "start_time": "2024-04-21T19:43:06.787331Z"
    }
   }
  },
  {
   "cell_type": "markdown",
   "metadata": {},
   "source": []
  },
  {
   "cell_type": "code",
   "execution_count": 33,
   "metadata": {
    "ExecuteTime": {
     "end_time": "2024-04-21T19:43:06.879157Z",
     "start_time": "2024-04-21T19:43:06.818883Z"
    }
   },
   "outputs": [],
   "source": [
    "model = tf.keras.models.Sequential([\n",
    "    tf.keras.layers.Input((21 * coord_dimensions + 1, )),\n",
    "    tf.keras.layers.Dropout(0.15),\n",
    "    tf.keras.layers.Dense(80, activation='relu'),\n",
    "    tf.keras.layers.Dropout(0.15),\n",
    "    tf.keras.layers.Dense(50, activation='relu'),\n",
    "    tf.keras.layers.Dense(NUM_CLASSES, activation='softmax')\n",
    "])"
   ]
  },
  {
   "cell_type": "code",
   "execution_count": 34,
   "metadata": {
    "ExecuteTime": {
     "end_time": "2024-04-21T19:43:06.910732Z",
     "start_time": "2024-04-21T19:43:06.880159Z"
    }
   },
   "outputs": [
    {
     "name": "stdout",
     "output_type": "stream",
     "text": [
      "Model: \"sequential_1\"\n",
      "_________________________________________________________________\n",
      " Layer (type)                Output Shape              Param #   \n",
      "=================================================================\n",
      " dropout_2 (Dropout)         (None, 64)                0         \n",
      "                                                                 \n",
      " dense_3 (Dense)             (None, 80)                5200      \n",
      "                                                                 \n",
      " dropout_3 (Dropout)         (None, 80)                0         \n",
      "                                                                 \n",
      " dense_4 (Dense)             (None, 50)                4050      \n",
      "                                                                 \n",
      " dense_5 (Dense)             (None, 28)                1428      \n",
      "                                                                 \n",
      "=================================================================\n",
      "Total params: 10,678\n",
      "Trainable params: 10,678\n",
      "Non-trainable params: 0\n",
      "_________________________________________________________________\n"
     ]
    }
   ],
   "source": [
    "model.summary()  # tf.keras.utils.plot_model(model, show_shapes=True)"
   ]
  },
  {
   "cell_type": "code",
   "execution_count": 35,
   "metadata": {
    "ExecuteTime": {
     "end_time": "2024-04-21T19:43:06.926747Z",
     "start_time": "2024-04-21T19:43:06.911723Z"
    }
   },
   "outputs": [],
   "source": [
    "# cp_callback = tf.keras.callbacks.ModelCheckpoint(model_save_path, verbose=1, save_weights_only=False)\n",
    "es_callback = tf.keras.callbacks.EarlyStopping(patience=100, verbose=1)"
   ]
  },
  {
   "cell_type": "code",
   "execution_count": 36,
   "outputs": [],
   "source": [
    "lr_schedule = LearningRateScheduler(lambda epoch: 1e-3 * 10 ** (epoch / 20))"
   ],
   "metadata": {
    "collapsed": false
   }
  },
  {
   "cell_type": "code",
   "execution_count": 37,
   "metadata": {
    "ExecuteTime": {
     "end_time": "2024-04-21T19:43:06.941778Z",
     "start_time": "2024-04-21T19:43:06.928755Z"
    }
   },
   "outputs": [],
   "source": [
    "model.compile(\n",
    "    optimizer='adam',\n",
    "    loss='sparse_categorical_crossentropy',\n",
    "    metrics=['accuracy']\n",
    ")"
   ]
  },
  {
   "cell_type": "markdown",
   "metadata": {},
   "source": []
  },
  {
   "cell_type": "code",
   "execution_count": 38,
   "metadata": {
    "scrolled": true,
    "ExecuteTime": {
     "end_time": "2024-04-21T19:49:54.830977Z",
     "start_time": "2024-04-21T19:43:06.943779Z"
    }
   },
   "outputs": [
    {
     "name": "stdout",
     "output_type": "stream",
     "text": [
      "Epoch 1/1000\n",
      "694/694 [==============================] - 2s 2ms/step - loss: 1.5896 - accuracy: 0.5018 - val_loss: 0.5926 - val_accuracy: 0.8633\n",
      "Epoch 2/1000\n",
      "694/694 [==============================] - 2s 3ms/step - loss: 0.8828 - accuracy: 0.7029 - val_loss: 0.4493 - val_accuracy: 0.8791\n",
      "Epoch 3/1000\n",
      "694/694 [==============================] - 2s 2ms/step - loss: 0.7292 - accuracy: 0.7534 - val_loss: 0.3726 - val_accuracy: 0.9196\n",
      "Epoch 4/1000\n",
      "694/694 [==============================] - 1s 2ms/step - loss: 0.6235 - accuracy: 0.7922 - val_loss: 0.3265 - val_accuracy: 0.9277\n",
      "Epoch 5/1000\n",
      "694/694 [==============================] - 2s 2ms/step - loss: 0.5452 - accuracy: 0.8221 - val_loss: 0.2867 - val_accuracy: 0.9378\n",
      "Epoch 6/1000\n",
      "694/694 [==============================] - 2s 2ms/step - loss: 0.4725 - accuracy: 0.8499 - val_loss: 0.2516 - val_accuracy: 0.9430\n",
      "Epoch 7/1000\n",
      "694/694 [==============================] - 1s 2ms/step - loss: 0.4253 - accuracy: 0.8677 - val_loss: 0.2409 - val_accuracy: 0.9443\n",
      "Epoch 8/1000\n",
      "694/694 [==============================] - 1s 2ms/step - loss: 0.3831 - accuracy: 0.8822 - val_loss: 0.2388 - val_accuracy: 0.9415\n",
      "Epoch 9/1000\n",
      "694/694 [==============================] - 1s 2ms/step - loss: 0.3528 - accuracy: 0.8918 - val_loss: 0.2081 - val_accuracy: 0.9486\n",
      "Epoch 10/1000\n",
      "694/694 [==============================] - 1s 2ms/step - loss: 0.3303 - accuracy: 0.8985 - val_loss: 0.1908 - val_accuracy: 0.9595\n",
      "Epoch 11/1000\n",
      "694/694 [==============================] - 1s 2ms/step - loss: 0.3106 - accuracy: 0.9033 - val_loss: 0.2303 - val_accuracy: 0.9102\n",
      "Epoch 12/1000\n",
      "694/694 [==============================] - 1s 2ms/step - loss: 0.2956 - accuracy: 0.9097 - val_loss: 0.2333 - val_accuracy: 0.9152\n",
      "Epoch 13/1000\n",
      "694/694 [==============================] - 1s 2ms/step - loss: 0.2805 - accuracy: 0.9134 - val_loss: 0.1894 - val_accuracy: 0.9411\n",
      "Epoch 14/1000\n",
      "694/694 [==============================] - 1s 2ms/step - loss: 0.2741 - accuracy: 0.9171 - val_loss: 0.1751 - val_accuracy: 0.9518\n",
      "Epoch 15/1000\n",
      "694/694 [==============================] - 1s 2ms/step - loss: 0.2632 - accuracy: 0.9188 - val_loss: 0.2047 - val_accuracy: 0.9327\n",
      "Epoch 16/1000\n",
      "694/694 [==============================] - 1s 2ms/step - loss: 0.2516 - accuracy: 0.9222 - val_loss: 0.2005 - val_accuracy: 0.9396\n",
      "Epoch 17/1000\n",
      "694/694 [==============================] - 1s 2ms/step - loss: 0.2499 - accuracy: 0.9234 - val_loss: 0.1954 - val_accuracy: 0.9417\n",
      "Epoch 18/1000\n",
      "694/694 [==============================] - 1s 2ms/step - loss: 0.2428 - accuracy: 0.9248 - val_loss: 0.1853 - val_accuracy: 0.9520\n",
      "Epoch 19/1000\n",
      "694/694 [==============================] - 1s 2ms/step - loss: 0.2395 - accuracy: 0.9259 - val_loss: 0.2068 - val_accuracy: 0.9303\n",
      "Epoch 20/1000\n",
      "694/694 [==============================] - 1s 2ms/step - loss: 0.2288 - accuracy: 0.9298 - val_loss: 0.2130 - val_accuracy: 0.9288\n",
      "Epoch 21/1000\n",
      "694/694 [==============================] - 1s 2ms/step - loss: 0.2242 - accuracy: 0.9313 - val_loss: 0.1884 - val_accuracy: 0.9408\n",
      "Epoch 22/1000\n",
      "694/694 [==============================] - 1s 2ms/step - loss: 0.2193 - accuracy: 0.9324 - val_loss: 0.1970 - val_accuracy: 0.9362\n",
      "Epoch 23/1000\n",
      "694/694 [==============================] - 1s 2ms/step - loss: 0.2181 - accuracy: 0.9330 - val_loss: 0.2127 - val_accuracy: 0.9228\n",
      "Epoch 24/1000\n",
      "694/694 [==============================] - 1s 2ms/step - loss: 0.2119 - accuracy: 0.9344 - val_loss: 0.1734 - val_accuracy: 0.9504\n",
      "Epoch 25/1000\n",
      "694/694 [==============================] - 1s 2ms/step - loss: 0.2095 - accuracy: 0.9361 - val_loss: 0.1973 - val_accuracy: 0.9383\n",
      "Epoch 26/1000\n",
      "694/694 [==============================] - 1s 2ms/step - loss: 0.2079 - accuracy: 0.9359 - val_loss: 0.1618 - val_accuracy: 0.9571\n",
      "Epoch 27/1000\n",
      "694/694 [==============================] - 1s 2ms/step - loss: 0.2051 - accuracy: 0.9380 - val_loss: 0.1807 - val_accuracy: 0.9396\n",
      "Epoch 28/1000\n",
      "694/694 [==============================] - 1s 2ms/step - loss: 0.1993 - accuracy: 0.9386 - val_loss: 0.2000 - val_accuracy: 0.9328\n",
      "Epoch 29/1000\n",
      "694/694 [==============================] - 1s 2ms/step - loss: 0.1975 - accuracy: 0.9395 - val_loss: 0.1821 - val_accuracy: 0.9465\n",
      "Epoch 30/1000\n",
      "694/694 [==============================] - 1s 2ms/step - loss: 0.1948 - accuracy: 0.9412 - val_loss: 0.1662 - val_accuracy: 0.9515\n",
      "Epoch 31/1000\n",
      "694/694 [==============================] - 1s 2ms/step - loss: 0.1940 - accuracy: 0.9413 - val_loss: 0.1822 - val_accuracy: 0.9434\n",
      "Epoch 32/1000\n",
      "694/694 [==============================] - 1s 2ms/step - loss: 0.1893 - accuracy: 0.9428 - val_loss: 0.1707 - val_accuracy: 0.9482\n",
      "Epoch 33/1000\n",
      "694/694 [==============================] - 1s 2ms/step - loss: 0.1907 - accuracy: 0.9421 - val_loss: 0.1700 - val_accuracy: 0.9510\n",
      "Epoch 34/1000\n",
      "694/694 [==============================] - 1s 2ms/step - loss: 0.1876 - accuracy: 0.9416 - val_loss: 0.1556 - val_accuracy: 0.9566\n",
      "Epoch 35/1000\n",
      "694/694 [==============================] - 1s 2ms/step - loss: 0.1837 - accuracy: 0.9437 - val_loss: 0.1642 - val_accuracy: 0.9540\n",
      "Epoch 36/1000\n",
      "694/694 [==============================] - 1s 2ms/step - loss: 0.1816 - accuracy: 0.9442 - val_loss: 0.1602 - val_accuracy: 0.9533\n",
      "Epoch 37/1000\n",
      "694/694 [==============================] - 1s 2ms/step - loss: 0.1831 - accuracy: 0.9437 - val_loss: 0.1623 - val_accuracy: 0.9558\n",
      "Epoch 38/1000\n",
      "694/694 [==============================] - 1s 2ms/step - loss: 0.1821 - accuracy: 0.9442 - val_loss: 0.2055 - val_accuracy: 0.9321\n",
      "Epoch 39/1000\n",
      "694/694 [==============================] - 1s 2ms/step - loss: 0.1783 - accuracy: 0.9453 - val_loss: 0.1680 - val_accuracy: 0.9518\n",
      "Epoch 40/1000\n",
      "694/694 [==============================] - 1s 2ms/step - loss: 0.1782 - accuracy: 0.9446 - val_loss: 0.1709 - val_accuracy: 0.9525\n",
      "Epoch 41/1000\n",
      "694/694 [==============================] - 1s 2ms/step - loss: 0.1751 - accuracy: 0.9465 - val_loss: 0.2034 - val_accuracy: 0.9333\n",
      "Epoch 42/1000\n",
      "694/694 [==============================] - 1s 2ms/step - loss: 0.1757 - accuracy: 0.9462 - val_loss: 0.1581 - val_accuracy: 0.9547\n",
      "Epoch 43/1000\n",
      "694/694 [==============================] - 1s 2ms/step - loss: 0.1717 - accuracy: 0.9473 - val_loss: 0.1744 - val_accuracy: 0.9480\n",
      "Epoch 44/1000\n",
      "694/694 [==============================] - 1s 2ms/step - loss: 0.1694 - accuracy: 0.9474 - val_loss: 0.1646 - val_accuracy: 0.9523\n",
      "Epoch 45/1000\n",
      "694/694 [==============================] - 1s 2ms/step - loss: 0.1667 - accuracy: 0.9479 - val_loss: 0.1761 - val_accuracy: 0.9461\n",
      "Epoch 46/1000\n",
      "694/694 [==============================] - 1s 2ms/step - loss: 0.1694 - accuracy: 0.9475 - val_loss: 0.1704 - val_accuracy: 0.9458\n",
      "Epoch 47/1000\n",
      "694/694 [==============================] - 1s 2ms/step - loss: 0.1657 - accuracy: 0.9489 - val_loss: 0.1800 - val_accuracy: 0.9430\n",
      "Epoch 48/1000\n",
      "694/694 [==============================] - 2s 2ms/step - loss: 0.1653 - accuracy: 0.9492 - val_loss: 0.1946 - val_accuracy: 0.9355\n",
      "Epoch 49/1000\n",
      "694/694 [==============================] - 2s 3ms/step - loss: 0.1634 - accuracy: 0.9498 - val_loss: 0.1437 - val_accuracy: 0.9584\n",
      "Epoch 50/1000\n",
      "694/694 [==============================] - 2s 2ms/step - loss: 0.1613 - accuracy: 0.9506 - val_loss: 0.1589 - val_accuracy: 0.9569\n",
      "Epoch 51/1000\n",
      "694/694 [==============================] - 1s 2ms/step - loss: 0.1620 - accuracy: 0.9505 - val_loss: 0.2156 - val_accuracy: 0.9259\n",
      "Epoch 52/1000\n",
      "694/694 [==============================] - 1s 2ms/step - loss: 0.1590 - accuracy: 0.9508 - val_loss: 0.1723 - val_accuracy: 0.9481\n",
      "Epoch 53/1000\n",
      "694/694 [==============================] - 1s 2ms/step - loss: 0.1582 - accuracy: 0.9518 - val_loss: 0.1922 - val_accuracy: 0.9413\n",
      "Epoch 54/1000\n",
      "694/694 [==============================] - 1s 2ms/step - loss: 0.1583 - accuracy: 0.9518 - val_loss: 0.1878 - val_accuracy: 0.9444\n",
      "Epoch 55/1000\n",
      "694/694 [==============================] - 2s 2ms/step - loss: 0.1572 - accuracy: 0.9515 - val_loss: 0.1974 - val_accuracy: 0.9382\n",
      "Epoch 56/1000\n",
      "694/694 [==============================] - 1s 2ms/step - loss: 0.1544 - accuracy: 0.9524 - val_loss: 0.1899 - val_accuracy: 0.9404\n",
      "Epoch 57/1000\n",
      "694/694 [==============================] - 1s 2ms/step - loss: 0.1565 - accuracy: 0.9516 - val_loss: 0.2144 - val_accuracy: 0.9267\n",
      "Epoch 58/1000\n",
      "694/694 [==============================] - 2s 2ms/step - loss: 0.1540 - accuracy: 0.9526 - val_loss: 0.1603 - val_accuracy: 0.9513\n",
      "Epoch 59/1000\n",
      "694/694 [==============================] - 1s 2ms/step - loss: 0.1528 - accuracy: 0.9526 - val_loss: 0.1777 - val_accuracy: 0.9448\n",
      "Epoch 60/1000\n",
      "694/694 [==============================] - 1s 2ms/step - loss: 0.1521 - accuracy: 0.9530 - val_loss: 0.1804 - val_accuracy: 0.9402\n",
      "Epoch 61/1000\n",
      "694/694 [==============================] - 1s 2ms/step - loss: 0.1483 - accuracy: 0.9543 - val_loss: 0.1821 - val_accuracy: 0.9442\n",
      "Epoch 62/1000\n",
      "694/694 [==============================] - 1s 2ms/step - loss: 0.1515 - accuracy: 0.9530 - val_loss: 0.1716 - val_accuracy: 0.9457\n",
      "Epoch 63/1000\n",
      "694/694 [==============================] - 2s 2ms/step - loss: 0.1497 - accuracy: 0.9535 - val_loss: 0.1510 - val_accuracy: 0.9576\n",
      "Epoch 64/1000\n",
      "694/694 [==============================] - 1s 2ms/step - loss: 0.1498 - accuracy: 0.9537 - val_loss: 0.2013 - val_accuracy: 0.9303\n",
      "Epoch 65/1000\n",
      "694/694 [==============================] - 1s 2ms/step - loss: 0.1473 - accuracy: 0.9538 - val_loss: 0.1619 - val_accuracy: 0.9507\n",
      "Epoch 66/1000\n",
      "694/694 [==============================] - 1s 2ms/step - loss: 0.1461 - accuracy: 0.9553 - val_loss: 0.1620 - val_accuracy: 0.9487\n",
      "Epoch 67/1000\n",
      "694/694 [==============================] - 1s 2ms/step - loss: 0.1484 - accuracy: 0.9533 - val_loss: 0.2127 - val_accuracy: 0.9273\n",
      "Epoch 68/1000\n",
      "694/694 [==============================] - 2s 2ms/step - loss: 0.1493 - accuracy: 0.9534 - val_loss: 0.1955 - val_accuracy: 0.9380\n",
      "Epoch 69/1000\n",
      "694/694 [==============================] - 2s 2ms/step - loss: 0.1461 - accuracy: 0.9552 - val_loss: 0.1854 - val_accuracy: 0.9429\n",
      "Epoch 70/1000\n",
      "694/694 [==============================] - 2s 2ms/step - loss: 0.1436 - accuracy: 0.9554 - val_loss: 0.1458 - val_accuracy: 0.9566\n",
      "Epoch 71/1000\n",
      "694/694 [==============================] - 1s 2ms/step - loss: 0.1453 - accuracy: 0.9548 - val_loss: 0.1580 - val_accuracy: 0.9523\n",
      "Epoch 72/1000\n",
      "694/694 [==============================] - 1s 2ms/step - loss: 0.1418 - accuracy: 0.9555 - val_loss: 0.1562 - val_accuracy: 0.9540\n",
      "Epoch 73/1000\n",
      "694/694 [==============================] - 1s 2ms/step - loss: 0.1410 - accuracy: 0.9561 - val_loss: 0.1896 - val_accuracy: 0.9384\n",
      "Epoch 74/1000\n",
      "694/694 [==============================] - 1s 2ms/step - loss: 0.1437 - accuracy: 0.9559 - val_loss: 0.1860 - val_accuracy: 0.9422\n",
      "Epoch 75/1000\n",
      "694/694 [==============================] - 1s 2ms/step - loss: 0.1401 - accuracy: 0.9558 - val_loss: 0.1833 - val_accuracy: 0.9430\n",
      "Epoch 76/1000\n",
      "694/694 [==============================] - 1s 2ms/step - loss: 0.1407 - accuracy: 0.9554 - val_loss: 0.1980 - val_accuracy: 0.9335\n",
      "Epoch 77/1000\n",
      "694/694 [==============================] - 1s 2ms/step - loss: 0.1415 - accuracy: 0.9567 - val_loss: 0.1379 - val_accuracy: 0.9610\n",
      "Epoch 78/1000\n",
      "694/694 [==============================] - 2s 3ms/step - loss: 0.1418 - accuracy: 0.9558 - val_loss: 0.1978 - val_accuracy: 0.9370\n",
      "Epoch 79/1000\n",
      "694/694 [==============================] - 2s 3ms/step - loss: 0.1363 - accuracy: 0.9574 - val_loss: 0.1499 - val_accuracy: 0.9544\n",
      "Epoch 80/1000\n",
      "694/694 [==============================] - 2s 2ms/step - loss: 0.1387 - accuracy: 0.9571 - val_loss: 0.1944 - val_accuracy: 0.9363\n",
      "Epoch 81/1000\n",
      "694/694 [==============================] - 2s 2ms/step - loss: 0.1385 - accuracy: 0.9571 - val_loss: 0.1672 - val_accuracy: 0.9474\n",
      "Epoch 82/1000\n",
      "694/694 [==============================] - 2s 2ms/step - loss: 0.1377 - accuracy: 0.9566 - val_loss: 0.1442 - val_accuracy: 0.9575\n",
      "Epoch 83/1000\n",
      "694/694 [==============================] - 2s 2ms/step - loss: 0.1352 - accuracy: 0.9569 - val_loss: 0.1622 - val_accuracy: 0.9518\n",
      "Epoch 84/1000\n",
      "694/694 [==============================] - 1s 2ms/step - loss: 0.1367 - accuracy: 0.9573 - val_loss: 0.1882 - val_accuracy: 0.9424\n",
      "Epoch 85/1000\n",
      "694/694 [==============================] - 1s 2ms/step - loss: 0.1368 - accuracy: 0.9572 - val_loss: 0.1768 - val_accuracy: 0.9425\n",
      "Epoch 86/1000\n",
      "694/694 [==============================] - 1s 2ms/step - loss: 0.1383 - accuracy: 0.9567 - val_loss: 0.1262 - val_accuracy: 0.9636\n",
      "Epoch 87/1000\n",
      "694/694 [==============================] - 1s 2ms/step - loss: 0.1355 - accuracy: 0.9570 - val_loss: 0.1467 - val_accuracy: 0.9578\n",
      "Epoch 88/1000\n",
      "694/694 [==============================] - 1s 2ms/step - loss: 0.1355 - accuracy: 0.9578 - val_loss: 0.1651 - val_accuracy: 0.9487\n",
      "Epoch 89/1000\n",
      "694/694 [==============================] - 1s 2ms/step - loss: 0.1369 - accuracy: 0.9570 - val_loss: 0.1815 - val_accuracy: 0.9431\n",
      "Epoch 90/1000\n",
      "694/694 [==============================] - 1s 2ms/step - loss: 0.1354 - accuracy: 0.9566 - val_loss: 0.1563 - val_accuracy: 0.9540\n",
      "Epoch 91/1000\n",
      "694/694 [==============================] - 1s 2ms/step - loss: 0.1337 - accuracy: 0.9581 - val_loss: 0.1913 - val_accuracy: 0.9393\n",
      "Epoch 92/1000\n",
      "694/694 [==============================] - 1s 2ms/step - loss: 0.1326 - accuracy: 0.9583 - val_loss: 0.1565 - val_accuracy: 0.9501\n",
      "Epoch 93/1000\n",
      "694/694 [==============================] - 1s 2ms/step - loss: 0.1325 - accuracy: 0.9590 - val_loss: 0.1728 - val_accuracy: 0.9464\n",
      "Epoch 94/1000\n",
      "694/694 [==============================] - 1s 2ms/step - loss: 0.1329 - accuracy: 0.9581 - val_loss: 0.1816 - val_accuracy: 0.9395\n",
      "Epoch 95/1000\n",
      "694/694 [==============================] - 1s 2ms/step - loss: 0.1331 - accuracy: 0.9589 - val_loss: 0.1508 - val_accuracy: 0.9557\n",
      "Epoch 96/1000\n",
      "694/694 [==============================] - 1s 2ms/step - loss: 0.1334 - accuracy: 0.9582 - val_loss: 0.1978 - val_accuracy: 0.9369\n",
      "Epoch 97/1000\n",
      "694/694 [==============================] - 1s 2ms/step - loss: 0.1319 - accuracy: 0.9583 - val_loss: 0.1954 - val_accuracy: 0.9378\n",
      "Epoch 98/1000\n",
      "694/694 [==============================] - 2s 2ms/step - loss: 0.1302 - accuracy: 0.9592 - val_loss: 0.1518 - val_accuracy: 0.9544\n",
      "Epoch 99/1000\n",
      "694/694 [==============================] - 1s 2ms/step - loss: 0.1308 - accuracy: 0.9590 - val_loss: 0.1837 - val_accuracy: 0.9399\n",
      "Epoch 100/1000\n",
      "694/694 [==============================] - 2s 2ms/step - loss: 0.1341 - accuracy: 0.9578 - val_loss: 0.2141 - val_accuracy: 0.9303\n",
      "Epoch 101/1000\n",
      "694/694 [==============================] - 1s 2ms/step - loss: 0.1306 - accuracy: 0.9592 - val_loss: 0.1943 - val_accuracy: 0.9377\n",
      "Epoch 102/1000\n",
      "694/694 [==============================] - 1s 2ms/step - loss: 0.1311 - accuracy: 0.9593 - val_loss: 0.2014 - val_accuracy: 0.9326\n",
      "Epoch 103/1000\n",
      "694/694 [==============================] - 2s 2ms/step - loss: 0.1314 - accuracy: 0.9585 - val_loss: 0.1617 - val_accuracy: 0.9487\n",
      "Epoch 104/1000\n",
      "694/694 [==============================] - 2s 2ms/step - loss: 0.1310 - accuracy: 0.9595 - val_loss: 0.1628 - val_accuracy: 0.9500\n",
      "Epoch 105/1000\n",
      "694/694 [==============================] - 1s 2ms/step - loss: 0.1267 - accuracy: 0.9601 - val_loss: 0.1609 - val_accuracy: 0.9482\n",
      "Epoch 106/1000\n",
      "694/694 [==============================] - 1s 2ms/step - loss: 0.1287 - accuracy: 0.9598 - val_loss: 0.1807 - val_accuracy: 0.9446\n",
      "Epoch 107/1000\n",
      "694/694 [==============================] - 2s 2ms/step - loss: 0.1273 - accuracy: 0.9595 - val_loss: 0.1709 - val_accuracy: 0.9457\n",
      "Epoch 108/1000\n",
      "694/694 [==============================] - 1s 2ms/step - loss: 0.1265 - accuracy: 0.9600 - val_loss: 0.1646 - val_accuracy: 0.9489\n",
      "Epoch 109/1000\n",
      "694/694 [==============================] - 2s 2ms/step - loss: 0.1292 - accuracy: 0.9597 - val_loss: 0.1711 - val_accuracy: 0.9475\n",
      "Epoch 110/1000\n",
      "694/694 [==============================] - 1s 2ms/step - loss: 0.1267 - accuracy: 0.9605 - val_loss: 0.1821 - val_accuracy: 0.9420\n",
      "Epoch 111/1000\n",
      "694/694 [==============================] - 1s 2ms/step - loss: 0.1256 - accuracy: 0.9600 - val_loss: 0.1932 - val_accuracy: 0.9368\n",
      "Epoch 112/1000\n",
      "694/694 [==============================] - 1s 2ms/step - loss: 0.1267 - accuracy: 0.9597 - val_loss: 0.1541 - val_accuracy: 0.9555\n",
      "Epoch 113/1000\n",
      "694/694 [==============================] - 1s 2ms/step - loss: 0.1281 - accuracy: 0.9597 - val_loss: 0.1478 - val_accuracy: 0.9557\n",
      "Epoch 114/1000\n",
      "694/694 [==============================] - 1s 2ms/step - loss: 0.1259 - accuracy: 0.9596 - val_loss: 0.1700 - val_accuracy: 0.9474\n",
      "Epoch 115/1000\n",
      "694/694 [==============================] - 1s 2ms/step - loss: 0.1271 - accuracy: 0.9610 - val_loss: 0.1848 - val_accuracy: 0.9381\n",
      "Epoch 116/1000\n",
      "694/694 [==============================] - 1s 2ms/step - loss: 0.1242 - accuracy: 0.9610 - val_loss: 0.1899 - val_accuracy: 0.9370\n",
      "Epoch 117/1000\n",
      "694/694 [==============================] - 1s 2ms/step - loss: 0.1264 - accuracy: 0.9605 - val_loss: 0.1852 - val_accuracy: 0.9410\n",
      "Epoch 118/1000\n",
      "694/694 [==============================] - 2s 2ms/step - loss: 0.1258 - accuracy: 0.9607 - val_loss: 0.1741 - val_accuracy: 0.9462\n",
      "Epoch 119/1000\n",
      "694/694 [==============================] - 1s 2ms/step - loss: 0.1251 - accuracy: 0.9613 - val_loss: 0.1800 - val_accuracy: 0.9410\n",
      "Epoch 120/1000\n",
      "694/694 [==============================] - 1s 2ms/step - loss: 0.1231 - accuracy: 0.9619 - val_loss: 0.1398 - val_accuracy: 0.9593\n",
      "Epoch 121/1000\n",
      "694/694 [==============================] - 1s 2ms/step - loss: 0.1229 - accuracy: 0.9611 - val_loss: 0.2059 - val_accuracy: 0.9344\n",
      "Epoch 122/1000\n",
      "694/694 [==============================] - 2s 2ms/step - loss: 0.1263 - accuracy: 0.9613 - val_loss: 0.1498 - val_accuracy: 0.9576\n",
      "Epoch 123/1000\n",
      "694/694 [==============================] - 2s 2ms/step - loss: 0.1221 - accuracy: 0.9610 - val_loss: 0.1708 - val_accuracy: 0.9493\n",
      "Epoch 124/1000\n",
      "694/694 [==============================] - 2s 3ms/step - loss: 0.1253 - accuracy: 0.9609 - val_loss: 0.1882 - val_accuracy: 0.9390\n",
      "Epoch 125/1000\n",
      "694/694 [==============================] - 1s 2ms/step - loss: 0.1242 - accuracy: 0.9599 - val_loss: 0.1549 - val_accuracy: 0.9522\n",
      "Epoch 126/1000\n",
      "694/694 [==============================] - 1s 2ms/step - loss: 0.1243 - accuracy: 0.9605 - val_loss: 0.2036 - val_accuracy: 0.9306\n",
      "Epoch 127/1000\n",
      "694/694 [==============================] - 1s 2ms/step - loss: 0.1219 - accuracy: 0.9621 - val_loss: 0.1907 - val_accuracy: 0.9383\n",
      "Epoch 128/1000\n",
      "694/694 [==============================] - 1s 2ms/step - loss: 0.1240 - accuracy: 0.9613 - val_loss: 0.1753 - val_accuracy: 0.9449\n",
      "Epoch 129/1000\n",
      "694/694 [==============================] - 1s 2ms/step - loss: 0.1226 - accuracy: 0.9614 - val_loss: 0.1626 - val_accuracy: 0.9530\n",
      "Epoch 130/1000\n",
      "694/694 [==============================] - 1s 2ms/step - loss: 0.1226 - accuracy: 0.9603 - val_loss: 0.1583 - val_accuracy: 0.9517\n",
      "Epoch 131/1000\n",
      "694/694 [==============================] - 1s 2ms/step - loss: 0.1229 - accuracy: 0.9619 - val_loss: 0.1889 - val_accuracy: 0.9410\n",
      "Epoch 132/1000\n",
      "694/694 [==============================] - 1s 2ms/step - loss: 0.1211 - accuracy: 0.9613 - val_loss: 0.1840 - val_accuracy: 0.9449\n",
      "Epoch 133/1000\n",
      "694/694 [==============================] - 2s 2ms/step - loss: 0.1199 - accuracy: 0.9614 - val_loss: 0.1727 - val_accuracy: 0.9434\n",
      "Epoch 134/1000\n",
      "694/694 [==============================] - 1s 2ms/step - loss: 0.1217 - accuracy: 0.9613 - val_loss: 0.2113 - val_accuracy: 0.9313\n",
      "Epoch 135/1000\n",
      "694/694 [==============================] - 1s 2ms/step - loss: 0.1204 - accuracy: 0.9622 - val_loss: 0.1751 - val_accuracy: 0.9471\n",
      "Epoch 136/1000\n",
      "694/694 [==============================] - 1s 2ms/step - loss: 0.1197 - accuracy: 0.9623 - val_loss: 0.1379 - val_accuracy: 0.9588\n",
      "Epoch 137/1000\n",
      "694/694 [==============================] - 1s 2ms/step - loss: 0.1216 - accuracy: 0.9620 - val_loss: 0.1882 - val_accuracy: 0.9403\n",
      "Epoch 138/1000\n",
      "694/694 [==============================] - 1s 2ms/step - loss: 0.1192 - accuracy: 0.9627 - val_loss: 0.1531 - val_accuracy: 0.9550\n",
      "Epoch 139/1000\n",
      "694/694 [==============================] - 1s 2ms/step - loss: 0.1209 - accuracy: 0.9617 - val_loss: 0.2037 - val_accuracy: 0.9326\n",
      "Epoch 140/1000\n",
      "694/694 [==============================] - 2s 2ms/step - loss: 0.1174 - accuracy: 0.9626 - val_loss: 0.1984 - val_accuracy: 0.9363\n",
      "Epoch 141/1000\n",
      "694/694 [==============================] - 1s 2ms/step - loss: 0.1173 - accuracy: 0.9626 - val_loss: 0.1700 - val_accuracy: 0.9474\n",
      "Epoch 142/1000\n",
      "694/694 [==============================] - 1s 2ms/step - loss: 0.1178 - accuracy: 0.9624 - val_loss: 0.1900 - val_accuracy: 0.9403\n",
      "Epoch 143/1000\n",
      "694/694 [==============================] - 2s 2ms/step - loss: 0.1182 - accuracy: 0.9629 - val_loss: 0.1994 - val_accuracy: 0.9347\n",
      "Epoch 144/1000\n",
      "694/694 [==============================] - 2s 2ms/step - loss: 0.1193 - accuracy: 0.9624 - val_loss: 0.1947 - val_accuracy: 0.9403\n",
      "Epoch 145/1000\n",
      "694/694 [==============================] - 2s 2ms/step - loss: 0.1173 - accuracy: 0.9630 - val_loss: 0.1640 - val_accuracy: 0.9501\n",
      "Epoch 146/1000\n",
      "694/694 [==============================] - 1s 2ms/step - loss: 0.1183 - accuracy: 0.9627 - val_loss: 0.1671 - val_accuracy: 0.9485\n",
      "Epoch 147/1000\n",
      "694/694 [==============================] - 1s 2ms/step - loss: 0.1160 - accuracy: 0.9629 - val_loss: 0.1792 - val_accuracy: 0.9450\n",
      "Epoch 148/1000\n",
      "694/694 [==============================] - 1s 2ms/step - loss: 0.1155 - accuracy: 0.9635 - val_loss: 0.1814 - val_accuracy: 0.9428\n",
      "Epoch 149/1000\n",
      "694/694 [==============================] - 2s 2ms/step - loss: 0.1156 - accuracy: 0.9632 - val_loss: 0.1586 - val_accuracy: 0.9496\n",
      "Epoch 150/1000\n",
      "694/694 [==============================] - 1s 2ms/step - loss: 0.1184 - accuracy: 0.9624 - val_loss: 0.1747 - val_accuracy: 0.9422\n",
      "Epoch 151/1000\n",
      "694/694 [==============================] - 1s 2ms/step - loss: 0.1181 - accuracy: 0.9632 - val_loss: 0.1709 - val_accuracy: 0.9468\n",
      "Epoch 152/1000\n",
      "694/694 [==============================] - 1s 2ms/step - loss: 0.1129 - accuracy: 0.9640 - val_loss: 0.2294 - val_accuracy: 0.9249\n",
      "Epoch 153/1000\n",
      "694/694 [==============================] - 1s 2ms/step - loss: 0.1150 - accuracy: 0.9636 - val_loss: 0.1410 - val_accuracy: 0.9587\n",
      "Epoch 154/1000\n",
      "694/694 [==============================] - 1s 2ms/step - loss: 0.1175 - accuracy: 0.9627 - val_loss: 0.1830 - val_accuracy: 0.9458\n",
      "Epoch 155/1000\n",
      "694/694 [==============================] - 1s 2ms/step - loss: 0.1147 - accuracy: 0.9637 - val_loss: 0.1852 - val_accuracy: 0.9402\n",
      "Epoch 156/1000\n",
      "694/694 [==============================] - 1s 2ms/step - loss: 0.1159 - accuracy: 0.9630 - val_loss: 0.2142 - val_accuracy: 0.9331\n",
      "Epoch 157/1000\n",
      "694/694 [==============================] - 1s 2ms/step - loss: 0.1160 - accuracy: 0.9633 - val_loss: 0.2110 - val_accuracy: 0.9335\n",
      "Epoch 158/1000\n",
      "694/694 [==============================] - 2s 3ms/step - loss: 0.1125 - accuracy: 0.9640 - val_loss: 0.1584 - val_accuracy: 0.9513\n",
      "Epoch 159/1000\n",
      "694/694 [==============================] - 2s 3ms/step - loss: 0.1143 - accuracy: 0.9636 - val_loss: 0.2088 - val_accuracy: 0.9312\n",
      "Epoch 160/1000\n",
      "694/694 [==============================] - 2s 2ms/step - loss: 0.1129 - accuracy: 0.9634 - val_loss: 0.1760 - val_accuracy: 0.9452\n",
      "Epoch 161/1000\n",
      "694/694 [==============================] - 2s 2ms/step - loss: 0.1142 - accuracy: 0.9639 - val_loss: 0.1827 - val_accuracy: 0.9399\n",
      "Epoch 162/1000\n",
      "694/694 [==============================] - 1s 2ms/step - loss: 0.1125 - accuracy: 0.9636 - val_loss: 0.2212 - val_accuracy: 0.9275\n",
      "Epoch 163/1000\n",
      "694/694 [==============================] - 2s 2ms/step - loss: 0.1140 - accuracy: 0.9636 - val_loss: 0.2264 - val_accuracy: 0.9255\n",
      "Epoch 164/1000\n",
      "694/694 [==============================] - 2s 2ms/step - loss: 0.1146 - accuracy: 0.9639 - val_loss: 0.1659 - val_accuracy: 0.9467\n",
      "Epoch 165/1000\n",
      "694/694 [==============================] - 1s 2ms/step - loss: 0.1125 - accuracy: 0.9643 - val_loss: 0.2086 - val_accuracy: 0.9327\n",
      "Epoch 166/1000\n",
      "694/694 [==============================] - 1s 2ms/step - loss: 0.1153 - accuracy: 0.9640 - val_loss: 0.1495 - val_accuracy: 0.9549\n",
      "Epoch 167/1000\n",
      "694/694 [==============================] - 2s 3ms/step - loss: 0.1137 - accuracy: 0.9638 - val_loss: 0.2030 - val_accuracy: 0.9343\n",
      "Epoch 168/1000\n",
      "694/694 [==============================] - 2s 2ms/step - loss: 0.1107 - accuracy: 0.9652 - val_loss: 0.2168 - val_accuracy: 0.9269\n",
      "Epoch 169/1000\n",
      "694/694 [==============================] - 2s 2ms/step - loss: 0.1138 - accuracy: 0.9638 - val_loss: 0.2150 - val_accuracy: 0.9314\n",
      "Epoch 170/1000\n",
      "694/694 [==============================] - 1s 2ms/step - loss: 0.1115 - accuracy: 0.9639 - val_loss: 0.2080 - val_accuracy: 0.9337\n",
      "Epoch 171/1000\n",
      "694/694 [==============================] - 1s 2ms/step - loss: 0.1150 - accuracy: 0.9635 - val_loss: 0.1711 - val_accuracy: 0.9459\n",
      "Epoch 172/1000\n",
      "694/694 [==============================] - 1s 2ms/step - loss: 0.1136 - accuracy: 0.9648 - val_loss: 0.2055 - val_accuracy: 0.9344\n",
      "Epoch 173/1000\n",
      "694/694 [==============================] - 2s 2ms/step - loss: 0.1112 - accuracy: 0.9646 - val_loss: 0.2025 - val_accuracy: 0.9339\n",
      "Epoch 174/1000\n",
      "694/694 [==============================] - 1s 2ms/step - loss: 0.1141 - accuracy: 0.9629 - val_loss: 0.1948 - val_accuracy: 0.9375\n",
      "Epoch 175/1000\n",
      "694/694 [==============================] - 2s 2ms/step - loss: 0.1105 - accuracy: 0.9648 - val_loss: 0.2060 - val_accuracy: 0.9312\n",
      "Epoch 176/1000\n",
      "694/694 [==============================] - 2s 2ms/step - loss: 0.1125 - accuracy: 0.9654 - val_loss: 0.1859 - val_accuracy: 0.9417\n",
      "Epoch 177/1000\n",
      "694/694 [==============================] - 2s 3ms/step - loss: 0.1087 - accuracy: 0.9650 - val_loss: 0.1757 - val_accuracy: 0.9429\n",
      "Epoch 178/1000\n",
      "694/694 [==============================] - 2s 2ms/step - loss: 0.1116 - accuracy: 0.9648 - val_loss: 0.1696 - val_accuracy: 0.9455\n",
      "Epoch 179/1000\n",
      "694/694 [==============================] - 2s 2ms/step - loss: 0.1102 - accuracy: 0.9651 - val_loss: 0.1914 - val_accuracy: 0.9397\n",
      "Epoch 180/1000\n",
      "694/694 [==============================] - 2s 2ms/step - loss: 0.1107 - accuracy: 0.9644 - val_loss: 0.1809 - val_accuracy: 0.9423\n",
      "Epoch 181/1000\n",
      "694/694 [==============================] - 2s 2ms/step - loss: 0.1105 - accuracy: 0.9649 - val_loss: 0.1983 - val_accuracy: 0.9354\n",
      "Epoch 182/1000\n",
      "694/694 [==============================] - 2s 2ms/step - loss: 0.1118 - accuracy: 0.9649 - val_loss: 0.1671 - val_accuracy: 0.9465\n",
      "Epoch 183/1000\n",
      "694/694 [==============================] - 2s 2ms/step - loss: 0.1102 - accuracy: 0.9649 - val_loss: 0.1749 - val_accuracy: 0.9464\n",
      "Epoch 184/1000\n",
      "694/694 [==============================] - 2s 2ms/step - loss: 0.1091 - accuracy: 0.9649 - val_loss: 0.1987 - val_accuracy: 0.9350\n",
      "Epoch 185/1000\n",
      "694/694 [==============================] - 2s 2ms/step - loss: 0.1086 - accuracy: 0.9657 - val_loss: 0.2337 - val_accuracy: 0.9215\n",
      "Epoch 186/1000\n",
      "694/694 [==============================] - 2s 2ms/step - loss: 0.1061 - accuracy: 0.9665 - val_loss: 0.2053 - val_accuracy: 0.9321\n",
      "Epoch 186: early stopping\n"
     ]
    },
    {
     "data": {
      "text/plain": "<keras.callbacks.History at 0x1f13f166260>"
     },
     "execution_count": 38,
     "metadata": {},
     "output_type": "execute_result"
    }
   ],
   "source": [
    "model.fit(\n",
    "    X_train,\n",
    "    y_train_encoded,\n",
    "    epochs=1000,\n",
    "    batch_size=128,\n",
    "    validation_data=(X_test, y_test_encoded),\n",
    "    callbacks=[es_callback]    # callbacks=[cp_callback, es_callback]\n",
    ")"
   ]
  },
  {
   "cell_type": "code",
   "execution_count": 39,
   "metadata": {
    "ExecuteTime": {
     "end_time": "2024-04-21T19:49:55.142601Z",
     "start_time": "2024-04-21T19:49:54.833987Z"
    }
   },
   "outputs": [
    {
     "name": "stdout",
     "output_type": "stream",
     "text": [
      "174/174 [==============================] - 0s 1ms/step - loss: 0.2053 - accuracy: 0.9321\n"
     ]
    }
   ],
   "source": [
    "val_loss, val_acc = model.evaluate(X_test, y_test_encoded, batch_size=128)"
   ]
  },
  {
   "cell_type": "code",
   "execution_count": 40,
   "metadata": {
    "ExecuteTime": {
     "end_time": "2024-04-21T19:49:55.173551Z",
     "start_time": "2024-04-21T19:49:55.152882Z"
    }
   },
   "outputs": [],
   "source": [
    "# model = tf.keras.models.load_model(model_save_path)"
   ]
  },
  {
   "cell_type": "code",
   "execution_count": 41,
   "metadata": {
    "ExecuteTime": {
     "end_time": "2024-04-21T19:49:55.327791Z",
     "start_time": "2024-04-21T19:49:55.175549Z"
    }
   },
   "outputs": [
    {
     "name": "stdout",
     "output_type": "stream",
     "text": [
      "1/1 [==============================] - 0s 47ms/step\n",
      "[2.5125985e-10 1.4016800e-12 5.4088673e-07 1.0855687e-08 3.3262768e-11\n",
      " 1.6400256e-07 1.1878029e-06 1.0273277e-04 4.2205744e-10 1.5048307e-06\n",
      " 1.2124884e-12 3.1438230e-08 1.1122454e-06 3.0567112e-06 5.9627960e-09\n",
      " 9.9695730e-01 2.8968391e-03 2.8809499e-10 5.2292393e-10 3.8272216e-07\n",
      " 2.4423192e-09 7.6930937e-13 3.3123559e-14 5.4094056e-12 1.2934932e-10\n",
      " 2.4802125e-07 3.3027500e-05 1.8329871e-06]\n",
      "15\n"
     ]
    }
   ],
   "source": [
    "predict_result = model.predict(np.array([X_test[0]]))\n",
    "print(np.squeeze(predict_result))\n",
    "print(np.argmax(np.squeeze(predict_result)))"
   ]
  },
  {
   "cell_type": "markdown",
   "metadata": {},
   "source": []
  },
  {
   "cell_type": "code",
   "execution_count": 42,
   "metadata": {
    "ExecuteTime": {
     "end_time": "2024-04-21T19:50:00.182716Z",
     "start_time": "2024-04-21T19:49:55.328767Z"
    }
   },
   "outputs": [
    {
     "name": "stdout",
     "output_type": "stream",
     "text": [
      "694/694 [==============================] - 1s 765us/step\n"
     ]
    },
    {
     "data": {
      "text/plain": "<Figure size 700x600 with 2 Axes>",
      "image/png": "[encoded data removed]"
     },
     "metadata": {},
     "output_type": "display_data"
    },
    {
     "name": "stdout",
     "output_type": "stream",
     "text": [
      "Classification Report\n",
      "              precision    recall  f1-score   support\n",
      "\n",
      "           A       0.99      0.93      0.96       813\n",
      "           B       1.00      0.98      0.99       895\n",
      "           C       0.99      0.98      0.98       577\n",
      "           D       0.75      0.99      0.85       829\n",
      "           E       0.99      0.96      0.97       873\n",
      "           F       0.98      1.00      0.99      1047\n",
      "           G       1.00      1.00      1.00       993\n",
      "           H       0.99      1.00      1.00       859\n",
      "           I       0.98      0.99      0.98       835\n",
      "           J       0.99      0.98      0.99       933\n",
      "           K       0.99      0.80      0.89      1015\n",
      "           L       0.86      1.00      0.93       910\n",
      "           M       0.93      0.77      0.84       334\n",
      "           N       0.80      0.94      0.87       314\n",
      "           O       0.98      0.58      0.73       663\n",
      "           P       0.99      0.98      0.99       766\n",
      "           Q       0.96      0.99      0.98       718\n",
      "           R       0.99      0.89      0.94       910\n",
      "           S       0.98      0.64      0.78       945\n",
      "           T       0.94      0.85      0.89       906\n",
      "           U       0.81      0.98      0.89       927\n",
      "           V       0.81      0.99      0.89       930\n",
      "           W       0.99      0.98      0.99       910\n",
      "           X       0.67      0.84      0.74       814\n",
      "           Y       1.00      1.00      1.00       975\n",
      "           Z       0.99      1.00      0.99       843\n",
      "        _del       0.98      0.99      0.99       405\n",
      "      _space       0.97      0.98      0.97       257\n",
      "\n",
      "    accuracy                           0.93     22196\n",
      "   macro avg       0.94      0.93      0.93     22196\n",
      "weighted avg       0.94      0.93      0.93     22196\n",
      "\n"
     ]
    }
   ],
   "source": [
    "import pandas as pd\n",
    "import seaborn as sns\n",
    "import matplotlib.pyplot as plt\n",
    "from sklearn.metrics import confusion_matrix, classification_report\n",
    "\n",
    "def print_confusion_matrix(y_true, y_pred, report=True):\n",
    "    labels = sorted(list(set(y_true)))\n",
    "    cmx_data = confusion_matrix(y_true, y_pred, labels=labels)\n",
    "    \n",
    "    df_cmx = pd.DataFrame(cmx_data, index=labels, columns=labels)\n",
    " \n",
    "    fig, ax = plt.subplots(figsize=(7, 6))\n",
    "    sns.heatmap(df_cmx, annot=True, fmt='g' ,square=False)\n",
    "    ax.set_ylim(len(set(y_true)), 0)\n",
    "    plt.show()\n",
    "    \n",
    "    if report:\n",
    "        print('Classification Report')\n",
    "        print(classification_report(y_test, y_pred))\n",
    "\n",
    "Y_pred = model.predict(X_test)\n",
    "y_pred = np.argmax(Y_pred, axis=1)\n",
    "\n",
    "label_encoder.fit(y_train)\n",
    "y_test_decoded = label_encoder.inverse_transform(y_test_encoded)\n",
    "y_pred_decoded = label_encoder.inverse_transform(y_pred)\n",
    "\n",
    "print_confusion_matrix(y_test_decoded, y_pred_decoded)"
   ]
  },
  {
   "cell_type": "markdown",
   "metadata": {},
   "source": [
    "# Tensorflow-Lite"
   ]
  },
  {
   "cell_type": "code",
   "execution_count": 43,
   "metadata": {
    "ExecuteTime": {
     "end_time": "2024-04-21T19:50:00.616908Z",
     "start_time": "2024-04-21T19:50:00.184721Z"
    }
   },
   "outputs": [],
   "source": [
    "model.save(model_save_path, include_optimizer=False)"
   ]
  },
  {
   "cell_type": "code",
   "execution_count": 44,
   "metadata": {
    "ExecuteTime": {
     "end_time": "2024-04-21T19:51:41.027320Z",
     "start_time": "2024-04-21T19:51:39.143461Z"
    }
   },
   "outputs": [
    {
     "name": "stderr",
     "output_type": "stream",
     "text": [
      "WARNING:absl:Found untraced functions such as _update_step_xla while saving (showing 1 of 1). These functions will not be directly callable after loading.\n"
     ]
    },
    {
     "name": "stdout",
     "output_type": "stream",
     "text": [
      "INFO:tensorflow:Assets written to: C:\\Users\\ivono\\AppData\\Local\\Temp\\tmpomwk7pio\\assets\n"
     ]
    },
    {
     "name": "stderr",
     "output_type": "stream",
     "text": [
      "INFO:tensorflow:Assets written to: C:\\Users\\ivono\\AppData\\Local\\Temp\\tmpomwk7pio\\assets\n"
     ]
    },
    {
     "data": {
      "text/plain": "13448"
     },
     "execution_count": 44,
     "metadata": {},
     "output_type": "execute_result"
    }
   ],
   "source": [
    "converter = tf.lite.TFLiteConverter.from_keras_model(model)\n",
    "converter.optimizations = [tf.lite.Optimize.DEFAULT]\n",
    "tflite_quantized_model = converter.convert()\n",
    "\n",
    "open(tflite_save_path, 'wb').write(tflite_quantized_model)"
   ]
  },
  {
   "cell_type": "code",
   "execution_count": 45,
   "metadata": {
    "ExecuteTime": {
     "end_time": "2024-04-21T19:50:05.081668Z",
     "start_time": "2024-04-21T19:50:04.981842Z"
    }
   },
   "outputs": [],
   "source": [
    "interpreter = tf.lite.Interpreter(model_path=tflite_save_path)\n",
    "interpreter.allocate_tensors()"
   ]
  },
  {
   "cell_type": "code",
   "execution_count": 46,
   "metadata": {
    "ExecuteTime": {
     "end_time": "2024-04-21T19:50:05.097164Z",
     "start_time": "2024-04-21T19:50:05.083667Z"
    }
   },
   "outputs": [],
   "source": [
    "input_details = interpreter.get_input_details()\n",
    "output_details = interpreter.get_output_details()"
   ]
  },
  {
   "cell_type": "code",
   "execution_count": 47,
   "metadata": {
    "ExecuteTime": {
     "end_time": "2024-04-21T19:50:05.112193Z",
     "start_time": "2024-04-21T19:50:05.099165Z"
    }
   },
   "outputs": [],
   "source": [
    "interpreter.set_tensor(input_details[0]['index'], np.array([X_test[0]]))"
   ]
  },
  {
   "cell_type": "code",
   "execution_count": 48,
   "metadata": {
    "scrolled": true,
    "ExecuteTime": {
     "end_time": "2024-04-21T19:50:05.127392Z",
     "start_time": "2024-04-21T19:50:05.115195Z"
    }
   },
   "outputs": [
    {
     "name": "stdout",
     "output_type": "stream",
     "text": [
      "CPU times: total: 0 ns\n",
      "Wall time: 0 ns\n"
     ]
    }
   ],
   "source": [
    "%%time\n",
    "interpreter.invoke()\n",
    "tflite_results = interpreter.get_tensor(output_details[0]['index'])"
   ]
  },
  {
   "cell_type": "code",
   "execution_count": 49,
   "metadata": {
    "ExecuteTime": {
     "end_time": "2024-04-21T19:50:05.142974Z",
     "start_time": "2024-04-21T19:50:05.131412Z"
    }
   },
   "outputs": [
    {
     "name": "stdout",
     "output_type": "stream",
     "text": [
      "[2.02939693e-10 1.13415267e-12 9.59561589e-07 1.83010425e-08\n",
      " 2.73314375e-11 1.34904624e-07 1.12519251e-06 1.05770334e-04\n",
      " 5.26288180e-10 1.26185660e-06 7.73351056e-13 3.74157523e-08\n",
      " 1.79557151e-06 3.88937224e-06 5.94161476e-09 9.96482611e-01\n",
      " 3.37496167e-03 5.14390919e-10 5.23748600e-10 3.47205543e-07\n",
      " 3.27861849e-09 1.32134635e-12 5.61993486e-14 5.35611486e-12\n",
      " 1.16570489e-10 5.43351575e-07 2.43167178e-05 2.10451753e-06]\n",
      "15\n"
     ]
    }
   ],
   "source": [
    "print(np.squeeze(tflite_results))\n",
    "print(np.argmax(np.squeeze(tflite_results)))"
   ]
  },
  {
   "cell_type": "code",
   "execution_count": 49,
   "outputs": [],
   "source": [],
   "metadata": {
    "collapsed": false,
    "ExecuteTime": {
     "end_time": "2024-04-21T19:50:05.158481Z",
     "start_time": "2024-04-21T19:50:05.145974Z"
    }
   }
  }
 ],
 "metadata": {
  "kernelspec": {
   "display_name": "Python 3",
   "language": "python",
   "name": "python3"
  },
  "language_info": {
   "codemirror_mode": {
    "name": "ipython",
    "version": 3
   },
   "file_extension": ".py",
   "mimetype": "text/x-python",
   "name": "python",
   "nbconvert_exporter": "python",
   "pygments_lexer": "ipython3",
   "version": "3.8.5"
  }
 },
 "nbformat": 4,
 "nbformat_minor": 4
}
