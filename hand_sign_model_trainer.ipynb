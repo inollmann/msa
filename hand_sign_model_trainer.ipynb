{
 "cells": [
  {
   "cell_type": "code",
   "execution_count": 17,
   "metadata": {
    "ExecuteTime": {
     "end_time": "2024-04-21T19:43:02.229250Z",
     "start_time": "2024-04-21T19:43:02.222172Z"
    }
   },
   "outputs": [],
   "source": [
    "import csv\n",
    "\n",
    "import numpy as np\n",
    "import tensorflow as tf\n",
    "from sklearn.model_selection import train_test_split\n",
    "from sklearn.preprocessing import LabelEncoder\n",
    "\n",
    "RANDOM_SEED = 42"
   ]
  },
  {
   "cell_type": "markdown",
   "metadata": {},
   "source": []
  },
  {
   "cell_type": "code",
   "execution_count": 18,
   "metadata": {
    "ExecuteTime": {
     "end_time": "2024-04-21T19:43:02.337998Z",
     "start_time": "2024-04-21T19:43:02.319452Z"
    }
   },
   "outputs": [],
   "source": [
    "csv_file = 'keypoints\\\\keypointB_3D_full.csv'\n",
    "model_save_path = 'model\\\\customModel\\\\modelB\\\\ASLclassifier4a.hdf5'\n",
    "tflite_save_path = 'model\\\\customModel\\\\modelB\\\\ASLclassifier4a.tflite'"
   ]
  },
  {
   "cell_type": "markdown",
   "metadata": {},
   "source": []
  },
  {
   "cell_type": "code",
   "execution_count": 19,
   "metadata": {
    "ExecuteTime": {
     "end_time": "2024-04-21T19:43:02.353506Z",
     "start_time": "2024-04-21T19:43:02.340004Z"
    }
   },
   "outputs": [],
   "source": [
    "NUM_CLASSES = 28\n",
    "num_identifier_columns = 1\n",
    "coord_dimensions = 3"
   ]
  },
  {
   "cell_type": "markdown",
   "metadata": {},
   "source": []
  },
  {
   "cell_type": "code",
   "execution_count": 20,
   "metadata": {
    "ExecuteTime": {
     "end_time": "2024-04-21T19:43:05.834141Z",
     "start_time": "2024-04-21T19:43:02.354505Z"
    }
   },
   "outputs": [],
   "source": [
    "# lst = [1] + list(range(num_identifier_columns, (21 * 2) + num_identifier_columns))\n",
    "lst = list(range(num_identifier_columns, 21 * coord_dimensions + num_identifier_columns + 1))\n",
    "X_dataset = np.loadtxt(csv_file, delimiter=',', dtype='float32', usecols=lst)"
   ]
  },
  {
   "cell_type": "code",
   "execution_count": 21,
   "metadata": {
    "ExecuteTime": {
     "end_time": "2024-04-21T19:43:06.754249Z",
     "start_time": "2024-04-21T19:43:05.835719Z"
    }
   },
   "outputs": [],
   "source": [
    "y_dataset = np.loadtxt(csv_file, delimiter=',', dtype='<U8', usecols=0)"
   ]
  },
  {
   "cell_type": "code",
   "execution_count": 22,
   "metadata": {
    "ExecuteTime": {
     "end_time": "2024-04-21T19:43:06.784817Z",
     "start_time": "2024-04-21T19:43:06.756759Z"
    }
   },
   "outputs": [],
   "source": [
    "X_train, X_test, y_train, y_test = train_test_split(X_dataset, y_dataset, train_size=0.8, random_state=RANDOM_SEED)"
   ]
  },
  {
   "cell_type": "code",
   "execution_count": 23,
   "outputs": [],
   "source": [
    "# Initialize LabelEncoder\n",
    "label_encoder = LabelEncoder()\n",
    "\n",
    "# Fit and transform the target data to integers\n",
    "y_train_encoded = label_encoder.fit_transform(y_train)\n",
    "y_test_encoded = label_encoder.transform(y_test)"
   ],
   "metadata": {
    "collapsed": false,
    "ExecuteTime": {
     "end_time": "2024-04-21T19:43:06.816881Z",
     "start_time": "2024-04-21T19:43:06.787331Z"
    }
   }
  },
  {
   "cell_type": "markdown",
   "metadata": {},
   "source": []
  },
  {
   "cell_type": "code",
   "execution_count": 24,
   "metadata": {
    "ExecuteTime": {
     "end_time": "2024-04-21T19:43:06.879157Z",
     "start_time": "2024-04-21T19:43:06.818883Z"
    }
   },
   "outputs": [],
   "source": [
    "model = tf.keras.models.Sequential([\n",
    "    tf.keras.layers.Input((21 * coord_dimensions + 1, )),\n",
    "    tf.keras.layers.Dropout(0.15),\n",
    "    tf.keras.layers.Dense(80, activation='relu'),\n",
    "    tf.keras.layers.Dropout(0.15),\n",
    "    tf.keras.layers.Dense(50, activation='relu'),\n",
    "    tf.keras.layers.Dense(NUM_CLASSES, activation='softmax')\n",
    "])"
   ]
  },
  {
   "cell_type": "code",
   "execution_count": 25,
   "metadata": {
    "ExecuteTime": {
     "end_time": "2024-04-21T19:43:06.910732Z",
     "start_time": "2024-04-21T19:43:06.880159Z"
    }
   },
   "outputs": [
    {
     "name": "stdout",
     "output_type": "stream",
     "text": [
      "Model: \"sequential_1\"\n",
      "_________________________________________________________________\n",
      " Layer (type)                Output Shape              Param #   \n",
      "=================================================================\n",
      " dropout_2 (Dropout)         (None, 64)                0         \n",
      "                                                                 \n",
      " dense_3 (Dense)             (None, 80)                5200      \n",
      "                                                                 \n",
      " dropout_3 (Dropout)         (None, 80)                0         \n",
      "                                                                 \n",
      " dense_4 (Dense)             (None, 50)                4050      \n",
      "                                                                 \n",
      " dense_5 (Dense)             (None, 28)                1428      \n",
      "                                                                 \n",
      "=================================================================\n",
      "Total params: 10,678\n",
      "Trainable params: 10,678\n",
      "Non-trainable params: 0\n",
      "_________________________________________________________________\n"
     ]
    }
   ],
   "source": [
    "model.summary()  # tf.keras.utils.plot_model(model, show_shapes=True)"
   ]
  },
  {
   "cell_type": "code",
   "execution_count": 26,
   "metadata": {
    "ExecuteTime": {
     "end_time": "2024-04-21T19:43:06.926747Z",
     "start_time": "2024-04-21T19:43:06.911723Z"
    }
   },
   "outputs": [],
   "source": [
    "# cp_callback = tf.keras.callbacks.ModelCheckpoint(model_save_path, verbose=1, save_weights_only=False)\n",
    "es_callback = tf.keras.callbacks.EarlyStopping(patience=100, verbose=1)"
   ]
  },
  {
   "cell_type": "code",
   "execution_count": 27,
   "metadata": {
    "ExecuteTime": {
     "end_time": "2024-04-21T19:43:06.941778Z",
     "start_time": "2024-04-21T19:43:06.928755Z"
    }
   },
   "outputs": [],
   "source": [
    "model.compile(\n",
    "    optimizer='adam',\n",
    "    loss='sparse_categorical_crossentropy',\n",
    "    metrics=['accuracy']\n",
    ")"
   ]
  },
  {
   "cell_type": "markdown",
   "metadata": {},
   "source": []
  },
  {
   "cell_type": "code",
   "execution_count": 28,
   "metadata": {
    "scrolled": true,
    "ExecuteTime": {
     "end_time": "2024-04-21T19:49:54.830977Z",
     "start_time": "2024-04-21T19:43:06.943779Z"
    }
   },
   "outputs": [
    {
     "name": "stdout",
     "output_type": "stream",
     "text": [
      "Epoch 1/1000\n",
      "694/694 [==============================] - 4s 3ms/step - loss: 1.4357 - accuracy: 0.5497 - val_loss: 0.4918 - val_accuracy: 0.8848\n",
      "Epoch 2/1000\n",
      "694/694 [==============================] - 2s 2ms/step - loss: 0.7547 - accuracy: 0.7354 - val_loss: 0.3610 - val_accuracy: 0.9131\n",
      "Epoch 3/1000\n",
      "694/694 [==============================] - 2s 2ms/step - loss: 0.6156 - accuracy: 0.7862 - val_loss: 0.2819 - val_accuracy: 0.9293\n",
      "Epoch 4/1000\n",
      "694/694 [==============================] - 2s 2ms/step - loss: 0.5195 - accuracy: 0.8206 - val_loss: 0.2356 - val_accuracy: 0.9498\n",
      "Epoch 5/1000\n",
      "694/694 [==============================] - 2s 2ms/step - loss: 0.4532 - accuracy: 0.8468 - val_loss: 0.2065 - val_accuracy: 0.9632\n",
      "Epoch 6/1000\n",
      "694/694 [==============================] - 2s 2ms/step - loss: 0.4038 - accuracy: 0.8667 - val_loss: 0.1914 - val_accuracy: 0.9621\n",
      "Epoch 7/1000\n",
      "694/694 [==============================] - 2s 3ms/step - loss: 0.3613 - accuracy: 0.8834 - val_loss: 0.1761 - val_accuracy: 0.9687\n",
      "Epoch 8/1000\n",
      "694/694 [==============================] - 2s 2ms/step - loss: 0.3269 - accuracy: 0.8959 - val_loss: 0.1687 - val_accuracy: 0.9704\n",
      "Epoch 9/1000\n",
      "694/694 [==============================] - 2s 2ms/step - loss: 0.2972 - accuracy: 0.9053 - val_loss: 0.1536 - val_accuracy: 0.9644\n",
      "Epoch 10/1000\n",
      "694/694 [==============================] - 2s 2ms/step - loss: 0.2770 - accuracy: 0.9117 - val_loss: 0.1690 - val_accuracy: 0.9432\n",
      "Epoch 11/1000\n",
      "694/694 [==============================] - 2s 2ms/step - loss: 0.2625 - accuracy: 0.9165 - val_loss: 0.1574 - val_accuracy: 0.9529\n",
      "Epoch 12/1000\n",
      "694/694 [==============================] - 3s 4ms/step - loss: 0.2472 - accuracy: 0.9215 - val_loss: 0.1487 - val_accuracy: 0.9642\n",
      "Epoch 13/1000\n",
      "694/694 [==============================] - 3s 4ms/step - loss: 0.2386 - accuracy: 0.9238 - val_loss: 0.1540 - val_accuracy: 0.9554\n",
      "Epoch 14/1000\n",
      "694/694 [==============================] - 2s 2ms/step - loss: 0.2318 - accuracy: 0.9258 - val_loss: 0.1460 - val_accuracy: 0.9571\n",
      "Epoch 15/1000\n",
      "694/694 [==============================] - 2s 2ms/step - loss: 0.2242 - accuracy: 0.9278 - val_loss: 0.1476 - val_accuracy: 0.9525\n",
      "Epoch 16/1000\n",
      "694/694 [==============================] - 1s 2ms/step - loss: 0.2159 - accuracy: 0.9313 - val_loss: 0.1445 - val_accuracy: 0.9566\n",
      "Epoch 17/1000\n",
      "694/694 [==============================] - 2s 2ms/step - loss: 0.2103 - accuracy: 0.9342 - val_loss: 0.1343 - val_accuracy: 0.9644\n",
      "Epoch 18/1000\n",
      "694/694 [==============================] - 2s 2ms/step - loss: 0.2055 - accuracy: 0.9354 - val_loss: 0.1346 - val_accuracy: 0.9608\n",
      "Epoch 19/1000\n",
      "694/694 [==============================] - 2s 2ms/step - loss: 0.2036 - accuracy: 0.9354 - val_loss: 0.1600 - val_accuracy: 0.9438\n",
      "Epoch 20/1000\n",
      "694/694 [==============================] - 1s 2ms/step - loss: 0.1968 - accuracy: 0.9376 - val_loss: 0.1532 - val_accuracy: 0.9485\n",
      "Epoch 21/1000\n",
      "694/694 [==============================] - 2s 2ms/step - loss: 0.1942 - accuracy: 0.9382 - val_loss: 0.1370 - val_accuracy: 0.9581\n",
      "Epoch 22/1000\n",
      "694/694 [==============================] - 2s 3ms/step - loss: 0.1861 - accuracy: 0.9428 - val_loss: 0.1682 - val_accuracy: 0.9381\n",
      "Epoch 23/1000\n",
      "694/694 [==============================] - 2s 3ms/step - loss: 0.1874 - accuracy: 0.9410 - val_loss: 0.1421 - val_accuracy: 0.9536\n",
      "Epoch 24/1000\n",
      "694/694 [==============================] - 2s 3ms/step - loss: 0.1786 - accuracy: 0.9441 - val_loss: 0.1342 - val_accuracy: 0.9604\n",
      "Epoch 25/1000\n",
      "694/694 [==============================] - 2s 3ms/step - loss: 0.1811 - accuracy: 0.9442 - val_loss: 0.1450 - val_accuracy: 0.9548\n",
      "Epoch 26/1000\n",
      "694/694 [==============================] - 2s 3ms/step - loss: 0.1736 - accuracy: 0.9455 - val_loss: 0.1631 - val_accuracy: 0.9456\n",
      "Epoch 27/1000\n",
      "694/694 [==============================] - 2s 3ms/step - loss: 0.1721 - accuracy: 0.9470 - val_loss: 0.1755 - val_accuracy: 0.9307\n",
      "Epoch 28/1000\n",
      "694/694 [==============================] - 2s 3ms/step - loss: 0.1754 - accuracy: 0.9450 - val_loss: 0.1227 - val_accuracy: 0.9659\n",
      "Epoch 29/1000\n",
      "694/694 [==============================] - 2s 3ms/step - loss: 0.1658 - accuracy: 0.9482 - val_loss: 0.1443 - val_accuracy: 0.9516\n",
      "Epoch 30/1000\n",
      "694/694 [==============================] - 2s 3ms/step - loss: 0.1667 - accuracy: 0.9479 - val_loss: 0.1279 - val_accuracy: 0.9634\n",
      "Epoch 31/1000\n",
      "694/694 [==============================] - 2s 3ms/step - loss: 0.1665 - accuracy: 0.9491 - val_loss: 0.1152 - val_accuracy: 0.9716\n",
      "Epoch 32/1000\n",
      "694/694 [==============================] - 2s 2ms/step - loss: 0.1621 - accuracy: 0.9500 - val_loss: 0.1642 - val_accuracy: 0.9355\n",
      "Epoch 33/1000\n",
      "694/694 [==============================] - 2s 3ms/step - loss: 0.1591 - accuracy: 0.9510 - val_loss: 0.1577 - val_accuracy: 0.9435\n",
      "Epoch 34/1000\n",
      "694/694 [==============================] - 2s 3ms/step - loss: 0.1587 - accuracy: 0.9503 - val_loss: 0.1143 - val_accuracy: 0.9673\n",
      "Epoch 35/1000\n",
      "694/694 [==============================] - 2s 3ms/step - loss: 0.1562 - accuracy: 0.9524 - val_loss: 0.1680 - val_accuracy: 0.9403\n",
      "Epoch 36/1000\n",
      "694/694 [==============================] - 2s 3ms/step - loss: 0.1542 - accuracy: 0.9536 - val_loss: 0.1434 - val_accuracy: 0.9526\n",
      "Epoch 37/1000\n",
      "694/694 [==============================] - 2s 2ms/step - loss: 0.1513 - accuracy: 0.9533 - val_loss: 0.1526 - val_accuracy: 0.9496\n",
      "Epoch 38/1000\n",
      "694/694 [==============================] - 2s 2ms/step - loss: 0.1503 - accuracy: 0.9540 - val_loss: 0.1545 - val_accuracy: 0.9472\n",
      "Epoch 39/1000\n",
      "694/694 [==============================] - 2s 2ms/step - loss: 0.1488 - accuracy: 0.9548 - val_loss: 0.1687 - val_accuracy: 0.9433\n",
      "Epoch 40/1000\n",
      "694/694 [==============================] - 2s 3ms/step - loss: 0.1474 - accuracy: 0.9546 - val_loss: 0.1230 - val_accuracy: 0.9640\n",
      "Epoch 41/1000\n",
      "694/694 [==============================] - 2s 2ms/step - loss: 0.1457 - accuracy: 0.9547 - val_loss: 0.1351 - val_accuracy: 0.9545\n",
      "Epoch 42/1000\n",
      "694/694 [==============================] - 2s 3ms/step - loss: 0.1470 - accuracy: 0.9549 - val_loss: 0.1324 - val_accuracy: 0.9581\n",
      "Epoch 43/1000\n",
      "694/694 [==============================] - 2s 3ms/step - loss: 0.1439 - accuracy: 0.9562 - val_loss: 0.1468 - val_accuracy: 0.9531\n",
      "Epoch 44/1000\n",
      "694/694 [==============================] - 2s 3ms/step - loss: 0.1402 - accuracy: 0.9572 - val_loss: 0.1333 - val_accuracy: 0.9584\n",
      "Epoch 45/1000\n",
      "694/694 [==============================] - 2s 3ms/step - loss: 0.1404 - accuracy: 0.9573 - val_loss: 0.1450 - val_accuracy: 0.9515\n",
      "Epoch 46/1000\n",
      "694/694 [==============================] - 2s 3ms/step - loss: 0.1406 - accuracy: 0.9571 - val_loss: 0.1251 - val_accuracy: 0.9592\n",
      "Epoch 47/1000\n",
      "694/694 [==============================] - 2s 2ms/step - loss: 0.1386 - accuracy: 0.9575 - val_loss: 0.1358 - val_accuracy: 0.9572\n",
      "Epoch 48/1000\n",
      "694/694 [==============================] - 2s 3ms/step - loss: 0.1354 - accuracy: 0.9588 - val_loss: 0.1116 - val_accuracy: 0.9690\n",
      "Epoch 49/1000\n",
      "694/694 [==============================] - 1s 2ms/step - loss: 0.1363 - accuracy: 0.9590 - val_loss: 0.1629 - val_accuracy: 0.9434\n",
      "Epoch 50/1000\n",
      "694/694 [==============================] - 1s 2ms/step - loss: 0.1349 - accuracy: 0.9589 - val_loss: 0.1217 - val_accuracy: 0.9659\n",
      "Epoch 51/1000\n",
      "694/694 [==============================] - 1s 2ms/step - loss: 0.1357 - accuracy: 0.9589 - val_loss: 0.1293 - val_accuracy: 0.9598\n",
      "Epoch 52/1000\n",
      "694/694 [==============================] - 1s 2ms/step - loss: 0.1340 - accuracy: 0.9591 - val_loss: 0.1145 - val_accuracy: 0.9703\n",
      "Epoch 53/1000\n",
      "694/694 [==============================] - 1s 2ms/step - loss: 0.1308 - accuracy: 0.9602 - val_loss: 0.1349 - val_accuracy: 0.9583\n",
      "Epoch 54/1000\n",
      "694/694 [==============================] - 2s 2ms/step - loss: 0.1301 - accuracy: 0.9603 - val_loss: 0.1194 - val_accuracy: 0.9649\n",
      "Epoch 55/1000\n",
      "694/694 [==============================] - 2s 3ms/step - loss: 0.1300 - accuracy: 0.9601 - val_loss: 0.1169 - val_accuracy: 0.9679\n",
      "Epoch 56/1000\n",
      "694/694 [==============================] - 2s 3ms/step - loss: 0.1311 - accuracy: 0.9594 - val_loss: 0.1475 - val_accuracy: 0.9514\n",
      "Epoch 57/1000\n",
      "694/694 [==============================] - 2s 3ms/step - loss: 0.1289 - accuracy: 0.9608 - val_loss: 0.1295 - val_accuracy: 0.9586\n",
      "Epoch 58/1000\n",
      "694/694 [==============================] - 2s 3ms/step - loss: 0.1283 - accuracy: 0.9605 - val_loss: 0.1222 - val_accuracy: 0.9617\n",
      "Epoch 59/1000\n",
      "694/694 [==============================] - 3s 4ms/step - loss: 0.1273 - accuracy: 0.9612 - val_loss: 0.1168 - val_accuracy: 0.9673\n",
      "Epoch 60/1000\n",
      "694/694 [==============================] - 2s 3ms/step - loss: 0.1277 - accuracy: 0.9614 - val_loss: 0.1345 - val_accuracy: 0.9564\n",
      "Epoch 61/1000\n",
      "694/694 [==============================] - 2s 2ms/step - loss: 0.1274 - accuracy: 0.9615 - val_loss: 0.1481 - val_accuracy: 0.9510\n",
      "Epoch 62/1000\n",
      "694/694 [==============================] - 2s 2ms/step - loss: 0.1234 - accuracy: 0.9624 - val_loss: 0.1230 - val_accuracy: 0.9621\n",
      "Epoch 63/1000\n",
      "694/694 [==============================] - 2s 2ms/step - loss: 0.1214 - accuracy: 0.9635 - val_loss: 0.1530 - val_accuracy: 0.9451\n",
      "Epoch 64/1000\n",
      "694/694 [==============================] - 2s 2ms/step - loss: 0.1260 - accuracy: 0.9620 - val_loss: 0.1177 - val_accuracy: 0.9636\n",
      "Epoch 65/1000\n",
      "694/694 [==============================] - 2s 2ms/step - loss: 0.1239 - accuracy: 0.9622 - val_loss: 0.1289 - val_accuracy: 0.9611\n",
      "Epoch 66/1000\n",
      "694/694 [==============================] - 2s 2ms/step - loss: 0.1223 - accuracy: 0.9627 - val_loss: 0.1320 - val_accuracy: 0.9586\n",
      "Epoch 67/1000\n",
      "694/694 [==============================] - 2s 2ms/step - loss: 0.1237 - accuracy: 0.9621 - val_loss: 0.1236 - val_accuracy: 0.9607\n",
      "Epoch 68/1000\n",
      "694/694 [==============================] - 2s 2ms/step - loss: 0.1250 - accuracy: 0.9621 - val_loss: 0.1333 - val_accuracy: 0.9570\n",
      "Epoch 69/1000\n",
      "694/694 [==============================] - 2s 2ms/step - loss: 0.1225 - accuracy: 0.9628 - val_loss: 0.1029 - val_accuracy: 0.9696\n",
      "Epoch 70/1000\n",
      "694/694 [==============================] - 2s 2ms/step - loss: 0.1217 - accuracy: 0.9625 - val_loss: 0.1433 - val_accuracy: 0.9491\n",
      "Epoch 71/1000\n",
      "694/694 [==============================] - 2s 2ms/step - loss: 0.1193 - accuracy: 0.9632 - val_loss: 0.1383 - val_accuracy: 0.9504\n",
      "Epoch 72/1000\n",
      "694/694 [==============================] - 2s 2ms/step - loss: 0.1180 - accuracy: 0.9640 - val_loss: 0.1734 - val_accuracy: 0.9364\n",
      "Epoch 73/1000\n",
      "694/694 [==============================] - 2s 2ms/step - loss: 0.1183 - accuracy: 0.9640 - val_loss: 0.1400 - val_accuracy: 0.9522\n",
      "Epoch 74/1000\n",
      "694/694 [==============================] - 2s 2ms/step - loss: 0.1197 - accuracy: 0.9635 - val_loss: 0.1471 - val_accuracy: 0.9504\n",
      "Epoch 75/1000\n",
      "694/694 [==============================] - 2s 2ms/step - loss: 0.1188 - accuracy: 0.9640 - val_loss: 0.1234 - val_accuracy: 0.9622\n",
      "Epoch 76/1000\n",
      "694/694 [==============================] - 2s 2ms/step - loss: 0.1171 - accuracy: 0.9645 - val_loss: 0.1178 - val_accuracy: 0.9633\n",
      "Epoch 77/1000\n",
      "694/694 [==============================] - 2s 2ms/step - loss: 0.1189 - accuracy: 0.9630 - val_loss: 0.1082 - val_accuracy: 0.9685\n",
      "Epoch 78/1000\n",
      "694/694 [==============================] - 2s 2ms/step - loss: 0.1165 - accuracy: 0.9640 - val_loss: 0.1496 - val_accuracy: 0.9495\n",
      "Epoch 79/1000\n",
      "694/694 [==============================] - 2s 2ms/step - loss: 0.1154 - accuracy: 0.9638 - val_loss: 0.1213 - val_accuracy: 0.9628\n",
      "Epoch 80/1000\n",
      "694/694 [==============================] - 2s 2ms/step - loss: 0.1189 - accuracy: 0.9640 - val_loss: 0.1099 - val_accuracy: 0.9695\n",
      "Epoch 81/1000\n",
      "694/694 [==============================] - 2s 2ms/step - loss: 0.1152 - accuracy: 0.9647 - val_loss: 0.1159 - val_accuracy: 0.9649\n",
      "Epoch 82/1000\n",
      "694/694 [==============================] - 2s 2ms/step - loss: 0.1170 - accuracy: 0.9641 - val_loss: 0.1172 - val_accuracy: 0.9643\n",
      "Epoch 83/1000\n",
      "694/694 [==============================] - 2s 2ms/step - loss: 0.1114 - accuracy: 0.9653 - val_loss: 0.1204 - val_accuracy: 0.9604\n",
      "Epoch 84/1000\n",
      "694/694 [==============================] - 2s 2ms/step - loss: 0.1140 - accuracy: 0.9649 - val_loss: 0.1347 - val_accuracy: 0.9571\n",
      "Epoch 85/1000\n",
      "694/694 [==============================] - 2s 2ms/step - loss: 0.1158 - accuracy: 0.9645 - val_loss: 0.1258 - val_accuracy: 0.9579\n",
      "Epoch 86/1000\n",
      "694/694 [==============================] - 2s 2ms/step - loss: 0.1150 - accuracy: 0.9654 - val_loss: 0.1365 - val_accuracy: 0.9481\n",
      "Epoch 87/1000\n",
      "694/694 [==============================] - 2s 2ms/step - loss: 0.1145 - accuracy: 0.9651 - val_loss: 0.1163 - val_accuracy: 0.9626\n",
      "Epoch 88/1000\n",
      "694/694 [==============================] - 2s 2ms/step - loss: 0.1125 - accuracy: 0.9651 - val_loss: 0.1318 - val_accuracy: 0.9554\n",
      "Epoch 89/1000\n",
      "694/694 [==============================] - 2s 2ms/step - loss: 0.1123 - accuracy: 0.9648 - val_loss: 0.0982 - val_accuracy: 0.9736\n",
      "Epoch 90/1000\n",
      "694/694 [==============================] - 2s 2ms/step - loss: 0.1085 - accuracy: 0.9656 - val_loss: 0.1135 - val_accuracy: 0.9638\n",
      "Epoch 91/1000\n",
      "694/694 [==============================] - 2s 2ms/step - loss: 0.1094 - accuracy: 0.9658 - val_loss: 0.1159 - val_accuracy: 0.9638\n",
      "Epoch 92/1000\n",
      "694/694 [==============================] - 2s 2ms/step - loss: 0.1095 - accuracy: 0.9658 - val_loss: 0.1137 - val_accuracy: 0.9668\n",
      "Epoch 93/1000\n",
      "694/694 [==============================] - 2s 2ms/step - loss: 0.1102 - accuracy: 0.9665 - val_loss: 0.1230 - val_accuracy: 0.9632\n",
      "Epoch 94/1000\n",
      "694/694 [==============================] - 2s 2ms/step - loss: 0.1088 - accuracy: 0.9659 - val_loss: 0.1307 - val_accuracy: 0.9563\n",
      "Epoch 95/1000\n",
      "694/694 [==============================] - 2s 2ms/step - loss: 0.1070 - accuracy: 0.9661 - val_loss: 0.1277 - val_accuracy: 0.9572\n",
      "Epoch 96/1000\n",
      "694/694 [==============================] - 2s 2ms/step - loss: 0.1066 - accuracy: 0.9662 - val_loss: 0.1156 - val_accuracy: 0.9647\n",
      "Epoch 97/1000\n",
      "694/694 [==============================] - 2s 2ms/step - loss: 0.1089 - accuracy: 0.9659 - val_loss: 0.1176 - val_accuracy: 0.9642\n",
      "Epoch 98/1000\n",
      "694/694 [==============================] - 2s 2ms/step - loss: 0.1062 - accuracy: 0.9668 - val_loss: 0.1223 - val_accuracy: 0.9593\n",
      "Epoch 99/1000\n",
      "694/694 [==============================] - 2s 2ms/step - loss: 0.1058 - accuracy: 0.9670 - val_loss: 0.1465 - val_accuracy: 0.9430\n",
      "Epoch 100/1000\n",
      "694/694 [==============================] - 2s 2ms/step - loss: 0.1073 - accuracy: 0.9667 - val_loss: 0.1159 - val_accuracy: 0.9632\n",
      "Epoch 101/1000\n",
      "694/694 [==============================] - 2s 2ms/step - loss: 0.1081 - accuracy: 0.9667 - val_loss: 0.1492 - val_accuracy: 0.9431\n",
      "Epoch 102/1000\n",
      "694/694 [==============================] - 2s 2ms/step - loss: 0.1052 - accuracy: 0.9674 - val_loss: 0.1205 - val_accuracy: 0.9606\n",
      "Epoch 103/1000\n",
      "694/694 [==============================] - 2s 2ms/step - loss: 0.1069 - accuracy: 0.9663 - val_loss: 0.1428 - val_accuracy: 0.9509\n",
      "Epoch 104/1000\n",
      "694/694 [==============================] - 2s 2ms/step - loss: 0.1073 - accuracy: 0.9666 - val_loss: 0.1341 - val_accuracy: 0.9538\n",
      "Epoch 105/1000\n",
      "694/694 [==============================] - 2s 2ms/step - loss: 0.1069 - accuracy: 0.9665 - val_loss: 0.1115 - val_accuracy: 0.9667\n",
      "Epoch 106/1000\n",
      "694/694 [==============================] - 2s 2ms/step - loss: 0.1049 - accuracy: 0.9675 - val_loss: 0.1099 - val_accuracy: 0.9645\n",
      "Epoch 107/1000\n",
      "694/694 [==============================] - 2s 2ms/step - loss: 0.1045 - accuracy: 0.9669 - val_loss: 0.1215 - val_accuracy: 0.9604\n",
      "Epoch 108/1000\n",
      "694/694 [==============================] - 2s 2ms/step - loss: 0.1041 - accuracy: 0.9679 - val_loss: 0.1204 - val_accuracy: 0.9598\n",
      "Epoch 109/1000\n",
      "694/694 [==============================] - 2s 2ms/step - loss: 0.1052 - accuracy: 0.9672 - val_loss: 0.1121 - val_accuracy: 0.9661\n",
      "Epoch 110/1000\n",
      "694/694 [==============================] - 2s 2ms/step - loss: 0.1031 - accuracy: 0.9682 - val_loss: 0.1373 - val_accuracy: 0.9508\n",
      "Epoch 111/1000\n",
      "694/694 [==============================] - 2s 2ms/step - loss: 0.1020 - accuracy: 0.9678 - val_loss: 0.1382 - val_accuracy: 0.9524\n",
      "Epoch 112/1000\n",
      "694/694 [==============================] - 2s 2ms/step - loss: 0.1037 - accuracy: 0.9675 - val_loss: 0.1182 - val_accuracy: 0.9628\n",
      "Epoch 113/1000\n",
      "694/694 [==============================] - 2s 2ms/step - loss: 0.1031 - accuracy: 0.9682 - val_loss: 0.1096 - val_accuracy: 0.9660\n",
      "Epoch 114/1000\n",
      "694/694 [==============================] - 2s 2ms/step - loss: 0.1027 - accuracy: 0.9678 - val_loss: 0.1177 - val_accuracy: 0.9595\n",
      "Epoch 115/1000\n",
      "694/694 [==============================] - 2s 2ms/step - loss: 0.1006 - accuracy: 0.9683 - val_loss: 0.1057 - val_accuracy: 0.9663\n",
      "Epoch 116/1000\n",
      "694/694 [==============================] - 2s 2ms/step - loss: 0.1041 - accuracy: 0.9675 - val_loss: 0.1314 - val_accuracy: 0.9539\n",
      "Epoch 117/1000\n",
      "694/694 [==============================] - 2s 2ms/step - loss: 0.1003 - accuracy: 0.9690 - val_loss: 0.1709 - val_accuracy: 0.9363\n",
      "Epoch 118/1000\n",
      "694/694 [==============================] - 2s 2ms/step - loss: 0.1018 - accuracy: 0.9684 - val_loss: 0.1497 - val_accuracy: 0.9451\n",
      "Epoch 119/1000\n",
      "694/694 [==============================] - 2s 2ms/step - loss: 0.0983 - accuracy: 0.9696 - val_loss: 0.1052 - val_accuracy: 0.9669\n",
      "Epoch 120/1000\n",
      "694/694 [==============================] - 2s 2ms/step - loss: 0.1013 - accuracy: 0.9686 - val_loss: 0.1058 - val_accuracy: 0.9674\n",
      "Epoch 121/1000\n",
      "694/694 [==============================] - 2s 2ms/step - loss: 0.1015 - accuracy: 0.9683 - val_loss: 0.1221 - val_accuracy: 0.9588\n",
      "Epoch 122/1000\n",
      "694/694 [==============================] - 2s 2ms/step - loss: 0.1023 - accuracy: 0.9686 - val_loss: 0.1198 - val_accuracy: 0.9578\n",
      "Epoch 123/1000\n",
      "694/694 [==============================] - 2s 2ms/step - loss: 0.1001 - accuracy: 0.9688 - val_loss: 0.1528 - val_accuracy: 0.9438\n",
      "Epoch 124/1000\n",
      "694/694 [==============================] - 2s 2ms/step - loss: 0.1005 - accuracy: 0.9679 - val_loss: 0.1049 - val_accuracy: 0.9688\n",
      "Epoch 125/1000\n",
      "694/694 [==============================] - 2s 2ms/step - loss: 0.1013 - accuracy: 0.9682 - val_loss: 0.1310 - val_accuracy: 0.9533\n",
      "Epoch 126/1000\n",
      "694/694 [==============================] - 2s 2ms/step - loss: 0.0980 - accuracy: 0.9690 - val_loss: 0.1197 - val_accuracy: 0.9615\n",
      "Epoch 127/1000\n",
      "694/694 [==============================] - 2s 2ms/step - loss: 0.0977 - accuracy: 0.9694 - val_loss: 0.1264 - val_accuracy: 0.9593\n",
      "Epoch 128/1000\n",
      "694/694 [==============================] - 2s 2ms/step - loss: 0.0994 - accuracy: 0.9682 - val_loss: 0.1037 - val_accuracy: 0.9682\n",
      "Epoch 129/1000\n",
      "694/694 [==============================] - 2s 2ms/step - loss: 0.0995 - accuracy: 0.9692 - val_loss: 0.0995 - val_accuracy: 0.9713\n",
      "Epoch 130/1000\n",
      "694/694 [==============================] - 2s 2ms/step - loss: 0.0980 - accuracy: 0.9694 - val_loss: 0.1419 - val_accuracy: 0.9509\n",
      "Epoch 131/1000\n",
      "694/694 [==============================] - 2s 2ms/step - loss: 0.0983 - accuracy: 0.9686 - val_loss: 0.1024 - val_accuracy: 0.9681\n",
      "Epoch 132/1000\n",
      "694/694 [==============================] - 2s 2ms/step - loss: 0.0946 - accuracy: 0.9702 - val_loss: 0.1038 - val_accuracy: 0.9700\n",
      "Epoch 133/1000\n",
      "694/694 [==============================] - 2s 2ms/step - loss: 0.0972 - accuracy: 0.9692 - val_loss: 0.1470 - val_accuracy: 0.9469\n",
      "Epoch 134/1000\n",
      "694/694 [==============================] - 2s 2ms/step - loss: 0.0984 - accuracy: 0.9690 - val_loss: 0.1410 - val_accuracy: 0.9492\n",
      "Epoch 135/1000\n",
      "694/694 [==============================] - 2s 2ms/step - loss: 0.0950 - accuracy: 0.9698 - val_loss: 0.1659 - val_accuracy: 0.9413\n",
      "Epoch 136/1000\n",
      "694/694 [==============================] - 2s 2ms/step - loss: 0.0963 - accuracy: 0.9697 - val_loss: 0.1482 - val_accuracy: 0.9462\n",
      "Epoch 137/1000\n",
      "694/694 [==============================] - 2s 2ms/step - loss: 0.0983 - accuracy: 0.9692 - val_loss: 0.1190 - val_accuracy: 0.9606\n",
      "Epoch 138/1000\n",
      "694/694 [==============================] - 2s 2ms/step - loss: 0.0954 - accuracy: 0.9698 - val_loss: 0.1907 - val_accuracy: 0.9269\n",
      "Epoch 139/1000\n",
      "694/694 [==============================] - 2s 2ms/step - loss: 0.0949 - accuracy: 0.9706 - val_loss: 0.1341 - val_accuracy: 0.9519\n",
      "Epoch 140/1000\n",
      "694/694 [==============================] - 2s 2ms/step - loss: 0.0969 - accuracy: 0.9690 - val_loss: 0.1221 - val_accuracy: 0.9587\n",
      "Epoch 141/1000\n",
      "694/694 [==============================] - 2s 2ms/step - loss: 0.0953 - accuracy: 0.9704 - val_loss: 0.1334 - val_accuracy: 0.9558\n",
      "Epoch 142/1000\n",
      "694/694 [==============================] - 2s 2ms/step - loss: 0.0967 - accuracy: 0.9696 - val_loss: 0.1314 - val_accuracy: 0.9560\n",
      "Epoch 143/1000\n",
      "694/694 [==============================] - 2s 2ms/step - loss: 0.0938 - accuracy: 0.9702 - val_loss: 0.1382 - val_accuracy: 0.9481\n",
      "Epoch 144/1000\n",
      "694/694 [==============================] - 2s 2ms/step - loss: 0.0962 - accuracy: 0.9697 - val_loss: 0.1241 - val_accuracy: 0.9599\n",
      "Epoch 145/1000\n",
      "694/694 [==============================] - 2s 2ms/step - loss: 0.0949 - accuracy: 0.9701 - val_loss: 0.1840 - val_accuracy: 0.9317\n",
      "Epoch 146/1000\n",
      "694/694 [==============================] - 2s 2ms/step - loss: 0.0974 - accuracy: 0.9699 - val_loss: 0.1335 - val_accuracy: 0.9567\n",
      "Epoch 147/1000\n",
      "694/694 [==============================] - 2s 2ms/step - loss: 0.0928 - accuracy: 0.9711 - val_loss: 0.0897 - val_accuracy: 0.9745\n",
      "Epoch 148/1000\n",
      "694/694 [==============================] - 2s 2ms/step - loss: 0.0920 - accuracy: 0.9711 - val_loss: 0.1156 - val_accuracy: 0.9614\n",
      "Epoch 149/1000\n",
      "694/694 [==============================] - 2s 2ms/step - loss: 0.0939 - accuracy: 0.9700 - val_loss: 0.1470 - val_accuracy: 0.9476\n",
      "Epoch 150/1000\n",
      "694/694 [==============================] - 2s 2ms/step - loss: 0.0922 - accuracy: 0.9708 - val_loss: 0.1492 - val_accuracy: 0.9452\n",
      "Epoch 151/1000\n",
      "694/694 [==============================] - 2s 2ms/step - loss: 0.0927 - accuracy: 0.9700 - val_loss: 0.1319 - val_accuracy: 0.9566\n",
      "Epoch 152/1000\n",
      "694/694 [==============================] - 2s 2ms/step - loss: 0.0919 - accuracy: 0.9713 - val_loss: 0.1499 - val_accuracy: 0.9476\n",
      "Epoch 153/1000\n",
      "694/694 [==============================] - 2s 2ms/step - loss: 0.0930 - accuracy: 0.9702 - val_loss: 0.1364 - val_accuracy: 0.9530\n",
      "Epoch 154/1000\n",
      "694/694 [==============================] - 2s 2ms/step - loss: 0.0967 - accuracy: 0.9695 - val_loss: 0.1311 - val_accuracy: 0.9554\n",
      "Epoch 155/1000\n",
      "694/694 [==============================] - 2s 2ms/step - loss: 0.0954 - accuracy: 0.9700 - val_loss: 0.1254 - val_accuracy: 0.9568\n",
      "Epoch 156/1000\n",
      "694/694 [==============================] - 2s 2ms/step - loss: 0.0908 - accuracy: 0.9715 - val_loss: 0.1142 - val_accuracy: 0.9631\n",
      "Epoch 157/1000\n",
      "694/694 [==============================] - 2s 2ms/step - loss: 0.0931 - accuracy: 0.9704 - val_loss: 0.1274 - val_accuracy: 0.9566\n",
      "Epoch 158/1000\n",
      "694/694 [==============================] - 2s 2ms/step - loss: 0.0910 - accuracy: 0.9709 - val_loss: 0.1541 - val_accuracy: 0.9406\n",
      "Epoch 159/1000\n",
      "694/694 [==============================] - 2s 2ms/step - loss: 0.0904 - accuracy: 0.9713 - val_loss: 0.1500 - val_accuracy: 0.9490\n",
      "Epoch 160/1000\n",
      "694/694 [==============================] - 2s 2ms/step - loss: 0.0948 - accuracy: 0.9698 - val_loss: 0.1446 - val_accuracy: 0.9516\n",
      "Epoch 161/1000\n",
      "694/694 [==============================] - 2s 2ms/step - loss: 0.0923 - accuracy: 0.9708 - val_loss: 0.1106 - val_accuracy: 0.9664\n",
      "Epoch 162/1000\n",
      "694/694 [==============================] - 2s 2ms/step - loss: 0.0924 - accuracy: 0.9713 - val_loss: 0.1354 - val_accuracy: 0.9545\n",
      "Epoch 163/1000\n",
      "694/694 [==============================] - 2s 2ms/step - loss: 0.0892 - accuracy: 0.9712 - val_loss: 0.1345 - val_accuracy: 0.9548\n",
      "Epoch 164/1000\n",
      "694/694 [==============================] - 2s 2ms/step - loss: 0.0902 - accuracy: 0.9719 - val_loss: 0.1251 - val_accuracy: 0.9593\n",
      "Epoch 165/1000\n",
      "694/694 [==============================] - 2s 2ms/step - loss: 0.0910 - accuracy: 0.9706 - val_loss: 0.1557 - val_accuracy: 0.9445\n",
      "Epoch 166/1000\n",
      "694/694 [==============================] - 2s 2ms/step - loss: 0.0890 - accuracy: 0.9724 - val_loss: 0.0934 - val_accuracy: 0.9722\n",
      "Epoch 167/1000\n",
      "694/694 [==============================] - 2s 2ms/step - loss: 0.0892 - accuracy: 0.9717 - val_loss: 0.1265 - val_accuracy: 0.9615\n",
      "Epoch 168/1000\n",
      "694/694 [==============================] - 2s 2ms/step - loss: 0.0917 - accuracy: 0.9708 - val_loss: 0.1153 - val_accuracy: 0.9651\n",
      "Epoch 169/1000\n",
      "694/694 [==============================] - 2s 2ms/step - loss: 0.0907 - accuracy: 0.9712 - val_loss: 0.1206 - val_accuracy: 0.9629\n",
      "Epoch 170/1000\n",
      "694/694 [==============================] - 2s 2ms/step - loss: 0.0868 - accuracy: 0.9724 - val_loss: 0.1359 - val_accuracy: 0.9555\n",
      "Epoch 171/1000\n",
      "694/694 [==============================] - 2s 2ms/step - loss: 0.0911 - accuracy: 0.9718 - val_loss: 0.1293 - val_accuracy: 0.9581\n",
      "Epoch 172/1000\n",
      "694/694 [==============================] - 2s 2ms/step - loss: 0.0905 - accuracy: 0.9712 - val_loss: 0.1444 - val_accuracy: 0.9510\n",
      "Epoch 173/1000\n",
      "694/694 [==============================] - 2s 2ms/step - loss: 0.0896 - accuracy: 0.9716 - val_loss: 0.1214 - val_accuracy: 0.9588\n",
      "Epoch 174/1000\n",
      "694/694 [==============================] - 2s 2ms/step - loss: 0.0892 - accuracy: 0.9715 - val_loss: 0.1231 - val_accuracy: 0.9577\n",
      "Epoch 175/1000\n",
      "694/694 [==============================] - 2s 2ms/step - loss: 0.0881 - accuracy: 0.9720 - val_loss: 0.1162 - val_accuracy: 0.9605\n",
      "Epoch 176/1000\n",
      "694/694 [==============================] - 2s 3ms/step - loss: 0.0905 - accuracy: 0.9719 - val_loss: 0.2009 - val_accuracy: 0.9273\n",
      "Epoch 177/1000\n",
      "694/694 [==============================] - 2s 2ms/step - loss: 0.0885 - accuracy: 0.9726 - val_loss: 0.1152 - val_accuracy: 0.9602\n",
      "Epoch 178/1000\n",
      "694/694 [==============================] - 2s 2ms/step - loss: 0.0897 - accuracy: 0.9713 - val_loss: 0.1349 - val_accuracy: 0.9560\n",
      "Epoch 179/1000\n",
      "694/694 [==============================] - 2s 2ms/step - loss: 0.0881 - accuracy: 0.9719 - val_loss: 0.1592 - val_accuracy: 0.9481\n",
      "Epoch 180/1000\n",
      "694/694 [==============================] - 2s 2ms/step - loss: 0.0864 - accuracy: 0.9725 - val_loss: 0.1257 - val_accuracy: 0.9575\n",
      "Epoch 181/1000\n",
      "694/694 [==============================] - 2s 2ms/step - loss: 0.0886 - accuracy: 0.9724 - val_loss: 0.1708 - val_accuracy: 0.9394\n",
      "Epoch 182/1000\n",
      "694/694 [==============================] - 2s 2ms/step - loss: 0.0857 - accuracy: 0.9731 - val_loss: 0.1130 - val_accuracy: 0.9645\n",
      "Epoch 183/1000\n",
      "694/694 [==============================] - 2s 2ms/step - loss: 0.0865 - accuracy: 0.9730 - val_loss: 0.1601 - val_accuracy: 0.9447\n",
      "Epoch 184/1000\n",
      "694/694 [==============================] - 2s 2ms/step - loss: 0.0871 - accuracy: 0.9727 - val_loss: 0.1506 - val_accuracy: 0.9483\n",
      "Epoch 185/1000\n",
      "694/694 [==============================] - 2s 2ms/step - loss: 0.0877 - accuracy: 0.9717 - val_loss: 0.1331 - val_accuracy: 0.9564\n",
      "Epoch 186/1000\n",
      "694/694 [==============================] - 2s 2ms/step - loss: 0.0878 - accuracy: 0.9717 - val_loss: 0.1411 - val_accuracy: 0.9547\n",
      "Epoch 187/1000\n",
      "694/694 [==============================] - 2s 2ms/step - loss: 0.0876 - accuracy: 0.9723 - val_loss: 0.1702 - val_accuracy: 0.9391\n",
      "Epoch 188/1000\n",
      "694/694 [==============================] - 2s 2ms/step - loss: 0.0850 - accuracy: 0.9735 - val_loss: 0.1538 - val_accuracy: 0.9491\n",
      "Epoch 189/1000\n",
      "694/694 [==============================] - 2s 2ms/step - loss: 0.0876 - accuracy: 0.9724 - val_loss: 0.1325 - val_accuracy: 0.9554\n",
      "Epoch 190/1000\n",
      "694/694 [==============================] - 2s 2ms/step - loss: 0.0856 - accuracy: 0.9725 - val_loss: 0.1176 - val_accuracy: 0.9610\n",
      "Epoch 191/1000\n",
      "694/694 [==============================] - 2s 2ms/step - loss: 0.0890 - accuracy: 0.9714 - val_loss: 0.1361 - val_accuracy: 0.9534\n",
      "Epoch 192/1000\n",
      "694/694 [==============================] - 2s 2ms/step - loss: 0.0850 - accuracy: 0.9734 - val_loss: 0.1635 - val_accuracy: 0.9416\n",
      "Epoch 193/1000\n",
      "694/694 [==============================] - 2s 2ms/step - loss: 0.0861 - accuracy: 0.9727 - val_loss: 0.1379 - val_accuracy: 0.9556\n",
      "Epoch 194/1000\n",
      "694/694 [==============================] - 2s 2ms/step - loss: 0.0853 - accuracy: 0.9727 - val_loss: 0.1242 - val_accuracy: 0.9602\n",
      "Epoch 195/1000\n",
      "694/694 [==============================] - 2s 2ms/step - loss: 0.0872 - accuracy: 0.9721 - val_loss: 0.1887 - val_accuracy: 0.9353\n",
      "Epoch 196/1000\n",
      "694/694 [==============================] - 2s 2ms/step - loss: 0.0854 - accuracy: 0.9727 - val_loss: 0.1371 - val_accuracy: 0.9571\n",
      "Epoch 197/1000\n",
      "694/694 [==============================] - 2s 2ms/step - loss: 0.0858 - accuracy: 0.9729 - val_loss: 0.1348 - val_accuracy: 0.9555\n",
      "Epoch 198/1000\n",
      "694/694 [==============================] - 2s 2ms/step - loss: 0.0857 - accuracy: 0.9730 - val_loss: 0.1386 - val_accuracy: 0.9543\n",
      "Epoch 199/1000\n",
      "694/694 [==============================] - 2s 2ms/step - loss: 0.0875 - accuracy: 0.9727 - val_loss: 0.1209 - val_accuracy: 0.9633\n",
      "Epoch 200/1000\n",
      "694/694 [==============================] - 2s 2ms/step - loss: 0.0850 - accuracy: 0.9731 - val_loss: 0.1578 - val_accuracy: 0.9476\n",
      "Epoch 201/1000\n",
      "694/694 [==============================] - 2s 2ms/step - loss: 0.0848 - accuracy: 0.9735 - val_loss: 0.1526 - val_accuracy: 0.9453\n",
      "Epoch 202/1000\n",
      "694/694 [==============================] - 2s 2ms/step - loss: 0.0853 - accuracy: 0.9729 - val_loss: 0.1499 - val_accuracy: 0.9530\n",
      "Epoch 203/1000\n",
      "694/694 [==============================] - 2s 2ms/step - loss: 0.0835 - accuracy: 0.9731 - val_loss: 0.1188 - val_accuracy: 0.9628\n",
      "Epoch 204/1000\n",
      "694/694 [==============================] - 2s 2ms/step - loss: 0.0851 - accuracy: 0.9726 - val_loss: 0.1535 - val_accuracy: 0.9481\n",
      "Epoch 205/1000\n",
      "694/694 [==============================] - 2s 2ms/step - loss: 0.0858 - accuracy: 0.9729 - val_loss: 0.1393 - val_accuracy: 0.9521\n",
      "Epoch 206/1000\n",
      "694/694 [==============================] - 2s 2ms/step - loss: 0.0843 - accuracy: 0.9735 - val_loss: 0.1472 - val_accuracy: 0.9526\n",
      "Epoch 207/1000\n",
      "694/694 [==============================] - 2s 2ms/step - loss: 0.0848 - accuracy: 0.9740 - val_loss: 0.1306 - val_accuracy: 0.9596\n",
      "Epoch 208/1000\n",
      "694/694 [==============================] - 2s 2ms/step - loss: 0.0827 - accuracy: 0.9734 - val_loss: 0.1429 - val_accuracy: 0.9526\n",
      "Epoch 209/1000\n",
      "694/694 [==============================] - 2s 2ms/step - loss: 0.0860 - accuracy: 0.9734 - val_loss: 0.2122 - val_accuracy: 0.9221\n",
      "Epoch 210/1000\n",
      "694/694 [==============================] - 2s 2ms/step - loss: 0.0836 - accuracy: 0.9737 - val_loss: 0.1549 - val_accuracy: 0.9481\n",
      "Epoch 211/1000\n",
      "694/694 [==============================] - 2s 2ms/step - loss: 0.0844 - accuracy: 0.9728 - val_loss: 0.1456 - val_accuracy: 0.9521\n",
      "Epoch 212/1000\n",
      "694/694 [==============================] - 2s 2ms/step - loss: 0.0856 - accuracy: 0.9730 - val_loss: 0.1265 - val_accuracy: 0.9582\n",
      "Epoch 213/1000\n",
      "694/694 [==============================] - 2s 2ms/step - loss: 0.0839 - accuracy: 0.9735 - val_loss: 0.1548 - val_accuracy: 0.9503\n",
      "Epoch 214/1000\n",
      "694/694 [==============================] - 2s 2ms/step - loss: 0.0846 - accuracy: 0.9734 - val_loss: 0.1602 - val_accuracy: 0.9434\n",
      "Epoch 215/1000\n",
      "694/694 [==============================] - 2s 2ms/step - loss: 0.0842 - accuracy: 0.9735 - val_loss: 0.1326 - val_accuracy: 0.9574\n",
      "Epoch 216/1000\n",
      "694/694 [==============================] - 2s 2ms/step - loss: 0.0838 - accuracy: 0.9738 - val_loss: 0.1794 - val_accuracy: 0.9367\n",
      "Epoch 217/1000\n",
      "694/694 [==============================] - 2s 2ms/step - loss: 0.0852 - accuracy: 0.9728 - val_loss: 0.2001 - val_accuracy: 0.9343\n",
      "Epoch 218/1000\n",
      "694/694 [==============================] - 2s 2ms/step - loss: 0.0830 - accuracy: 0.9738 - val_loss: 0.1613 - val_accuracy: 0.9404\n",
      "Epoch 219/1000\n",
      "694/694 [==============================] - 2s 2ms/step - loss: 0.0832 - accuracy: 0.9734 - val_loss: 0.1543 - val_accuracy: 0.9504\n",
      "Epoch 220/1000\n",
      "694/694 [==============================] - 2s 2ms/step - loss: 0.0843 - accuracy: 0.9730 - val_loss: 0.1712 - val_accuracy: 0.9418\n",
      "Epoch 221/1000\n",
      "694/694 [==============================] - 2s 2ms/step - loss: 0.0825 - accuracy: 0.9737 - val_loss: 0.1858 - val_accuracy: 0.9380\n",
      "Epoch 222/1000\n",
      "694/694 [==============================] - 2s 2ms/step - loss: 0.0826 - accuracy: 0.9738 - val_loss: 0.1217 - val_accuracy: 0.9593\n",
      "Epoch 223/1000\n",
      "694/694 [==============================] - 2s 2ms/step - loss: 0.0821 - accuracy: 0.9741 - val_loss: 0.1326 - val_accuracy: 0.9560\n",
      "Epoch 224/1000\n",
      "694/694 [==============================] - 2s 2ms/step - loss: 0.0846 - accuracy: 0.9731 - val_loss: 0.2210 - val_accuracy: 0.9215\n",
      "Epoch 225/1000\n",
      "694/694 [==============================] - 2s 2ms/step - loss: 0.0843 - accuracy: 0.9735 - val_loss: 0.1700 - val_accuracy: 0.9394\n",
      "Epoch 226/1000\n",
      "694/694 [==============================] - 2s 2ms/step - loss: 0.0836 - accuracy: 0.9728 - val_loss: 0.1697 - val_accuracy: 0.9434\n",
      "Epoch 227/1000\n",
      "694/694 [==============================] - 2s 3ms/step - loss: 0.0819 - accuracy: 0.9739 - val_loss: 0.1390 - val_accuracy: 0.9554\n",
      "Epoch 228/1000\n",
      "694/694 [==============================] - 2s 2ms/step - loss: 0.0832 - accuracy: 0.9734 - val_loss: 0.1979 - val_accuracy: 0.9278\n",
      "Epoch 229/1000\n",
      "694/694 [==============================] - 2s 2ms/step - loss: 0.0823 - accuracy: 0.9739 - val_loss: 0.1134 - val_accuracy: 0.9643\n",
      "Epoch 230/1000\n",
      "694/694 [==============================] - 2s 2ms/step - loss: 0.0821 - accuracy: 0.9744 - val_loss: 0.1274 - val_accuracy: 0.9593\n",
      "Epoch 231/1000\n",
      "694/694 [==============================] - 2s 2ms/step - loss: 0.0789 - accuracy: 0.9746 - val_loss: 0.1736 - val_accuracy: 0.9435\n",
      "Epoch 232/1000\n",
      "694/694 [==============================] - 2s 2ms/step - loss: 0.0804 - accuracy: 0.9748 - val_loss: 0.1505 - val_accuracy: 0.9497\n",
      "Epoch 233/1000\n",
      "694/694 [==============================] - 2s 2ms/step - loss: 0.0810 - accuracy: 0.9739 - val_loss: 0.1726 - val_accuracy: 0.9408\n",
      "Epoch 234/1000\n",
      "694/694 [==============================] - 2s 2ms/step - loss: 0.0802 - accuracy: 0.9740 - val_loss: 0.1525 - val_accuracy: 0.9467\n",
      "Epoch 235/1000\n",
      "694/694 [==============================] - 2s 2ms/step - loss: 0.0821 - accuracy: 0.9739 - val_loss: 0.1799 - val_accuracy: 0.9358\n",
      "Epoch 236/1000\n",
      "694/694 [==============================] - 2s 2ms/step - loss: 0.0810 - accuracy: 0.9742 - val_loss: 0.1867 - val_accuracy: 0.9362\n",
      "Epoch 237/1000\n",
      "694/694 [==============================] - 2s 2ms/step - loss: 0.0810 - accuracy: 0.9747 - val_loss: 0.2149 - val_accuracy: 0.9233\n",
      "Epoch 238/1000\n",
      "694/694 [==============================] - 2s 2ms/step - loss: 0.0795 - accuracy: 0.9747 - val_loss: 0.1662 - val_accuracy: 0.9438\n",
      "Epoch 239/1000\n",
      "694/694 [==============================] - 2s 2ms/step - loss: 0.0816 - accuracy: 0.9742 - val_loss: 0.1792 - val_accuracy: 0.9385\n",
      "Epoch 240/1000\n",
      "694/694 [==============================] - 2s 2ms/step - loss: 0.0796 - accuracy: 0.9741 - val_loss: 0.1484 - val_accuracy: 0.9511\n",
      "Epoch 241/1000\n",
      "694/694 [==============================] - 2s 2ms/step - loss: 0.0801 - accuracy: 0.9742 - val_loss: 0.1364 - val_accuracy: 0.9532\n",
      "Epoch 242/1000\n",
      "694/694 [==============================] - 2s 2ms/step - loss: 0.0814 - accuracy: 0.9744 - val_loss: 0.2124 - val_accuracy: 0.9330\n",
      "Epoch 243/1000\n",
      "694/694 [==============================] - 2s 2ms/step - loss: 0.0810 - accuracy: 0.9739 - val_loss: 0.1574 - val_accuracy: 0.9456\n",
      "Epoch 244/1000\n",
      "694/694 [==============================] - 2s 2ms/step - loss: 0.0818 - accuracy: 0.9739 - val_loss: 0.1712 - val_accuracy: 0.9408\n",
      "Epoch 245/1000\n",
      "694/694 [==============================] - 2s 2ms/step - loss: 0.0812 - accuracy: 0.9740 - val_loss: 0.1353 - val_accuracy: 0.9566\n",
      "Epoch 246/1000\n",
      "694/694 [==============================] - 2s 2ms/step - loss: 0.0810 - accuracy: 0.9750 - val_loss: 0.2078 - val_accuracy: 0.9290\n",
      "Epoch 247/1000\n",
      "694/694 [==============================] - 2s 2ms/step - loss: 0.0787 - accuracy: 0.9742 - val_loss: 0.1492 - val_accuracy: 0.9529\n",
      "Epoch 247: early stopping\n"
     ]
    },
    {
     "data": {
      "text/plain": "<keras.callbacks.History at 0x18678818ca0>"
     },
     "execution_count": 28,
     "metadata": {},
     "output_type": "execute_result"
    }
   ],
   "source": [
    "model.fit(\n",
    "    X_train,\n",
    "    y_train_encoded,\n",
    "    epochs=1000,\n",
    "    batch_size=128,\n",
    "    validation_data=(X_test, y_test_encoded),\n",
    "    callbacks=[es_callback]    # callbacks=[cp_callback, es_callback]\n",
    ")"
   ]
  },
  {
   "cell_type": "code",
   "execution_count": 29,
   "metadata": {
    "ExecuteTime": {
     "end_time": "2024-04-21T19:49:55.142601Z",
     "start_time": "2024-04-21T19:49:54.833987Z"
    }
   },
   "outputs": [
    {
     "name": "stdout",
     "output_type": "stream",
     "text": [
      "174/174 [==============================] - 0s 1ms/step - loss: 0.1492 - accuracy: 0.9529\n"
     ]
    }
   ],
   "source": [
    "val_loss, val_acc = model.evaluate(X_test, y_test_encoded, batch_size=128)"
   ]
  },
  {
   "cell_type": "code",
   "execution_count": 30,
   "metadata": {
    "ExecuteTime": {
     "end_time": "2024-04-21T19:49:55.173551Z",
     "start_time": "2024-04-21T19:49:55.152882Z"
    }
   },
   "outputs": [],
   "source": [
    "# model = tf.keras.models.load_model(model_save_path)"
   ]
  },
  {
   "cell_type": "code",
   "execution_count": 31,
   "metadata": {
    "ExecuteTime": {
     "end_time": "2024-04-21T19:49:55.327791Z",
     "start_time": "2024-04-21T19:49:55.175549Z"
    }
   },
   "outputs": [
    {
     "name": "stdout",
     "output_type": "stream",
     "text": [
      "1/1 [==============================] - 0s 100ms/step\n",
      "[5.28966697e-11 5.29437944e-15 6.50254628e-10 1.51895954e-10\n",
      " 3.57475716e-09 3.56865815e-10 1.50886976e-07 2.41817015e-05\n",
      " 2.72425593e-09 8.29315905e-09 4.15654923e-19 4.27257334e-07\n",
      " 7.40146277e-07 1.42389445e-05 5.88312168e-12 9.99505043e-01\n",
      " 3.99269280e-04 3.82329455e-12 3.85791015e-14 3.14098081e-09\n",
      " 1.31292912e-13 2.41228287e-16 2.25659043e-15 3.30803291e-17\n",
      " 1.10094347e-11 4.69335191e-06 5.12063343e-05 4.59821115e-09]\n",
      "15\n"
     ]
    }
   ],
   "source": [
    "predict_result = model.predict(np.array([X_test[0]]))\n",
    "print(np.squeeze(predict_result))\n",
    "print(np.argmax(np.squeeze(predict_result)))"
   ]
  },
  {
   "cell_type": "markdown",
   "metadata": {},
   "source": []
  },
  {
   "cell_type": "code",
   "execution_count": 32,
   "metadata": {
    "ExecuteTime": {
     "end_time": "2024-04-21T19:50:00.182716Z",
     "start_time": "2024-04-21T19:49:55.328767Z"
    }
   },
   "outputs": [
    {
     "name": "stdout",
     "output_type": "stream",
     "text": [
      "694/694 [==============================] - 1s 989us/step\n"
     ]
    },
    {
     "data": {
      "text/plain": "<Figure size 700x600 with 2 Axes>",
      "image/png": "[encoded data removed]"
     },
     "metadata": {},
     "output_type": "display_data"
    },
    {
     "name": "stdout",
     "output_type": "stream",
     "text": [
      "Classification Report\n",
      "              precision    recall  f1-score   support\n",
      "\n",
      "           A       1.00      0.98      0.99       813\n",
      "           B       1.00      1.00      1.00       895\n",
      "           C       1.00      0.99      0.99       577\n",
      "           D       0.92      1.00      0.96       829\n",
      "           E       1.00      0.96      0.98       873\n",
      "           F       0.99      1.00      1.00      1047\n",
      "           G       1.00      1.00      1.00       993\n",
      "           H       1.00      1.00      1.00       859\n",
      "           I       0.94      0.99      0.97       835\n",
      "           J       0.99      0.99      0.99       933\n",
      "           K       0.99      0.81      0.89      1015\n",
      "           L       0.91      1.00      0.95       910\n",
      "           M       0.93      0.71      0.81       334\n",
      "           N       0.75      0.95      0.84       314\n",
      "           O       1.00      0.89      0.94       663\n",
      "           P       0.99      0.98      0.99       766\n",
      "           Q       0.98      0.99      0.98       718\n",
      "           R       0.98      0.97      0.97       910\n",
      "           S       0.99      0.74      0.84       945\n",
      "           T       0.98      0.89      0.94       906\n",
      "           U       0.82      0.98      0.89       927\n",
      "           V       0.85      0.97      0.91       930\n",
      "           W       1.00      0.99      0.99       910\n",
      "           X       0.74      0.86      0.80       814\n",
      "           Y       1.00      1.00      1.00       975\n",
      "           Z       1.00      0.99      0.99       843\n",
      "        _del       1.00      0.98      0.99       405\n",
      "      _space       0.99      0.96      0.98       257\n",
      "\n",
      "    accuracy                           0.95     22196\n",
      "   macro avg       0.95      0.95      0.95     22196\n",
      "weighted avg       0.96      0.95      0.95     22196\n"
     ]
    }
   ],
   "source": [
    "import pandas as pd\n",
    "import seaborn as sns\n",
    "import matplotlib.pyplot as plt\n",
    "from sklearn.metrics import confusion_matrix, classification_report\n",
    "\n",
    "def print_confusion_matrix(y_true, y_pred, report=True):\n",
    "    labels = sorted(list(set(y_true)))\n",
    "    cmx_data = confusion_matrix(y_true, y_pred, labels=labels)\n",
    "    \n",
    "    df_cmx = pd.DataFrame(cmx_data, index=labels, columns=labels)\n",
    " \n",
    "    fig, ax = plt.subplots(figsize=(7, 6))\n",
    "    sns.heatmap(df_cmx, annot=True, fmt='g' ,square=False)\n",
    "    ax.set_ylim(len(set(y_true)), 0)\n",
    "    plt.show()\n",
    "    \n",
    "    if report:\n",
    "        print('Classification Report')\n",
    "        print(classification_report(y_test, y_pred))\n",
    "\n",
    "Y_pred = model.predict(X_test)\n",
    "y_pred = np.argmax(Y_pred, axis=1)\n",
    "\n",
    "label_encoder.fit(y_train)\n",
    "y_test_decoded = label_encoder.inverse_transform(y_test_encoded)\n",
    "y_pred_decoded = label_encoder.inverse_transform(y_pred)\n",
    "\n",
    "print_confusion_matrix(y_test_decoded, y_pred_decoded)"
   ]
  },
  {
   "cell_type": "markdown",
   "metadata": {},
   "source": [
    "# Tensorflow-Lite"
   ]
  },
  {
   "cell_type": "code",
   "execution_count": 33,
   "metadata": {
    "ExecuteTime": {
     "end_time": "2024-04-21T19:50:00.616908Z",
     "start_time": "2024-04-21T19:50:00.184721Z"
    }
   },
   "outputs": [],
   "source": [
    "model.save(model_save_path, include_optimizer=False)"
   ]
  },
  {
   "cell_type": "code",
   "execution_count": 40,
   "metadata": {
    "ExecuteTime": {
     "end_time": "2024-04-21T19:51:41.027320Z",
     "start_time": "2024-04-21T19:51:39.143461Z"
    }
   },
   "outputs": [
    {
     "name": "stderr",
     "output_type": "stream",
     "text": [
      "WARNING:absl:Found untraced functions such as _update_step_xla while saving (showing 1 of 1). These functions will not be directly callable after loading.\n"
     ]
    },
    {
     "name": "stdout",
     "output_type": "stream",
     "text": [
      "INFO:tensorflow:Assets written to: C:\\Users\\ivono\\AppData\\Local\\Temp\\tmpo34jab3j\\assets\n"
     ]
    },
    {
     "name": "stderr",
     "output_type": "stream",
     "text": [
      "INFO:tensorflow:Assets written to: C:\\Users\\ivono\\AppData\\Local\\Temp\\tmpo34jab3j\\assets\n"
     ]
    },
    {
     "data": {
      "text/plain": "13448"
     },
     "execution_count": 40,
     "metadata": {},
     "output_type": "execute_result"
    }
   ],
   "source": [
    "converter = tf.lite.TFLiteConverter.from_keras_model(model)\n",
    "converter.optimizations = [tf.lite.Optimize.DEFAULT]\n",
    "tflite_quantized_model = converter.convert()\n",
    "\n",
    "open(tflite_save_path, 'wb').write(tflite_quantized_model)"
   ]
  },
  {
   "cell_type": "code",
   "execution_count": 35,
   "metadata": {
    "ExecuteTime": {
     "end_time": "2024-04-21T19:50:05.081668Z",
     "start_time": "2024-04-21T19:50:04.981842Z"
    }
   },
   "outputs": [],
   "source": [
    "interpreter = tf.lite.Interpreter(model_path=tflite_save_path)\n",
    "interpreter.allocate_tensors()"
   ]
  },
  {
   "cell_type": "code",
   "execution_count": 36,
   "metadata": {
    "ExecuteTime": {
     "end_time": "2024-04-21T19:50:05.097164Z",
     "start_time": "2024-04-21T19:50:05.083667Z"
    }
   },
   "outputs": [],
   "source": [
    "input_details = interpreter.get_input_details()\n",
    "output_details = interpreter.get_output_details()"
   ]
  },
  {
   "cell_type": "code",
   "execution_count": 37,
   "metadata": {
    "ExecuteTime": {
     "end_time": "2024-04-21T19:50:05.112193Z",
     "start_time": "2024-04-21T19:50:05.099165Z"
    }
   },
   "outputs": [],
   "source": [
    "interpreter.set_tensor(input_details[0]['index'], np.array([X_test[0]]))"
   ]
  },
  {
   "cell_type": "code",
   "execution_count": 38,
   "metadata": {
    "scrolled": true,
    "ExecuteTime": {
     "end_time": "2024-04-21T19:50:05.127392Z",
     "start_time": "2024-04-21T19:50:05.115195Z"
    }
   },
   "outputs": [
    {
     "name": "stdout",
     "output_type": "stream",
     "text": [
      "CPU times: total: 0 ns\n",
      "Wall time: 0 ns\n"
     ]
    }
   ],
   "source": [
    "%%time\n",
    "interpreter.invoke()\n",
    "tflite_results = interpreter.get_tensor(output_details[0]['index'])"
   ]
  },
  {
   "cell_type": "code",
   "execution_count": 39,
   "metadata": {
    "ExecuteTime": {
     "end_time": "2024-04-21T19:50:05.142974Z",
     "start_time": "2024-04-21T19:50:05.131412Z"
    }
   },
   "outputs": [
    {
     "name": "stdout",
     "output_type": "stream",
     "text": [
      "[9.6808377e-12 7.7327184e-16 3.1143393e-10 8.5567612e-12 7.6506206e-09\n",
      " 2.7285513e-10 7.1341844e-07 1.1902310e-05 3.0846101e-09 5.7827734e-09\n",
      " 6.0901793e-20 2.1867845e-07 1.1527546e-07 4.3830601e-06 5.0425159e-13\n",
      " 9.9965811e-01 3.0383718e-04 4.8586786e-14 4.5246081e-14 1.1506270e-09\n",
      " 1.7015601e-14 6.9322751e-17 1.4141276e-16 7.7052139e-17 4.8895402e-12\n",
      " 6.1342820e-07 2.0025602e-05 2.8286062e-09]\n",
      "15\n"
     ]
    }
   ],
   "source": [
    "print(np.squeeze(tflite_results))\n",
    "print(np.argmax(np.squeeze(tflite_results)))"
   ]
  },
  {
   "cell_type": "code",
   "execution_count": 39,
   "outputs": [],
   "source": [],
   "metadata": {
    "collapsed": false,
    "ExecuteTime": {
     "end_time": "2024-04-21T19:50:05.158481Z",
     "start_time": "2024-04-21T19:50:05.145974Z"
    }
   }
  }
 ],
 "metadata": {
  "kernelspec": {
   "display_name": "Python 3",
   "language": "python",
   "name": "python3"
  },
  "language_info": {
   "codemirror_mode": {
    "name": "ipython",
    "version": 3
   },
   "file_extension": ".py",
   "mimetype": "text/x-python",
   "name": "python",
   "nbconvert_exporter": "python",
   "pygments_lexer": "ipython3",
   "version": "3.8.5"
  }
 },
 "nbformat": 4,
 "nbformat_minor": 4
}
