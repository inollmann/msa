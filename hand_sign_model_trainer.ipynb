{
 "cells": [
  {
   "cell_type": "code",
   "execution_count": 1,
   "metadata": {
    "ExecuteTime": {
     "end_time": "2024-04-21T19:43:02.229250Z",
     "start_time": "2024-04-21T19:43:02.222172Z"
    }
   },
   "outputs": [],
   "source": [
    "import csv\n",
    "\n",
    "import numpy as np\n",
    "import tensorflow as tf\n",
    "from sklearn.model_selection import train_test_split\n",
    "from sklearn.preprocessing import LabelEncoder\n",
    "\n",
    "RANDOM_SEED = 42"
   ]
  },
  {
   "cell_type": "markdown",
   "metadata": {},
   "source": []
  },
  {
   "cell_type": "code",
   "execution_count": 2,
   "metadata": {
    "ExecuteTime": {
     "end_time": "2024-04-21T19:43:02.337998Z",
     "start_time": "2024-04-21T19:43:02.319452Z"
    }
   },
   "outputs": [],
   "source": [
    "csv_file = 'keypoints\\\\keypointB_3D_full.csv'\n",
    "model_save_path = 'model\\\\customModel\\\\modelB\\\\test.hdf5'\n",
    "tflite_save_path = 'model\\\\customModel\\\\modelB\\\\test.tflite'"
   ]
  },
  {
   "cell_type": "markdown",
   "metadata": {},
   "source": []
  },
  {
   "cell_type": "code",
   "execution_count": 3,
   "metadata": {
    "ExecuteTime": {
     "end_time": "2024-04-21T19:43:02.353506Z",
     "start_time": "2024-04-21T19:43:02.340004Z"
    }
   },
   "outputs": [],
   "source": [
    "NUM_CLASSES = 28\n",
    "num_identifier_columns = 1\n",
    "coord_dimensions = 3"
   ]
  },
  {
   "cell_type": "markdown",
   "metadata": {},
   "source": []
  },
  {
   "cell_type": "code",
   "execution_count": 4,
   "metadata": {
    "ExecuteTime": {
     "end_time": "2024-04-21T19:43:05.834141Z",
     "start_time": "2024-04-21T19:43:02.354505Z"
    }
   },
   "outputs": [],
   "source": [
    "# lst = [1] + list(range(num_identifier_columns, (21 * 2) + num_identifier_columns))\n",
    "lst = list(range(num_identifier_columns, 21 * coord_dimensions + num_identifier_columns + 1))\n",
    "X_dataset = np.loadtxt(csv_file, delimiter=',', dtype='float32', usecols=lst)"
   ]
  },
  {
   "cell_type": "code",
   "execution_count": 5,
   "metadata": {
    "ExecuteTime": {
     "end_time": "2024-04-21T19:43:06.754249Z",
     "start_time": "2024-04-21T19:43:05.835719Z"
    }
   },
   "outputs": [],
   "source": [
    "y_dataset = np.loadtxt(csv_file, delimiter=',', dtype='<U8', usecols=0)"
   ]
  },
  {
   "cell_type": "code",
   "execution_count": 6,
   "metadata": {
    "ExecuteTime": {
     "end_time": "2024-04-21T19:43:06.784817Z",
     "start_time": "2024-04-21T19:43:06.756759Z"
    }
   },
   "outputs": [],
   "source": [
    "X_train, X_test, y_train, y_test = train_test_split(X_dataset, y_dataset, train_size=0.8, random_state=RANDOM_SEED)"
   ]
  },
  {
   "cell_type": "code",
   "execution_count": 7,
   "outputs": [],
   "source": [
    "# Initialize LabelEncoder\n",
    "label_encoder = LabelEncoder()\n",
    "\n",
    "# Fit and transform the target data to integers\n",
    "y_train_encoded = label_encoder.fit_transform(y_train)\n",
    "y_test_encoded = label_encoder.transform(y_test)"
   ],
   "metadata": {
    "collapsed": false,
    "ExecuteTime": {
     "end_time": "2024-04-21T19:43:06.816881Z",
     "start_time": "2024-04-21T19:43:06.787331Z"
    }
   }
  },
  {
   "cell_type": "markdown",
   "metadata": {},
   "source": []
  },
  {
   "cell_type": "code",
   "execution_count": 8,
   "metadata": {
    "ExecuteTime": {
     "end_time": "2024-04-21T19:43:06.879157Z",
     "start_time": "2024-04-21T19:43:06.818883Z"
    }
   },
   "outputs": [],
   "source": [
    "model = tf.keras.models.Sequential([\n",
    "    tf.keras.layers.Input((21 * coord_dimensions + 1, )),\n",
    "    tf.keras.layers.Dropout(0.15),\n",
    "    tf.keras.layers.Dense(80, activation='relu'),\n",
    "    tf.keras.layers.Dropout(0.15),\n",
    "    tf.keras.layers.Dense(50, activation='relu'),\n",
    "    tf.keras.layers.Dense(NUM_CLASSES, activation='softmax')\n",
    "])"
   ]
  },
  {
   "cell_type": "code",
   "execution_count": 9,
   "metadata": {
    "ExecuteTime": {
     "end_time": "2024-04-21T19:43:06.910732Z",
     "start_time": "2024-04-21T19:43:06.880159Z"
    }
   },
   "outputs": [
    {
     "name": "stdout",
     "output_type": "stream",
     "text": [
      "Model: \"sequential\"\n",
      "_________________________________________________________________\n",
      " Layer (type)                Output Shape              Param #   \n",
      "=================================================================\n",
      " dropout (Dropout)           (None, 64)                0         \n",
      "                                                                 \n",
      " dense (Dense)               (None, 80)                5200      \n",
      "                                                                 \n",
      " dropout_1 (Dropout)         (None, 80)                0         \n",
      "                                                                 \n",
      " dense_1 (Dense)             (None, 50)                4050      \n",
      "                                                                 \n",
      " dense_2 (Dense)             (None, 28)                1428      \n",
      "                                                                 \n",
      "=================================================================\n",
      "Total params: 10,678\n",
      "Trainable params: 10,678\n",
      "Non-trainable params: 0\n",
      "_________________________________________________________________\n"
     ]
    }
   ],
   "source": [
    "model.summary()  # tf.keras.utils.plot_model(model, show_shapes=True)"
   ]
  },
  {
   "cell_type": "code",
   "execution_count": 10,
   "metadata": {
    "ExecuteTime": {
     "end_time": "2024-04-21T19:43:06.926747Z",
     "start_time": "2024-04-21T19:43:06.911723Z"
    }
   },
   "outputs": [],
   "source": [
    "# cp_callback = tf.keras.callbacks.ModelCheckpoint(model_save_path, verbose=1, save_weights_only=False)\n",
    "es_callback = tf.keras.callbacks.EarlyStopping(patience=100, verbose=1)"
   ]
  },
  {
   "cell_type": "code",
   "execution_count": 11,
   "metadata": {
    "ExecuteTime": {
     "end_time": "2024-04-21T19:43:06.941778Z",
     "start_time": "2024-04-21T19:43:06.928755Z"
    }
   },
   "outputs": [],
   "source": [
    "model.compile(\n",
    "    optimizer='adam',\n",
    "    loss='sparse_categorical_crossentropy',\n",
    "    metrics=['accuracy']\n",
    ")"
   ]
  },
  {
   "cell_type": "markdown",
   "metadata": {},
   "source": []
  },
  {
   "cell_type": "code",
   "execution_count": 12,
   "metadata": {
    "scrolled": true,
    "ExecuteTime": {
     "end_time": "2024-04-21T19:49:54.830977Z",
     "start_time": "2024-04-21T19:43:06.943779Z"
    }
   },
   "outputs": [
    {
     "name": "stdout",
     "output_type": "stream",
     "text": [
      "Epoch 1/1000\n",
      "694/694 [==============================] - 2s 2ms/step - loss: 1.4791 - accuracy: 0.5431 - val_loss: 0.5223 - val_accuracy: 0.8753\n",
      "Epoch 2/1000\n",
      "694/694 [==============================] - 2s 2ms/step - loss: 0.7776 - accuracy: 0.7342 - val_loss: 0.3537 - val_accuracy: 0.9190\n",
      "Epoch 3/1000\n",
      "694/694 [==============================] - 1s 2ms/step - loss: 0.6208 - accuracy: 0.7879 - val_loss: 0.2742 - val_accuracy: 0.9458\n",
      "Epoch 4/1000\n",
      "694/694 [==============================] - 1s 2ms/step - loss: 0.5294 - accuracy: 0.8205 - val_loss: 0.2342 - val_accuracy: 0.9484\n",
      "Epoch 5/1000\n",
      "694/694 [==============================] - 1s 2ms/step - loss: 0.4660 - accuracy: 0.8463 - val_loss: 0.2017 - val_accuracy: 0.9599\n",
      "Epoch 6/1000\n",
      "694/694 [==============================] - 2s 2ms/step - loss: 0.4086 - accuracy: 0.8690 - val_loss: 0.1864 - val_accuracy: 0.9650\n",
      "Epoch 7/1000\n",
      "694/694 [==============================] - 2s 2ms/step - loss: 0.3629 - accuracy: 0.8853 - val_loss: 0.1674 - val_accuracy: 0.9673\n",
      "Epoch 8/1000\n",
      "694/694 [==============================] - 1s 2ms/step - loss: 0.3345 - accuracy: 0.8935 - val_loss: 0.1626 - val_accuracy: 0.9658\n",
      "Epoch 9/1000\n",
      "694/694 [==============================] - 1s 2ms/step - loss: 0.3126 - accuracy: 0.9010 - val_loss: 0.1572 - val_accuracy: 0.9661\n",
      "Epoch 10/1000\n",
      "694/694 [==============================] - 1s 2ms/step - loss: 0.2930 - accuracy: 0.9076 - val_loss: 0.1548 - val_accuracy: 0.9596\n",
      "Epoch 11/1000\n",
      "694/694 [==============================] - 1s 2ms/step - loss: 0.2758 - accuracy: 0.9130 - val_loss: 0.1346 - val_accuracy: 0.9709\n",
      "Epoch 12/1000\n",
      "694/694 [==============================] - 1s 2ms/step - loss: 0.2627 - accuracy: 0.9177 - val_loss: 0.1351 - val_accuracy: 0.9684\n",
      "Epoch 13/1000\n",
      "694/694 [==============================] - 1s 2ms/step - loss: 0.2500 - accuracy: 0.9207 - val_loss: 0.1453 - val_accuracy: 0.9618\n",
      "Epoch 14/1000\n",
      "694/694 [==============================] - 1s 2ms/step - loss: 0.2448 - accuracy: 0.9240 - val_loss: 0.1365 - val_accuracy: 0.9661\n",
      "Epoch 15/1000\n",
      "694/694 [==============================] - 1s 2ms/step - loss: 0.2367 - accuracy: 0.9252 - val_loss: 0.1473 - val_accuracy: 0.9573\n",
      "Epoch 16/1000\n",
      "694/694 [==============================] - 1s 2ms/step - loss: 0.2300 - accuracy: 0.9278 - val_loss: 0.1263 - val_accuracy: 0.9699\n",
      "Epoch 17/1000\n",
      "694/694 [==============================] - 1s 2ms/step - loss: 0.2230 - accuracy: 0.9296 - val_loss: 0.1514 - val_accuracy: 0.9586\n",
      "Epoch 18/1000\n",
      "694/694 [==============================] - 1s 2ms/step - loss: 0.2172 - accuracy: 0.9315 - val_loss: 0.1426 - val_accuracy: 0.9561\n",
      "Epoch 19/1000\n",
      "694/694 [==============================] - 1s 2ms/step - loss: 0.2139 - accuracy: 0.9330 - val_loss: 0.1261 - val_accuracy: 0.9641\n",
      "Epoch 20/1000\n",
      "694/694 [==============================] - 1s 2ms/step - loss: 0.2082 - accuracy: 0.9343 - val_loss: 0.1382 - val_accuracy: 0.9593\n",
      "Epoch 21/1000\n",
      "694/694 [==============================] - 1s 2ms/step - loss: 0.2066 - accuracy: 0.9353 - val_loss: 0.1497 - val_accuracy: 0.9529\n",
      "Epoch 22/1000\n",
      "694/694 [==============================] - 1s 2ms/step - loss: 0.1993 - accuracy: 0.9372 - val_loss: 0.1321 - val_accuracy: 0.9620\n",
      "Epoch 23/1000\n",
      "694/694 [==============================] - 1s 2ms/step - loss: 0.1954 - accuracy: 0.9386 - val_loss: 0.1254 - val_accuracy: 0.9656\n",
      "Epoch 24/1000\n",
      "694/694 [==============================] - 1s 2ms/step - loss: 0.1934 - accuracy: 0.9387 - val_loss: 0.1425 - val_accuracy: 0.9574\n",
      "Epoch 25/1000\n",
      "694/694 [==============================] - 2s 2ms/step - loss: 0.1863 - accuracy: 0.9411 - val_loss: 0.1304 - val_accuracy: 0.9603\n",
      "Epoch 26/1000\n",
      "694/694 [==============================] - 2s 2ms/step - loss: 0.1838 - accuracy: 0.9424 - val_loss: 0.1274 - val_accuracy: 0.9644\n",
      "Epoch 27/1000\n",
      "694/694 [==============================] - 1s 2ms/step - loss: 0.1828 - accuracy: 0.9427 - val_loss: 0.1227 - val_accuracy: 0.9631\n",
      "Epoch 28/1000\n",
      "694/694 [==============================] - 1s 2ms/step - loss: 0.1805 - accuracy: 0.9431 - val_loss: 0.1299 - val_accuracy: 0.9599\n",
      "Epoch 29/1000\n",
      "694/694 [==============================] - 2s 2ms/step - loss: 0.1752 - accuracy: 0.9448 - val_loss: 0.1151 - val_accuracy: 0.9703\n",
      "Epoch 30/1000\n",
      "694/694 [==============================] - 2s 2ms/step - loss: 0.1730 - accuracy: 0.9449 - val_loss: 0.1160 - val_accuracy: 0.9669\n",
      "Epoch 31/1000\n",
      "694/694 [==============================] - 2s 2ms/step - loss: 0.1746 - accuracy: 0.9463 - val_loss: 0.1243 - val_accuracy: 0.9674\n",
      "Epoch 32/1000\n",
      "694/694 [==============================] - 2s 2ms/step - loss: 0.1697 - accuracy: 0.9465 - val_loss: 0.1291 - val_accuracy: 0.9622\n",
      "Epoch 33/1000\n",
      "694/694 [==============================] - 2s 2ms/step - loss: 0.1710 - accuracy: 0.9455 - val_loss: 0.1167 - val_accuracy: 0.9656\n",
      "Epoch 34/1000\n",
      "694/694 [==============================] - 2s 2ms/step - loss: 0.1670 - accuracy: 0.9475 - val_loss: 0.1332 - val_accuracy: 0.9608\n",
      "Epoch 35/1000\n",
      "694/694 [==============================] - 2s 2ms/step - loss: 0.1661 - accuracy: 0.9480 - val_loss: 0.1203 - val_accuracy: 0.9660\n",
      "Epoch 36/1000\n",
      "694/694 [==============================] - 2s 2ms/step - loss: 0.1618 - accuracy: 0.9485 - val_loss: 0.1282 - val_accuracy: 0.9611\n",
      "Epoch 37/1000\n",
      "694/694 [==============================] - 2s 2ms/step - loss: 0.1586 - accuracy: 0.9505 - val_loss: 0.1260 - val_accuracy: 0.9610\n",
      "Epoch 38/1000\n",
      "694/694 [==============================] - 2s 2ms/step - loss: 0.1615 - accuracy: 0.9492 - val_loss: 0.1182 - val_accuracy: 0.9666\n",
      "Epoch 39/1000\n",
      "694/694 [==============================] - 1s 2ms/step - loss: 0.1608 - accuracy: 0.9494 - val_loss: 0.1499 - val_accuracy: 0.9461\n",
      "Epoch 40/1000\n",
      "694/694 [==============================] - 1s 2ms/step - loss: 0.1572 - accuracy: 0.9509 - val_loss: 0.1367 - val_accuracy: 0.9562\n",
      "Epoch 41/1000\n",
      "694/694 [==============================] - 1s 2ms/step - loss: 0.1567 - accuracy: 0.9499 - val_loss: 0.1236 - val_accuracy: 0.9616\n",
      "Epoch 42/1000\n",
      "694/694 [==============================] - 2s 2ms/step - loss: 0.1550 - accuracy: 0.9512 - val_loss: 0.1390 - val_accuracy: 0.9524\n",
      "Epoch 43/1000\n",
      "694/694 [==============================] - 2s 2ms/step - loss: 0.1519 - accuracy: 0.9522 - val_loss: 0.1363 - val_accuracy: 0.9550\n",
      "Epoch 44/1000\n",
      "694/694 [==============================] - 2s 2ms/step - loss: 0.1507 - accuracy: 0.9529 - val_loss: 0.1217 - val_accuracy: 0.9629\n",
      "Epoch 45/1000\n",
      "694/694 [==============================] - 2s 2ms/step - loss: 0.1507 - accuracy: 0.9525 - val_loss: 0.1037 - val_accuracy: 0.9736\n",
      "Epoch 46/1000\n",
      "694/694 [==============================] - 2s 2ms/step - loss: 0.1473 - accuracy: 0.9538 - val_loss: 0.1424 - val_accuracy: 0.9502\n",
      "Epoch 47/1000\n",
      "694/694 [==============================] - 1s 2ms/step - loss: 0.1477 - accuracy: 0.9538 - val_loss: 0.1212 - val_accuracy: 0.9640\n",
      "Epoch 48/1000\n",
      "694/694 [==============================] - 2s 2ms/step - loss: 0.1461 - accuracy: 0.9538 - val_loss: 0.1038 - val_accuracy: 0.9708\n",
      "Epoch 49/1000\n",
      "694/694 [==============================] - 2s 2ms/step - loss: 0.1445 - accuracy: 0.9540 - val_loss: 0.1111 - val_accuracy: 0.9710\n",
      "Epoch 50/1000\n",
      "694/694 [==============================] - 2s 2ms/step - loss: 0.1407 - accuracy: 0.9558 - val_loss: 0.1529 - val_accuracy: 0.9469\n",
      "Epoch 51/1000\n",
      "694/694 [==============================] - 1s 2ms/step - loss: 0.1425 - accuracy: 0.9555 - val_loss: 0.1515 - val_accuracy: 0.9476\n",
      "Epoch 52/1000\n",
      "694/694 [==============================] - 2s 2ms/step - loss: 0.1401 - accuracy: 0.9559 - val_loss: 0.1266 - val_accuracy: 0.9572\n",
      "Epoch 53/1000\n",
      "694/694 [==============================] - 1s 2ms/step - loss: 0.1422 - accuracy: 0.9551 - val_loss: 0.1123 - val_accuracy: 0.9680\n",
      "Epoch 54/1000\n",
      "694/694 [==============================] - 2s 2ms/step - loss: 0.1399 - accuracy: 0.9569 - val_loss: 0.1046 - val_accuracy: 0.9734\n",
      "Epoch 55/1000\n",
      "694/694 [==============================] - 2s 2ms/step - loss: 0.1383 - accuracy: 0.9571 - val_loss: 0.1459 - val_accuracy: 0.9469\n",
      "Epoch 56/1000\n",
      "694/694 [==============================] - 2s 2ms/step - loss: 0.1369 - accuracy: 0.9573 - val_loss: 0.1404 - val_accuracy: 0.9534\n",
      "Epoch 57/1000\n",
      "694/694 [==============================] - 2s 2ms/step - loss: 0.1384 - accuracy: 0.9564 - val_loss: 0.1130 - val_accuracy: 0.9664\n",
      "Epoch 58/1000\n",
      "694/694 [==============================] - 2s 2ms/step - loss: 0.1382 - accuracy: 0.9574 - val_loss: 0.1244 - val_accuracy: 0.9643\n",
      "Epoch 59/1000\n",
      "694/694 [==============================] - 2s 2ms/step - loss: 0.1345 - accuracy: 0.9576 - val_loss: 0.1242 - val_accuracy: 0.9595\n",
      "Epoch 60/1000\n",
      "694/694 [==============================] - 1s 2ms/step - loss: 0.1346 - accuracy: 0.9581 - val_loss: 0.1134 - val_accuracy: 0.9693\n",
      "Epoch 61/1000\n",
      "694/694 [==============================] - 1s 2ms/step - loss: 0.1306 - accuracy: 0.9602 - val_loss: 0.1244 - val_accuracy: 0.9590\n",
      "Epoch 62/1000\n",
      "694/694 [==============================] - 1s 2ms/step - loss: 0.1319 - accuracy: 0.9591 - val_loss: 0.1160 - val_accuracy: 0.9633\n",
      "Epoch 63/1000\n",
      "694/694 [==============================] - 2s 2ms/step - loss: 0.1312 - accuracy: 0.9591 - val_loss: 0.1115 - val_accuracy: 0.9665\n",
      "Epoch 64/1000\n",
      "694/694 [==============================] - 1s 2ms/step - loss: 0.1300 - accuracy: 0.9593 - val_loss: 0.1250 - val_accuracy: 0.9621\n",
      "Epoch 65/1000\n",
      "694/694 [==============================] - 1s 2ms/step - loss: 0.1304 - accuracy: 0.9598 - val_loss: 0.1281 - val_accuracy: 0.9621\n",
      "Epoch 66/1000\n",
      "694/694 [==============================] - 1s 2ms/step - loss: 0.1297 - accuracy: 0.9593 - val_loss: 0.1189 - val_accuracy: 0.9647\n",
      "Epoch 67/1000\n",
      "694/694 [==============================] - 1s 2ms/step - loss: 0.1295 - accuracy: 0.9600 - val_loss: 0.1481 - val_accuracy: 0.9509\n",
      "Epoch 68/1000\n",
      "694/694 [==============================] - 2s 2ms/step - loss: 0.1316 - accuracy: 0.9588 - val_loss: 0.1026 - val_accuracy: 0.9707\n",
      "Epoch 69/1000\n",
      "694/694 [==============================] - 1s 2ms/step - loss: 0.1262 - accuracy: 0.9609 - val_loss: 0.1408 - val_accuracy: 0.9554\n",
      "Epoch 70/1000\n",
      "694/694 [==============================] - 2s 2ms/step - loss: 0.1260 - accuracy: 0.9598 - val_loss: 0.1283 - val_accuracy: 0.9599\n",
      "Epoch 71/1000\n",
      "694/694 [==============================] - 2s 2ms/step - loss: 0.1279 - accuracy: 0.9601 - val_loss: 0.1072 - val_accuracy: 0.9715\n",
      "Epoch 72/1000\n",
      "694/694 [==============================] - 2s 3ms/step - loss: 0.1257 - accuracy: 0.9607 - val_loss: 0.1048 - val_accuracy: 0.9719\n",
      "Epoch 73/1000\n",
      "694/694 [==============================] - 2s 3ms/step - loss: 0.1289 - accuracy: 0.9602 - val_loss: 0.1360 - val_accuracy: 0.9558\n",
      "Epoch 74/1000\n",
      "694/694 [==============================] - 2s 2ms/step - loss: 0.1246 - accuracy: 0.9614 - val_loss: 0.1228 - val_accuracy: 0.9661\n",
      "Epoch 75/1000\n",
      "694/694 [==============================] - 2s 2ms/step - loss: 0.1235 - accuracy: 0.9618 - val_loss: 0.1174 - val_accuracy: 0.9670\n",
      "Epoch 76/1000\n",
      "694/694 [==============================] - 2s 2ms/step - loss: 0.1230 - accuracy: 0.9612 - val_loss: 0.1301 - val_accuracy: 0.9601\n",
      "Epoch 77/1000\n",
      "694/694 [==============================] - 2s 2ms/step - loss: 0.1202 - accuracy: 0.9620 - val_loss: 0.1027 - val_accuracy: 0.9743\n",
      "Epoch 78/1000\n",
      "694/694 [==============================] - 2s 2ms/step - loss: 0.1212 - accuracy: 0.9627 - val_loss: 0.1177 - val_accuracy: 0.9613\n",
      "Epoch 79/1000\n",
      "694/694 [==============================] - 2s 2ms/step - loss: 0.1200 - accuracy: 0.9623 - val_loss: 0.1216 - val_accuracy: 0.9638\n",
      "Epoch 80/1000\n",
      "694/694 [==============================] - 2s 3ms/step - loss: 0.1206 - accuracy: 0.9623 - val_loss: 0.1225 - val_accuracy: 0.9612\n",
      "Epoch 81/1000\n",
      "694/694 [==============================] - 1s 2ms/step - loss: 0.1224 - accuracy: 0.9617 - val_loss: 0.1414 - val_accuracy: 0.9503\n",
      "Epoch 82/1000\n",
      "694/694 [==============================] - 2s 2ms/step - loss: 0.1224 - accuracy: 0.9622 - val_loss: 0.1321 - val_accuracy: 0.9565\n",
      "Epoch 83/1000\n",
      "694/694 [==============================] - 2s 2ms/step - loss: 0.1192 - accuracy: 0.9627 - val_loss: 0.1110 - val_accuracy: 0.9651\n",
      "Epoch 84/1000\n",
      "694/694 [==============================] - 2s 2ms/step - loss: 0.1214 - accuracy: 0.9622 - val_loss: 0.1425 - val_accuracy: 0.9558\n",
      "Epoch 85/1000\n",
      "694/694 [==============================] - 2s 2ms/step - loss: 0.1212 - accuracy: 0.9617 - val_loss: 0.1205 - val_accuracy: 0.9640\n",
      "Epoch 86/1000\n",
      "694/694 [==============================] - 2s 3ms/step - loss: 0.1187 - accuracy: 0.9632 - val_loss: 0.1092 - val_accuracy: 0.9693\n",
      "Epoch 87/1000\n",
      "694/694 [==============================] - 2s 3ms/step - loss: 0.1146 - accuracy: 0.9644 - val_loss: 0.0951 - val_accuracy: 0.9749\n",
      "Epoch 88/1000\n",
      "694/694 [==============================] - 2s 3ms/step - loss: 0.1167 - accuracy: 0.9636 - val_loss: 0.1303 - val_accuracy: 0.9583\n",
      "Epoch 89/1000\n",
      "694/694 [==============================] - 2s 2ms/step - loss: 0.1163 - accuracy: 0.9633 - val_loss: 0.1398 - val_accuracy: 0.9548\n",
      "Epoch 90/1000\n",
      "694/694 [==============================] - 2s 2ms/step - loss: 0.1157 - accuracy: 0.9637 - val_loss: 0.1028 - val_accuracy: 0.9744\n",
      "Epoch 91/1000\n",
      "694/694 [==============================] - 2s 2ms/step - loss: 0.1167 - accuracy: 0.9638 - val_loss: 0.1245 - val_accuracy: 0.9633\n",
      "Epoch 92/1000\n",
      "694/694 [==============================] - 2s 2ms/step - loss: 0.1145 - accuracy: 0.9643 - val_loss: 0.1326 - val_accuracy: 0.9563\n",
      "Epoch 93/1000\n",
      "694/694 [==============================] - 2s 2ms/step - loss: 0.1154 - accuracy: 0.9638 - val_loss: 0.1119 - val_accuracy: 0.9690\n",
      "Epoch 94/1000\n",
      "694/694 [==============================] - 2s 2ms/step - loss: 0.1137 - accuracy: 0.9647 - val_loss: 0.1234 - val_accuracy: 0.9619\n",
      "Epoch 95/1000\n",
      "694/694 [==============================] - 1s 2ms/step - loss: 0.1119 - accuracy: 0.9647 - val_loss: 0.1185 - val_accuracy: 0.9635\n",
      "Epoch 96/1000\n",
      "694/694 [==============================] - 2s 2ms/step - loss: 0.1112 - accuracy: 0.9647 - val_loss: 0.1325 - val_accuracy: 0.9571\n",
      "Epoch 97/1000\n",
      "694/694 [==============================] - 2s 3ms/step - loss: 0.1167 - accuracy: 0.9639 - val_loss: 0.1277 - val_accuracy: 0.9641\n",
      "Epoch 98/1000\n",
      "694/694 [==============================] - 2s 3ms/step - loss: 0.1137 - accuracy: 0.9648 - val_loss: 0.1173 - val_accuracy: 0.9639\n",
      "Epoch 99/1000\n",
      "694/694 [==============================] - 1s 2ms/step - loss: 0.1153 - accuracy: 0.9636 - val_loss: 0.1379 - val_accuracy: 0.9551\n",
      "Epoch 100/1000\n",
      "694/694 [==============================] - 2s 2ms/step - loss: 0.1145 - accuracy: 0.9643 - val_loss: 0.1253 - val_accuracy: 0.9633\n",
      "Epoch 101/1000\n",
      "694/694 [==============================] - 2s 2ms/step - loss: 0.1151 - accuracy: 0.9640 - val_loss: 0.1302 - val_accuracy: 0.9579\n",
      "Epoch 102/1000\n",
      "694/694 [==============================] - 2s 3ms/step - loss: 0.1107 - accuracy: 0.9654 - val_loss: 0.1474 - val_accuracy: 0.9526\n",
      "Epoch 103/1000\n",
      "694/694 [==============================] - 2s 3ms/step - loss: 0.1119 - accuracy: 0.9649 - val_loss: 0.1289 - val_accuracy: 0.9583\n",
      "Epoch 104/1000\n",
      "694/694 [==============================] - 2s 2ms/step - loss: 0.1115 - accuracy: 0.9657 - val_loss: 0.1134 - val_accuracy: 0.9670\n",
      "Epoch 105/1000\n",
      "694/694 [==============================] - 2s 3ms/step - loss: 0.1109 - accuracy: 0.9648 - val_loss: 0.1160 - val_accuracy: 0.9676\n",
      "Epoch 106/1000\n",
      "694/694 [==============================] - 2s 2ms/step - loss: 0.1083 - accuracy: 0.9657 - val_loss: 0.1489 - val_accuracy: 0.9488\n",
      "Epoch 107/1000\n",
      "694/694 [==============================] - 2s 2ms/step - loss: 0.1126 - accuracy: 0.9656 - val_loss: 0.1069 - val_accuracy: 0.9699\n",
      "Epoch 108/1000\n",
      "694/694 [==============================] - 2s 2ms/step - loss: 0.1105 - accuracy: 0.9654 - val_loss: 0.1341 - val_accuracy: 0.9560\n",
      "Epoch 109/1000\n",
      "694/694 [==============================] - 2s 2ms/step - loss: 0.1080 - accuracy: 0.9660 - val_loss: 0.1475 - val_accuracy: 0.9474\n",
      "Epoch 110/1000\n",
      "694/694 [==============================] - 2s 2ms/step - loss: 0.1107 - accuracy: 0.9650 - val_loss: 0.1242 - val_accuracy: 0.9613\n",
      "Epoch 111/1000\n",
      "694/694 [==============================] - 2s 2ms/step - loss: 0.1115 - accuracy: 0.9653 - val_loss: 0.1238 - val_accuracy: 0.9588\n",
      "Epoch 112/1000\n",
      "694/694 [==============================] - 2s 2ms/step - loss: 0.1116 - accuracy: 0.9646 - val_loss: 0.1294 - val_accuracy: 0.9601\n",
      "Epoch 113/1000\n",
      "694/694 [==============================] - 2s 2ms/step - loss: 0.1086 - accuracy: 0.9669 - val_loss: 0.1055 - val_accuracy: 0.9706\n",
      "Epoch 114/1000\n",
      "694/694 [==============================] - 2s 2ms/step - loss: 0.1072 - accuracy: 0.9669 - val_loss: 0.1348 - val_accuracy: 0.9576\n",
      "Epoch 115/1000\n",
      "694/694 [==============================] - 2s 2ms/step - loss: 0.1101 - accuracy: 0.9656 - val_loss: 0.1450 - val_accuracy: 0.9546\n",
      "Epoch 116/1000\n",
      "694/694 [==============================] - 2s 2ms/step - loss: 0.1092 - accuracy: 0.9660 - val_loss: 0.1372 - val_accuracy: 0.9556\n",
      "Epoch 117/1000\n",
      "694/694 [==============================] - 2s 2ms/step - loss: 0.1075 - accuracy: 0.9657 - val_loss: 0.1220 - val_accuracy: 0.9628\n",
      "Epoch 118/1000\n",
      "694/694 [==============================] - 2s 2ms/step - loss: 0.1072 - accuracy: 0.9661 - val_loss: 0.0989 - val_accuracy: 0.9703\n",
      "Epoch 119/1000\n",
      "694/694 [==============================] - 2s 2ms/step - loss: 0.1090 - accuracy: 0.9659 - val_loss: 0.1245 - val_accuracy: 0.9631\n",
      "Epoch 120/1000\n",
      "694/694 [==============================] - 2s 2ms/step - loss: 0.1081 - accuracy: 0.9667 - val_loss: 0.0965 - val_accuracy: 0.9731\n",
      "Epoch 121/1000\n",
      "694/694 [==============================] - 2s 2ms/step - loss: 0.1083 - accuracy: 0.9663 - val_loss: 0.1294 - val_accuracy: 0.9636\n",
      "Epoch 122/1000\n",
      "694/694 [==============================] - 2s 2ms/step - loss: 0.1065 - accuracy: 0.9665 - val_loss: 0.1237 - val_accuracy: 0.9645\n",
      "Epoch 123/1000\n",
      "694/694 [==============================] - 2s 2ms/step - loss: 0.1066 - accuracy: 0.9664 - val_loss: 0.1516 - val_accuracy: 0.9486\n",
      "Epoch 124/1000\n",
      "694/694 [==============================] - 2s 2ms/step - loss: 0.1065 - accuracy: 0.9663 - val_loss: 0.1194 - val_accuracy: 0.9652\n",
      "Epoch 125/1000\n",
      "694/694 [==============================] - 2s 2ms/step - loss: 0.1032 - accuracy: 0.9676 - val_loss: 0.1254 - val_accuracy: 0.9618\n",
      "Epoch 126/1000\n",
      "694/694 [==============================] - 2s 2ms/step - loss: 0.1039 - accuracy: 0.9675 - val_loss: 0.1173 - val_accuracy: 0.9641\n",
      "Epoch 127/1000\n",
      "694/694 [==============================] - 2s 2ms/step - loss: 0.1049 - accuracy: 0.9667 - val_loss: 0.1243 - val_accuracy: 0.9625\n",
      "Epoch 128/1000\n",
      "694/694 [==============================] - 2s 2ms/step - loss: 0.1061 - accuracy: 0.9672 - val_loss: 0.1202 - val_accuracy: 0.9621\n",
      "Epoch 129/1000\n",
      "694/694 [==============================] - 2s 2ms/step - loss: 0.1047 - accuracy: 0.9670 - val_loss: 0.1168 - val_accuracy: 0.9644\n",
      "Epoch 130/1000\n",
      "694/694 [==============================] - 2s 2ms/step - loss: 0.1047 - accuracy: 0.9666 - val_loss: 0.1210 - val_accuracy: 0.9643\n",
      "Epoch 131/1000\n",
      "694/694 [==============================] - 2s 2ms/step - loss: 0.1053 - accuracy: 0.9671 - val_loss: 0.1363 - val_accuracy: 0.9556\n",
      "Epoch 132/1000\n",
      "694/694 [==============================] - 2s 2ms/step - loss: 0.1072 - accuracy: 0.9663 - val_loss: 0.0967 - val_accuracy: 0.9711\n",
      "Epoch 133/1000\n",
      "694/694 [==============================] - 2s 2ms/step - loss: 0.1054 - accuracy: 0.9668 - val_loss: 0.1483 - val_accuracy: 0.9501\n",
      "Epoch 134/1000\n",
      "694/694 [==============================] - 2s 2ms/step - loss: 0.1038 - accuracy: 0.9672 - val_loss: 0.1247 - val_accuracy: 0.9612\n",
      "Epoch 135/1000\n",
      "694/694 [==============================] - 2s 2ms/step - loss: 0.1014 - accuracy: 0.9676 - val_loss: 0.1118 - val_accuracy: 0.9672\n",
      "Epoch 136/1000\n",
      "694/694 [==============================] - 2s 2ms/step - loss: 0.1029 - accuracy: 0.9670 - val_loss: 0.1353 - val_accuracy: 0.9571\n",
      "Epoch 137/1000\n",
      "694/694 [==============================] - 2s 2ms/step - loss: 0.1032 - accuracy: 0.9675 - val_loss: 0.1505 - val_accuracy: 0.9531\n",
      "Epoch 138/1000\n",
      "694/694 [==============================] - 2s 2ms/step - loss: 0.1038 - accuracy: 0.9676 - val_loss: 0.1269 - val_accuracy: 0.9604\n",
      "Epoch 139/1000\n",
      "694/694 [==============================] - 2s 2ms/step - loss: 0.1017 - accuracy: 0.9683 - val_loss: 0.1203 - val_accuracy: 0.9649\n",
      "Epoch 140/1000\n",
      "694/694 [==============================] - 2s 2ms/step - loss: 0.1012 - accuracy: 0.9674 - val_loss: 0.1158 - val_accuracy: 0.9651\n",
      "Epoch 141/1000\n",
      "694/694 [==============================] - 1s 2ms/step - loss: 0.1017 - accuracy: 0.9683 - val_loss: 0.1400 - val_accuracy: 0.9551\n",
      "Epoch 142/1000\n",
      "694/694 [==============================] - 2s 2ms/step - loss: 0.1027 - accuracy: 0.9674 - val_loss: 0.1525 - val_accuracy: 0.9498\n",
      "Epoch 143/1000\n",
      "694/694 [==============================] - 2s 2ms/step - loss: 0.1042 - accuracy: 0.9675 - val_loss: 0.1447 - val_accuracy: 0.9522\n",
      "Epoch 144/1000\n",
      "694/694 [==============================] - 2s 2ms/step - loss: 0.1013 - accuracy: 0.9683 - val_loss: 0.1352 - val_accuracy: 0.9585\n",
      "Epoch 145/1000\n",
      "694/694 [==============================] - 2s 2ms/step - loss: 0.1003 - accuracy: 0.9686 - val_loss: 0.1118 - val_accuracy: 0.9663\n",
      "Epoch 146/1000\n",
      "694/694 [==============================] - 2s 2ms/step - loss: 0.1024 - accuracy: 0.9679 - val_loss: 0.1569 - val_accuracy: 0.9471\n",
      "Epoch 147/1000\n",
      "694/694 [==============================] - 2s 2ms/step - loss: 0.1001 - accuracy: 0.9677 - val_loss: 0.1030 - val_accuracy: 0.9696\n",
      "Epoch 148/1000\n",
      "694/694 [==============================] - 2s 2ms/step - loss: 0.1015 - accuracy: 0.9680 - val_loss: 0.1649 - val_accuracy: 0.9472\n",
      "Epoch 149/1000\n",
      "694/694 [==============================] - 2s 3ms/step - loss: 0.1011 - accuracy: 0.9679 - val_loss: 0.1403 - val_accuracy: 0.9549\n",
      "Epoch 150/1000\n",
      "694/694 [==============================] - 2s 2ms/step - loss: 0.1003 - accuracy: 0.9681 - val_loss: 0.1048 - val_accuracy: 0.9685\n",
      "Epoch 151/1000\n",
      "694/694 [==============================] - 2s 2ms/step - loss: 0.1004 - accuracy: 0.9686 - val_loss: 0.1526 - val_accuracy: 0.9530\n",
      "Epoch 152/1000\n",
      "694/694 [==============================] - 1s 2ms/step - loss: 0.0988 - accuracy: 0.9688 - val_loss: 0.1562 - val_accuracy: 0.9481\n",
      "Epoch 153/1000\n",
      "694/694 [==============================] - 2s 2ms/step - loss: 0.1000 - accuracy: 0.9684 - val_loss: 0.1407 - val_accuracy: 0.9572\n",
      "Epoch 154/1000\n",
      "694/694 [==============================] - 2s 2ms/step - loss: 0.0997 - accuracy: 0.9679 - val_loss: 0.2172 - val_accuracy: 0.9249\n",
      "Epoch 155/1000\n",
      "694/694 [==============================] - 2s 2ms/step - loss: 0.0971 - accuracy: 0.9691 - val_loss: 0.1309 - val_accuracy: 0.9558\n",
      "Epoch 156/1000\n",
      "694/694 [==============================] - 2s 2ms/step - loss: 0.1002 - accuracy: 0.9682 - val_loss: 0.1372 - val_accuracy: 0.9554\n",
      "Epoch 157/1000\n",
      "694/694 [==============================] - 2s 2ms/step - loss: 0.0981 - accuracy: 0.9693 - val_loss: 0.1441 - val_accuracy: 0.9503\n",
      "Epoch 158/1000\n",
      "694/694 [==============================] - 2s 2ms/step - loss: 0.0987 - accuracy: 0.9692 - val_loss: 0.1462 - val_accuracy: 0.9508\n",
      "Epoch 159/1000\n",
      "694/694 [==============================] - 2s 2ms/step - loss: 0.0978 - accuracy: 0.9694 - val_loss: 0.1522 - val_accuracy: 0.9486\n",
      "Epoch 160/1000\n",
      "694/694 [==============================] - 2s 2ms/step - loss: 0.0972 - accuracy: 0.9690 - val_loss: 0.1119 - val_accuracy: 0.9681\n",
      "Epoch 161/1000\n",
      "694/694 [==============================] - 2s 2ms/step - loss: 0.0978 - accuracy: 0.9692 - val_loss: 0.1442 - val_accuracy: 0.9535\n",
      "Epoch 162/1000\n",
      "694/694 [==============================] - 2s 2ms/step - loss: 0.0980 - accuracy: 0.9693 - val_loss: 0.1434 - val_accuracy: 0.9540\n",
      "Epoch 163/1000\n",
      "694/694 [==============================] - 2s 2ms/step - loss: 0.0958 - accuracy: 0.9694 - val_loss: 0.1311 - val_accuracy: 0.9578\n",
      "Epoch 164/1000\n",
      "694/694 [==============================] - 2s 2ms/step - loss: 0.0988 - accuracy: 0.9692 - val_loss: 0.1367 - val_accuracy: 0.9566\n",
      "Epoch 165/1000\n",
      "694/694 [==============================] - 2s 2ms/step - loss: 0.0967 - accuracy: 0.9691 - val_loss: 0.1196 - val_accuracy: 0.9638\n",
      "Epoch 166/1000\n",
      "694/694 [==============================] - 2s 2ms/step - loss: 0.0961 - accuracy: 0.9698 - val_loss: 0.1554 - val_accuracy: 0.9481\n",
      "Epoch 167/1000\n",
      "694/694 [==============================] - 2s 2ms/step - loss: 0.0975 - accuracy: 0.9690 - val_loss: 0.1505 - val_accuracy: 0.9531\n",
      "Epoch 168/1000\n",
      "694/694 [==============================] - 2s 2ms/step - loss: 0.0960 - accuracy: 0.9694 - val_loss: 0.1501 - val_accuracy: 0.9510\n",
      "Epoch 169/1000\n",
      "694/694 [==============================] - 2s 2ms/step - loss: 0.0972 - accuracy: 0.9693 - val_loss: 0.1233 - val_accuracy: 0.9617\n",
      "Epoch 170/1000\n",
      "694/694 [==============================] - 2s 2ms/step - loss: 0.0989 - accuracy: 0.9688 - val_loss: 0.1132 - val_accuracy: 0.9664\n",
      "Epoch 171/1000\n",
      "694/694 [==============================] - 2s 2ms/step - loss: 0.0971 - accuracy: 0.9693 - val_loss: 0.1432 - val_accuracy: 0.9513\n",
      "Epoch 172/1000\n",
      "694/694 [==============================] - 1s 2ms/step - loss: 0.0954 - accuracy: 0.9696 - val_loss: 0.1286 - val_accuracy: 0.9577\n",
      "Epoch 173/1000\n",
      "694/694 [==============================] - 1s 2ms/step - loss: 0.0936 - accuracy: 0.9704 - val_loss: 0.1346 - val_accuracy: 0.9596\n",
      "Epoch 174/1000\n",
      "694/694 [==============================] - 2s 2ms/step - loss: 0.0944 - accuracy: 0.9705 - val_loss: 0.1599 - val_accuracy: 0.9514\n",
      "Epoch 175/1000\n",
      "694/694 [==============================] - 2s 2ms/step - loss: 0.0954 - accuracy: 0.9699 - val_loss: 0.1474 - val_accuracy: 0.9523\n",
      "Epoch 176/1000\n",
      "694/694 [==============================] - 2s 2ms/step - loss: 0.0962 - accuracy: 0.9694 - val_loss: 0.1578 - val_accuracy: 0.9499\n",
      "Epoch 177/1000\n",
      "694/694 [==============================] - 2s 2ms/step - loss: 0.0947 - accuracy: 0.9695 - val_loss: 0.1504 - val_accuracy: 0.9514\n",
      "Epoch 178/1000\n",
      "694/694 [==============================] - 2s 2ms/step - loss: 0.0951 - accuracy: 0.9698 - val_loss: 0.1529 - val_accuracy: 0.9500\n",
      "Epoch 179/1000\n",
      "694/694 [==============================] - 2s 2ms/step - loss: 0.0943 - accuracy: 0.9701 - val_loss: 0.1207 - val_accuracy: 0.9640\n",
      "Epoch 180/1000\n",
      "694/694 [==============================] - 2s 2ms/step - loss: 0.0931 - accuracy: 0.9710 - val_loss: 0.1227 - val_accuracy: 0.9614\n",
      "Epoch 181/1000\n",
      "694/694 [==============================] - 2s 2ms/step - loss: 0.0934 - accuracy: 0.9709 - val_loss: 0.1609 - val_accuracy: 0.9485\n",
      "Epoch 182/1000\n",
      "694/694 [==============================] - 2s 2ms/step - loss: 0.0943 - accuracy: 0.9698 - val_loss: 0.1282 - val_accuracy: 0.9605\n",
      "Epoch 183/1000\n",
      "694/694 [==============================] - 2s 2ms/step - loss: 0.0944 - accuracy: 0.9699 - val_loss: 0.1314 - val_accuracy: 0.9571\n",
      "Epoch 184/1000\n",
      "694/694 [==============================] - 2s 2ms/step - loss: 0.0948 - accuracy: 0.9700 - val_loss: 0.1310 - val_accuracy: 0.9593\n",
      "Epoch 185/1000\n",
      "694/694 [==============================] - 2s 2ms/step - loss: 0.0939 - accuracy: 0.9706 - val_loss: 0.1352 - val_accuracy: 0.9581\n",
      "Epoch 186/1000\n",
      "694/694 [==============================] - 1s 2ms/step - loss: 0.0978 - accuracy: 0.9687 - val_loss: 0.1570 - val_accuracy: 0.9479\n",
      "Epoch 187/1000\n",
      "694/694 [==============================] - 2s 2ms/step - loss: 0.0933 - accuracy: 0.9705 - val_loss: 0.1191 - val_accuracy: 0.9615\n",
      "Epoch 187: early stopping\n"
     ]
    },
    {
     "data": {
      "text/plain": "<keras.callbacks.History at 0x259677c3f40>"
     },
     "execution_count": 12,
     "metadata": {},
     "output_type": "execute_result"
    }
   ],
   "source": [
    "model.fit(\n",
    "    X_train,\n",
    "    y_train_encoded,\n",
    "    epochs=1000,\n",
    "    batch_size=128,\n",
    "    validation_data=(X_test, y_test_encoded),\n",
    "    callbacks=[es_callback]    # callbacks=[cp_callback, es_callback]\n",
    ")"
   ]
  },
  {
   "cell_type": "code",
   "execution_count": 13,
   "metadata": {
    "ExecuteTime": {
     "end_time": "2024-04-21T19:49:55.142601Z",
     "start_time": "2024-04-21T19:49:54.833987Z"
    }
   },
   "outputs": [
    {
     "name": "stdout",
     "output_type": "stream",
     "text": [
      "174/174 [==============================] - 0s 1ms/step - loss: 0.1191 - accuracy: 0.9615\n"
     ]
    }
   ],
   "source": [
    "val_loss, val_acc = model.evaluate(X_test, y_test_encoded, batch_size=128)"
   ]
  },
  {
   "cell_type": "code",
   "execution_count": 14,
   "metadata": {
    "ExecuteTime": {
     "end_time": "2024-04-21T19:49:55.173551Z",
     "start_time": "2024-04-21T19:49:55.152882Z"
    }
   },
   "outputs": [],
   "source": [
    "# model = tf.keras.models.load_model(model_save_path)"
   ]
  },
  {
   "cell_type": "code",
   "execution_count": 15,
   "metadata": {
    "ExecuteTime": {
     "end_time": "2024-04-21T19:49:55.327791Z",
     "start_time": "2024-04-21T19:49:55.175549Z"
    }
   },
   "outputs": [
    {
     "name": "stdout",
     "output_type": "stream",
     "text": [
      "1/1 [==============================] - 0s 58ms/step\n",
      "[8.55311733e-09 1.08366116e-13 9.93599727e-08 1.19098491e-08\n",
      " 4.07958632e-11 2.33223463e-09 3.67767683e-08 1.76439382e-04\n",
      " 1.37827470e-07 4.42030313e-07 8.59835748e-21 2.83795612e-06\n",
      " 7.22056939e-07 3.34141419e-06 6.71058278e-11 9.97440815e-01\n",
      " 1.98344723e-03 6.51900409e-13 3.83955749e-11 7.37949861e-08\n",
      " 2.11550561e-14 2.37980924e-12 6.36325628e-13 1.03124906e-14\n",
      " 8.87318760e-11 2.91418860e-06 3.87281994e-04 1.33974129e-06]\n",
      "15\n"
     ]
    }
   ],
   "source": [
    "predict_result = model.predict(np.array([X_test[0]]))\n",
    "print(np.squeeze(predict_result))\n",
    "print(np.argmax(np.squeeze(predict_result)))"
   ]
  },
  {
   "cell_type": "markdown",
   "metadata": {},
   "source": []
  },
  {
   "cell_type": "code",
   "execution_count": 16,
   "metadata": {
    "ExecuteTime": {
     "end_time": "2024-04-21T19:50:00.182716Z",
     "start_time": "2024-04-21T19:49:55.328767Z"
    }
   },
   "outputs": [
    {
     "name": "stdout",
     "output_type": "stream",
     "text": [
      "694/694 [==============================] - 1s 821us/step\n"
     ]
    },
    {
     "data": {
      "text/plain": "<Figure size 700x600 with 2 Axes>",
      "image/png": "[encoded data removed]"
     },
     "metadata": {},
     "output_type": "display_data"
    },
    {
     "name": "stdout",
     "output_type": "stream",
     "text": [
      "Classification Report\n",
      "              precision    recall  f1-score   support\n",
      "\n",
      "           A       0.97      1.00      0.98       813\n",
      "           B       1.00      1.00      1.00       895\n",
      "           C       1.00      0.99      1.00       577\n",
      "           D       0.97      0.99      0.98       829\n",
      "           E       0.99      0.96      0.98       873\n",
      "           F       1.00      1.00      1.00      1047\n",
      "           G       0.99      1.00      1.00       993\n",
      "           H       1.00      1.00      1.00       859\n",
      "           I       0.98      0.99      0.98       835\n",
      "           J       0.99      0.98      0.99       933\n",
      "           K       1.00      0.90      0.95      1015\n",
      "           L       0.89      1.00      0.94       910\n",
      "           M       0.93      0.77      0.85       334\n",
      "           N       0.80      0.96      0.87       314\n",
      "           O       0.99      0.96      0.97       663\n",
      "           P       1.00      0.98      0.99       766\n",
      "           Q       0.98      1.00      0.99       718\n",
      "           R       0.99      0.94      0.96       910\n",
      "           S       0.98      0.81      0.88       945\n",
      "           T       1.00      0.85      0.92       906\n",
      "           U       0.83      0.99      0.90       927\n",
      "           V       0.90      0.98      0.94       930\n",
      "           W       1.00      0.98      0.99       910\n",
      "           X       0.78      0.87      0.82       814\n",
      "           Y       1.00      1.00      1.00       975\n",
      "           Z       1.00      0.99      0.99       843\n",
      "        _del       0.99      0.99      0.99       405\n",
      "      _space       0.98      0.97      0.98       257\n",
      "\n",
      "    accuracy                           0.96     22196\n",
      "   macro avg       0.96      0.96      0.96     22196\n",
      "weighted avg       0.96      0.96      0.96     22196\n",
      "\n"
     ]
    }
   ],
   "source": [
    "import pandas as pd\n",
    "import seaborn as sns\n",
    "import matplotlib.pyplot as plt\n",
    "from sklearn.metrics import confusion_matrix, classification_report\n",
    "\n",
    "def print_confusion_matrix(y_true, y_pred, report=True):\n",
    "    labels = sorted(list(set(y_true)))\n",
    "    cmx_data = confusion_matrix(y_true, y_pred, labels=labels)\n",
    "    \n",
    "    df_cmx = pd.DataFrame(cmx_data, index=labels, columns=labels)\n",
    " \n",
    "    fig, ax = plt.subplots(figsize=(7, 6))\n",
    "    sns.heatmap(df_cmx, annot=True, fmt='g' ,square=False)\n",
    "    ax.set_ylim(len(set(y_true)), 0)\n",
    "    plt.show()\n",
    "    \n",
    "    if report:\n",
    "        print('Classification Report')\n",
    "        print(classification_report(y_test, y_pred))\n",
    "\n",
    "Y_pred = model.predict(X_test)\n",
    "y_pred = np.argmax(Y_pred, axis=1)\n",
    "\n",
    "label_encoder.fit(y_train)\n",
    "y_test_decoded = label_encoder.inverse_transform(y_test_encoded)\n",
    "y_pred_decoded = label_encoder.inverse_transform(y_pred)\n",
    "\n",
    "print_confusion_matrix(y_test_decoded, y_pred_decoded)"
   ]
  },
  {
   "cell_type": "markdown",
   "metadata": {},
   "source": [
    "# Tensorflow-Lite"
   ]
  },
  {
   "cell_type": "code",
   "execution_count": 17,
   "metadata": {
    "ExecuteTime": {
     "end_time": "2024-04-21T19:50:00.616908Z",
     "start_time": "2024-04-21T19:50:00.184721Z"
    }
   },
   "outputs": [],
   "source": [
    "model.save(model_save_path, include_optimizer=False)"
   ]
  },
  {
   "cell_type": "code",
   "execution_count": 18,
   "metadata": {
    "ExecuteTime": {
     "end_time": "2024-04-21T19:51:41.027320Z",
     "start_time": "2024-04-21T19:51:39.143461Z"
    }
   },
   "outputs": [
    {
     "name": "stderr",
     "output_type": "stream",
     "text": [
      "WARNING:absl:Found untraced functions such as _update_step_xla while saving (showing 1 of 1). These functions will not be directly callable after loading.\n"
     ]
    },
    {
     "name": "stdout",
     "output_type": "stream",
     "text": [
      "INFO:tensorflow:Assets written to: C:\\Users\\ivono\\AppData\\Local\\Temp\\tmp8_v5smrr\\assets\n"
     ]
    },
    {
     "name": "stderr",
     "output_type": "stream",
     "text": [
      "INFO:tensorflow:Assets written to: C:\\Users\\ivono\\AppData\\Local\\Temp\\tmp8_v5smrr\\assets\n"
     ]
    },
    {
     "data": {
      "text/plain": "13416"
     },
     "execution_count": 18,
     "metadata": {},
     "output_type": "execute_result"
    }
   ],
   "source": [
    "converter = tf.lite.TFLiteConverter.from_keras_model(model)\n",
    "converter.optimizations = [tf.lite.Optimize.DEFAULT]\n",
    "tflite_quantized_model = converter.convert()\n",
    "\n",
    "open(tflite_save_path, 'wb').write(tflite_quantized_model)"
   ]
  },
  {
   "cell_type": "code",
   "execution_count": 19,
   "metadata": {
    "ExecuteTime": {
     "end_time": "2024-04-21T19:50:05.081668Z",
     "start_time": "2024-04-21T19:50:04.981842Z"
    }
   },
   "outputs": [],
   "source": [
    "interpreter = tf.lite.Interpreter(model_path=tflite_save_path)\n",
    "interpreter.allocate_tensors()"
   ]
  },
  {
   "cell_type": "code",
   "execution_count": 20,
   "metadata": {
    "ExecuteTime": {
     "end_time": "2024-04-21T19:50:05.097164Z",
     "start_time": "2024-04-21T19:50:05.083667Z"
    }
   },
   "outputs": [],
   "source": [
    "input_details = interpreter.get_input_details()\n",
    "output_details = interpreter.get_output_details()"
   ]
  },
  {
   "cell_type": "code",
   "execution_count": 21,
   "metadata": {
    "ExecuteTime": {
     "end_time": "2024-04-21T19:50:05.112193Z",
     "start_time": "2024-04-21T19:50:05.099165Z"
    }
   },
   "outputs": [],
   "source": [
    "interpreter.set_tensor(input_details[0]['index'], np.array([X_test[0]]))"
   ]
  },
  {
   "cell_type": "code",
   "execution_count": 22,
   "metadata": {
    "scrolled": true,
    "ExecuteTime": {
     "end_time": "2024-04-21T19:50:05.127392Z",
     "start_time": "2024-04-21T19:50:05.115195Z"
    }
   },
   "outputs": [
    {
     "name": "stdout",
     "output_type": "stream",
     "text": [
      "CPU times: total: 0 ns\n",
      "Wall time: 0 ns\n"
     ]
    }
   ],
   "source": [
    "%%time\n",
    "interpreter.invoke()\n",
    "tflite_results = interpreter.get_tensor(output_details[0]['index'])"
   ]
  },
  {
   "cell_type": "code",
   "execution_count": 23,
   "metadata": {
    "ExecuteTime": {
     "end_time": "2024-04-21T19:50:05.142974Z",
     "start_time": "2024-04-21T19:50:05.131412Z"
    }
   },
   "outputs": [
    {
     "name": "stdout",
     "output_type": "stream",
     "text": [
      "[5.66272407e-09 6.92694871e-14 3.03373433e-08 7.12971104e-09\n",
      " 9.71902767e-12 1.15868370e-09 1.00405764e-07 1.30564309e-04\n",
      " 1.26969454e-07 5.06496406e-07 6.19185805e-21 7.38705694e-07\n",
      " 3.72745092e-07 1.30790875e-06 1.98074647e-11 9.99382138e-01\n",
      " 4.08770429e-04 5.18182719e-13 6.22791662e-12 1.35837528e-08\n",
      " 1.89728028e-14 2.07709024e-12 3.51595706e-13 4.15097601e-15\n",
      " 7.99192934e-11 1.23236316e-06 7.36548827e-05 3.44443976e-07]\n",
      "15\n"
     ]
    }
   ],
   "source": [
    "print(np.squeeze(tflite_results))\n",
    "print(np.argmax(np.squeeze(tflite_results)))"
   ]
  },
  {
   "cell_type": "code",
   "execution_count": 23,
   "outputs": [],
   "source": [],
   "metadata": {
    "collapsed": false,
    "ExecuteTime": {
     "end_time": "2024-04-21T19:50:05.158481Z",
     "start_time": "2024-04-21T19:50:05.145974Z"
    }
   }
  }
 ],
 "metadata": {
  "kernelspec": {
   "display_name": "Python 3",
   "language": "python",
   "name": "python3"
  },
  "language_info": {
   "codemirror_mode": {
    "name": "ipython",
    "version": 3
   },
   "file_extension": ".py",
   "mimetype": "text/x-python",
   "name": "python",
   "nbconvert_exporter": "python",
   "pygments_lexer": "ipython3",
   "version": "3.8.5"
  }
 },
 "nbformat": 4,
 "nbformat_minor": 4
}
